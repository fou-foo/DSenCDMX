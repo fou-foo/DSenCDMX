{
 "cells": [
  {
   "cell_type": "markdown",
   "metadata": {},
   "source": [
    "# Gradiente Descendente Estocástico\n",
    "Este es un ejemplo del uso del __gradiente descendente estocástico__ para obtener los parámetros de un modelo supervisado por regresión lineal."
   ]
  },
  {
   "cell_type": "markdown",
   "metadata": {},
   "source": [
    "### Importación de librerías"
   ]
  },
  {
   "cell_type": "code",
   "execution_count": 1,
   "metadata": {},
   "outputs": [],
   "source": [
    "import numpy as np # para vectorizar operaciones matriciales\n",
    "import matplotlib.pyplot as plt # graficos\n",
    "%matplotlib inline"
   ]
  },
  {
   "cell_type": "markdown",
   "metadata": {},
   "source": [
    "### Datos\n",
    "Generamos una muestra "
   ]
  },
  {
   "cell_type": "code",
   "execution_count": 2,
   "metadata": {
    "scrolled": true
   },
   "outputs": [
    {
     "name": "stdout",
     "output_type": "stream",
     "text": [
      "(8, 1)\n",
      "(8,)\n"
     ]
    },
    {
     "data": {
      "text/plain": [
       "<matplotlib.collections.PathCollection at 0x2083a7a0438>"
      ]
     },
     "execution_count": 2,
     "metadata": {},
     "output_type": "execute_result"
    },
    {
     "data": {
      "image/png": "[encoded data removed]",
      "text/plain": [
       "<Figure size 432x288 with 1 Axes>"
      ]
     },
     "metadata": {},
     "output_type": "display_data"
    }
   ],
   "source": [
    "x = np.array([0.5, 0.15, 0.30, 0.25, 0.35, 0.45, 0.47, 0.55]).reshape((-1, 1)) # vector vertical NOTA: considerar este reshape para el proyecto final\n",
    "y = np.array([5, 20, 18, 14, 32, 22, 32, 38]) # vector horizontal\n",
    "print(x.shape)\n",
    "print(y.shape)\n",
    "plt.scatter(x,y)"
   ]
  },
  {
   "cell_type": "markdown",
   "metadata": {},
   "source": [
    "### Preparación de funciones"
   ]
  },
  {
   "cell_type": "code",
   "execution_count": 3,
   "metadata": {},
   "outputs": [],
   "source": [
    "def regresion_lineal(x, b):\n",
    "    '''\n",
    "    x (matrix): Matriz con los datos \n",
    "    b (array): Vector con los pesos a estimar \n",
    "    '''\n",
    "    return np.array(b[0] + b[1]*x).reshape(1,-1)\n",
    "\n",
    "# Definir la función de error cuadrático medio\n",
    "def error_cuadratico(y, y_pred):\n",
    "    '''\n",
    "    y (array): Vector con los valores reales \n",
    "    y_pred (array): Vector con los valores estimados \n",
    "    '''\n",
    "    return np.mean( (y - y_pred)**2 ) \n",
    "    \n",
    "# Definir la función de gradiente del error\n",
    "def grad_error(y, y_pred, x):\n",
    "    '''\n",
    "    y (array): Vector con los valores reales \n",
    "    y_pred (array): Vector con los valores estimados \n",
    "    x (matrix): Matriz con los datos \n",
    "    '''\n",
    "    return np.array ( [ -2 * np.mean(y - y_pred), - 2 * np.mean(( y - y_pred) * x)]) # estas derivadas se calculan analiticamente a partir de la funcion de error"
   ]
  },
  {
   "cell_type": "markdown",
   "metadata": {},
   "source": [
    "### Definición de híper-parámetros"
   ]
  },
  {
   "cell_type": "code",
   "execution_count": 4,
   "metadata": {},
   "outputs": [],
   "source": [
    "eta      = 0.01 # valor sugerido en Computer Age Statistical Inference, de Bradley Efron Trevor Hastie\n",
    "max_iter = 100 # un limite prudente para una aproximar una funcion lineal"
   ]
  },
  {
   "cell_type": "markdown",
   "metadata": {},
   "source": [
    "### (1) Inicializar parámetros del modelo"
   ]
  },
  {
   "cell_type": "code",
   "execution_count": 5,
   "metadata": {},
   "outputs": [
    {
     "name": "stdout",
     "output_type": "stream",
     "text": [
      "[1.76405235 0.40015721]\n"
     ]
    }
   ],
   "source": [
    "# Inicializar parámetros de la regresión lineal y = w[0] + w[1]*x\n",
    "# fijamos la semilla por reproducibilidad\n",
    "np.random.seed(0)\n",
    "w = np.random.normal(loc = 0, scale = 1, size = 2  ) # igual valores sugeridos en Computer Age Statistical Inference, que ademas mejoran la precision numerica , \n",
    "print (w)"
   ]
  },
  {
   "cell_type": "markdown",
   "metadata": {},
   "source": [
    "### (2) Evaluar el modelo en la función de error"
   ]
  },
  {
   "cell_type": "code",
   "execution_count": 6,
   "metadata": {},
   "outputs": [
    {
     "name": "stdout",
     "output_type": "stream",
     "text": [
      "531.825145493629\n"
     ]
    }
   ],
   "source": [
    "# Obtener predicción del modelo\n",
    "# Evaluar en la función de error\n",
    "y_pred= regresion_lineal (x,w)\n",
    "error = error_cuadratico (y,y_pred)\n",
    "print(error)"
   ]
  },
  {
   "cell_type": "markdown",
   "metadata": {},
   "source": [
    "### Iteraciones del método"
   ]
  },
  {
   "cell_type": "code",
   "execution_count": 7,
   "metadata": {},
   "outputs": [
    {
     "name": "stdout",
     "output_type": "stream",
     "text": [
      "[19.89076992  7.24299309]\n"
     ]
    },
    {
     "data": {
      "text/plain": [
       "<matplotlib.collections.PathCollection at 0x2083af2b7f0>"
      ]
     },
     "execution_count": 7,
     "metadata": {},
     "output_type": "execute_result"
    },
    {
     "data": {
      "image/png": "[encoded data removed]",
      "text/plain": [
       "<Figure size 432x288 with 1 Axes>"
      ]
     },
     "metadata": {},
     "output_type": "display_data"
    }
   ],
   "source": [
    "n = len(y)\n",
    "cost_history = np.zeros(max_iter * n ) # guardemos el historial del error\n",
    "for i in range(max_iter):\n",
    "    for muestra in range(n):\n",
    "        rand_int = np.random.randint(0, n ) # una sola observacion aleatoria\n",
    "        x_i = x[rand_int, :] # slicing los datos\n",
    "        y_i = y[rand_int]\n",
    "        g = grad_error (y, y_pred, x) # Calcular gradiente\n",
    "        # Actualizar parámetros\n",
    "        w = w - eta * g\n",
    "        # Evaluar el modelo en la función del error\n",
    "        y_pred = regresion_lineal(x,w)\n",
    "        cost_history[i] = error_cuadratico(y, y_pred)\n",
    "print(w)\n",
    "plt.scatter( [ i for i in range(len(cost_history)) ], cost_history )"
   ]
  },
  {
   "cell_type": "markdown",
   "metadata": {},
   "source": [
    "### Evaluación del método"
   ]
  },
  {
   "cell_type": "code",
   "execution_count": 8,
   "metadata": {},
   "outputs": [
    {
     "name": "stdout",
     "output_type": "stream",
     "text": [
      "13.813835770528684\n",
      "23.340832395950503\n"
     ]
    },
    {
     "data": {
      "image/png": "[encoded data removed]",
      "text/plain": [
       "<Figure size 432x288 with 1 Axes>"
      ]
     },
     "metadata": {},
     "output_type": "display_data"
    }
   ],
   "source": [
    "# Usando el modelo programado\n",
    "y_pred = regresion_lineal(x, w)\n",
    "\n",
    "# Usando el modelo de sklearn\n",
    "from sklearn.linear_model import LinearRegression\n",
    "model = LinearRegression()\n",
    "model.fit(x, y)\n",
    "y_pred_sk = model.predict(x)\n",
    "plt.plot(x, y_pred[0,], marker='o', color='black')\n",
    "plt.plot(x, y_pred_sk, marker='o', color='red')\n",
    "plt.scatter(x,y)\n",
    "\n",
    "print(model.intercept_)\n",
    "print(model.coef_[0])"
   ]
  },
  {
   "cell_type": "markdown",
   "metadata": {},
   "source": [
    "### En forma de función"
   ]
  },
  {
   "cell_type": "code",
   "execution_count": 9,
   "metadata": {},
   "outputs": [],
   "source": [
    "def sgd(x, y, eta = 0.01, max_iter = 1000, semilla = 0):\n",
    "    \n",
    "    ''' \n",
    "    x (matrix): Matriz con los datos\n",
    "    y (array): Vector con los valores a estimar\n",
    "    eta (float): Leraning rate\n",
    "    max_iter (int): Numero maximo de iteraciones\n",
    "    semilla (int): Semilla a fijar por reproducibilidad\n",
    "    '''\n",
    "\n",
    "    # Inicializar parámetros\n",
    "    np.random.seed(semilla)\n",
    "    n = len(y) # tamanio de la muestra \n",
    "    cost_history = np.zeros(max_iter * n ) # guardemos el historial del error\n",
    "    w = np.random.normal(loc = 0, scale = 1, size = 2  ) # igual valores sugeridos en Computer Age Statistical Inference, que ademas mejoran la precision numerica \n",
    "    \n",
    "    # Evaluar modelo en función de error\n",
    "    y_pred = regresion_lineal(x,w)\n",
    "    error  = error_cuadratico(y,y_pred)\n",
    "    \n",
    "    for i in range(max_iter):\n",
    "        for muestra in range(n):\n",
    "            rand_int = np.random.randint(0, n ) # una sola observacion aleatoria\n",
    "            x_i = x[rand_int, :] # slicing los datos\n",
    "            y_i = y[rand_int]\n",
    "            g = grad_error (y, y_pred, x) # Calcular gradiente\n",
    "            # Actualizar parámetros\n",
    "            w = w - eta * g\n",
    "            # Evaluar el modelo en la función del error\n",
    "            y_pred = regresion_lineal(x,w)\n",
    "            cost_history[i] = error_cuadratico(y, y_pred)\n",
    "            \n",
    "    return [w, cost_history]"
   ]
  },
  {
   "cell_type": "code",
   "execution_count": 10,
   "metadata": {},
   "outputs": [],
   "source": [
    "w_final = sgd(x, y)"
   ]
  },
  {
   "cell_type": "code",
   "execution_count": 11,
   "metadata": {},
   "outputs": [
    {
     "name": "stdout",
     "output_type": "stream",
     "text": [
      "Intercepto\n",
      "19.89077008416263\n",
      "Pendiente\n",
      "7.242993154535927\n"
     ]
    }
   ],
   "source": [
    "print('Intercepto')\n",
    "print(w_final[0][0])\n",
    "print('Pendiente')\n",
    "print(w_final[0][1])"
   ]
  },
  {
   "cell_type": "code",
   "execution_count": 12,
   "metadata": {},
   "outputs": [
    {
     "data": {
      "text/plain": [
       "<matplotlib.collections.PathCollection at 0x2083bf8a1d0>"
      ]
     },
     "execution_count": 12,
     "metadata": {},
     "output_type": "execute_result"
    },
    {
     "data": {
      "image/png": "[encoded data removed]",
      "text/plain": [
       "<Figure size 432x288 with 1 Axes>"
      ]
     },
     "metadata": {},
     "output_type": "display_data"
    }
   ],
   "source": [
    "y_hat_gd = w_final[0][0] + w_final[0][1] * x # nuestra estimacion\n",
    "plt.scatter( x, y_hat_gd, color = 'green')\n",
    "plt.scatter(x, y, color = 'red', marker='o')"
   ]
  },
  {
   "cell_type": "code",
   "execution_count": null,
   "metadata": {},
   "outputs": [],
   "source": []
  }
 ],
 "metadata": {
  "kernelspec": {
   "display_name": "Python 3",
   "language": "python",
   "name": "python3"
  },
  "language_info": {
   "codemirror_mode": {
    "name": "ipython",
    "version": 3
   },
   "file_extension": ".py",
   "mimetype": "text/x-python",
   "name": "python",
   "nbconvert_exporter": "python",
   "pygments_lexer": "ipython3",
   "version": "3.6.5"
  }
 },
 "nbformat": 4,
 "nbformat_minor": 2
}
