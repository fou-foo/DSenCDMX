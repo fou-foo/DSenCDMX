{
 "cells": [
  {
   "cell_type": "code",
   "execution_count": null,
   "metadata": {},
   "outputs": [],
   "source": [
    "#!pip install folium\n",
    "#!pip install plotly"
   ]
  },
  {
   "cell_type": "code",
   "execution_count": null,
   "metadata": {},
   "outputs": [],
   "source": [
    "import pandas as pd\n",
    "import numpy as np\n",
    "import folium\n",
    "from folium import plugins\n",
    "import plotly.graph_objects as go\n"
   ]
  },
  {
   "cell_type": "code",
   "execution_count": null,
   "metadata": {},
   "outputs": [],
   "source": [
    "data = pd.read_csv('ModeloBayesianoMarzoMayo2020_2.csv')\n",
    "\n",
    "# cast errores de captura\n",
    "data['DESC_CE_FINANCIERO'][data['DESC_CE_FINANCIERO'] == 'CIUDAD DE MEXICO'] = 'CIUDAD DE MÉXICO'\n",
    "data['DESC_CE_FINANCIERO'][data['DESC_CE_FINANCIERO'] == 'TUXTLA GUTIÉRREZ'] = 'TUXTLA GUTIERREZ'\n",
    "data['DESC_CE_FINANCIERO'][data['DESC_CE_FINANCIERO'] == 'CIUDAD VICTORIA'] = 'TAMAULIPAS'\n",
    "data['DESC_CE_FINANCIERO'][data['DESC_CE_FINANCIERO'] == 'SAN LUIS POTOSI'] = 'SAN LUIS POTOSÍ'\n",
    "data['DESC_CE_FINANCIERO'][data['DESC_CE_FINANCIERO'] == 'CIUDAD VICTORIA'] = 'TAMAULIPAS'\n",
    "data['DESC_CE_FINANCIERO'][data['DESC_CE_FINANCIERO'] == 'TIJUANA'] = 'BAJA CALIFORNIA'\n",
    "data['DESC_CE_FINANCIERO'][data['DESC_CE_FINANCIERO'] == 'QUERÉTARO'] = 'QUERETARO'"
   ]
  },
  {
   "cell_type": "code",
   "execution_count": null,
   "metadata": {},
   "outputs": [],
   "source": [
    "mapeo = pd.read_csv('JoinCoordenadas.csv')\n",
    "data = data.merge(mapeo, how='right', on='DESC_CE_FINANCIERO' )\n",
    "data = data.dropna()\n",
    "data['FECHA_TRANSACCION'] = pd.to_datetime(data.FECHA_TRANSACCION, format='%d/%m/%Y')"
   ]
  },
  {
   "cell_type": "code",
   "execution_count": null,
   "metadata": {},
   "outputs": [],
   "source": [
    "#data.to_csv('input_plots.csv')\n",
    "data['LONG'] = -data.LONG\n",
    "datos = data[['CLAVE_CLIENTE', 'FECHA_TRANSACCION', 'ENTIDAD_FEDERATIVA', 'LAT', 'LONG']]"
   ]
  },
  {
   "cell_type": "code",
   "execution_count": null,
   "metadata": {},
   "outputs": [],
   "source": [
    "mapa = datos.groupby(['ENTIDAD_FEDERATIVA', 'LAT', 'LONG']).size().reset_index()\n",
    "mapa.columns = ['ENTIDAD_FEDERATIVA', 'LAT', 'LONG', 'Conteo']\n",
    "mapa = mapa.sort_values(['Conteo'],ascending=False).reset_index()"
   ]
  },
  {
   "cell_type": "code",
   "execution_count": null,
   "metadata": {},
   "outputs": [],
   "source": [
    "mapit = folium.Map( location = [25.,-102.], zoom_start = 6)\n",
    "folium.TileLayer('cartodbpositron').add_to(mapit)\n",
    "\n",
    "for idx in range(0,len(mapa) ):\n",
    "    # como no todos los estados se ven bien los marco nada mas \n",
    "    folium.Circle(     radius=100, location=mapa[  ['LAT', 'LONG'] ].iloc[idx],\n",
    "                       popup=str(mapa['ENTIDAD_FEDERATIVA'][ idx ]),  color='#0b3c5d',\n",
    "                       fill=False, ).add_to(mapit)\n",
    "    \n",
    "    folium.CircleMarker(  location=mapa[  ['LAT', 'LONG'] ].iloc[idx],\n",
    "                            radius=np.log(int(mapa[ ['Conteo']].iloc[idx]))*7  , \n",
    "                            color= '#0b3c5d',#'#d9b310',\n",
    "                            fill=True, fill_color='#329cc1',\n",
    "                            popup=str(mapa['ENTIDAD_FEDERATIVA'][ idx ])).add_to(mapit)\n",
    "    \n",
    "mapit"
   ]
  },
  {
   "cell_type": "code",
   "execution_count": null,
   "metadata": {},
   "outputs": [],
   "source": [
    "tiempo = datos.groupby(['FECHA_TRANSACCION'] ).size().reset_index()\n",
    "tiempo.columns = ['FECHA_TRANSACCION', 'OperacionesDiarias']\n",
    "tiempo = tiempo.sort_values(['FECHA_TRANSACCION'],ascending=True).reset_index()"
   ]
  },
  {
   "cell_type": "code",
   "execution_count": null,
   "metadata": {},
   "outputs": [],
   "source": [
    "layout = go.Layout(\n",
    "    plot_bgcolor='rgba(0,0,0,0)', title = 'Operaciones electrónicas por día (feb-may, 2020)'\n",
    ")\n",
    "fig = go.Figure(data=go.Scatter(x=tiempo['FECHA_TRANSACCION'], y=tiempo['OperacionesDiarias'],\n",
    "                                mode='lines', line_color='#328cc1'), layout=layout)\n",
    "fig.show()"
   ]
  },
  {
   "cell_type": "code",
   "execution_count": null,
   "metadata": {},
   "outputs": [],
   "source": []
  }
 ],
 "metadata": {
  "kernelspec": {
   "display_name": "Python 3",
   "language": "python",
   "name": "python3"
  },
  "language_info": {
   "codemirror_mode": {
    "name": "ipython",
    "version": 3
   },
   "file_extension": ".py",
   "mimetype": "text/x-python",
   "name": "python",
   "nbconvert_exporter": "python",
   "pygments_lexer": "ipython3",
   "version": "3.7.6"
  }
 },
 "nbformat": 4,
 "nbformat_minor": 4
}
