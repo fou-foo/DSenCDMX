{
 "cells": [
  {
   "cell_type": "code",
   "execution_count": 1,
   "metadata": {},
   "outputs": [],
   "source": [
    "import pandas as pd"
   ]
  },
  {
   "cell_type": "code",
   "execution_count": 2,
   "metadata": {},
   "outputs": [],
   "source": [
    "data = pd.read_csv('ModeloBayesianoMarzoMayo2020.csv')"
   ]
  },
  {
   "cell_type": "code",
   "execution_count": 3,
   "metadata": {},
   "outputs": [
    {
     "name": "stdout",
     "output_type": "stream",
     "text": [
      "      CLAVE_CLIENTE  CVE_UNIDAD_NEGOCIO UNIDAD_NEGOCIO EMISORA_FONDO  \\\n",
      "9980       96393574                   1          BANCO       ACTIREN   \n",
      "9981       96396411                   1          BANCO       ACTIREN   \n",
      "9982       96397864                   1          BANCO           SNX   \n",
      "9983       96399183                   1          BANCO       ALTERNA   \n",
      "9984       96399514                   1          BANCO       ACTIGOB   \n",
      "\n",
      "     DESC_CE_FINANCIERO  SALDO_CLIENTE TIPO_OPERACION     GENERO  Edad  \\\n",
      "9980            Jalisco   1.001455e+06          VENTA   FEMENINO  46.0   \n",
      "9981            Jalisco   9.999899e+05         COMPRA   FEMENINO  50.0   \n",
      "9982             Toluca   2.500000e+04         COMPRA   FEMENINO  50.0   \n",
      "9983   Ciudad de México   1.200000e+06         COMPRA  MASCULINO  56.0   \n",
      "9984   Ciudad de México   8.000027e+05         COMPRA  MASCULINO  45.0   \n",
      "\n",
      "         ENROLADO FECHA_TRANSACCION  \n",
      "9980     ENROLADO          28/05/20  \n",
      "9981  NO ENROLADO          25/05/20  \n",
      "9982     ENROLADO          29/05/20  \n",
      "9983     ENROLADO          25/05/20  \n",
      "9984     ENROLADO          26/05/20  \n"
     ]
    },
    {
     "data": {
      "text/plain": [
       "(9985, 11)"
      ]
     },
     "execution_count": 3,
     "metadata": {},
     "output_type": "execute_result"
    }
   ],
   "source": [
    "print(data.tail())\n",
    "data.shape"
   ]
  },
  {
   "cell_type": "code",
   "execution_count": 4,
   "metadata": {},
   "outputs": [],
   "source": [
    "import re "
   ]
  },
  {
   "cell_type": "code",
   "execution_count": 5,
   "metadata": {},
   "outputs": [],
   "source": [
    "def grep_alias(pattern, string):\n",
    "    res = re.findall(pattern, string)\n",
    "    if res == [] : \n",
    "        return( False )\n",
    "    else:\n",
    "        return (True)"
   ]
  },
  {
   "cell_type": "code",
   "execution_count": 6,
   "metadata": {},
   "outputs": [],
   "source": [
    "data['flag'] = data[['FECHA_TRANSACCION']].apply(lambda row:  grep_alias('2020', str(row)) , axis = 1) "
   ]
  },
  {
   "cell_type": "code",
   "execution_count": 7,
   "metadata": {},
   "outputs": [
    {
     "name": "stderr",
     "output_type": "stream",
     "text": [
      "C:\\Users\\fou-f\\anaconda3\\lib\\site-packages\\ipykernel_launcher.py:1: SettingWithCopyWarning: \n",
      "A value is trying to be set on a copy of a slice from a DataFrame\n",
      "\n",
      "See the caveats in the documentation: https://pandas.pydata.org/pandas-docs/stable/user_guide/indexing.html#returning-a-view-versus-a-copy\n",
      "  \"\"\"Entry point for launching an IPython kernel.\n"
     ]
    }
   ],
   "source": [
    "data['FECHA_TRANSACCION'][data['flag'] == False] = data['FECHA_TRANSACCION'][data['flag'] == False] + '20'"
   ]
  },
  {
   "cell_type": "code",
   "execution_count": 8,
   "metadata": {},
   "outputs": [],
   "source": [
    "data['flag'] = data[['FECHA_TRANSACCION']].apply(lambda row:  grep_alias('2020', str(row)) , axis = 1) "
   ]
  },
  {
   "cell_type": "code",
   "execution_count": 9,
   "metadata": {},
   "outputs": [
    {
     "data": {
      "text/plain": [
       "True    9985\n",
       "Name: flag, dtype: int64"
      ]
     },
     "execution_count": 9,
     "metadata": {},
     "output_type": "execute_result"
    }
   ],
   "source": [
    "data['flag'].value_counts()"
   ]
  },
  {
   "cell_type": "code",
   "execution_count": 10,
   "metadata": {},
   "outputs": [],
   "source": [
    "data_vieja = pd.read_csv('Base Jessica Vega Feb 2020 Depurada.csv')"
   ]
  },
  {
   "cell_type": "code",
   "execution_count": 17,
   "metadata": {},
   "outputs": [],
   "source": [
    "data.to_csv('ModeloBayesianoMarzoMayo2020_2.csv')"
   ]
  },
  {
   "cell_type": "code",
   "execution_count": null,
   "metadata": {},
   "outputs": [],
   "source": []
  }
 ],
 "metadata": {
  "kernelspec": {
   "display_name": "Python 3",
   "language": "python",
   "name": "python3"
  },
  "language_info": {
   "codemirror_mode": {
    "name": "ipython",
    "version": 3
   },
   "file_extension": ".py",
   "mimetype": "text/x-python",
   "name": "python",
   "nbconvert_exporter": "python",
   "pygments_lexer": "ipython3",
   "version": "3.7.6"
  }
 },
 "nbformat": 4,
 "nbformat_minor": 4
}
