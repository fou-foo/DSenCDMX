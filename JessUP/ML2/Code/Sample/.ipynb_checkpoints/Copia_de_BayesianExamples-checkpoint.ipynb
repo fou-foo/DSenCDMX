{
 "cells": [
  {
   "cell_type": "code",
   "execution_count": 1,
   "metadata": {
    "colab": {},
    "colab_type": "code",
    "id": "Hqs1ppIYbLDx"
   },
   "outputs": [],
   "source": [
    "import pandas as pd\n",
    "import seaborn as sns\n",
    "import pylab as plt\n",
    "df = pd.read_csv('https://raw.githubusercontent.com/CamDavidsonPilon/Probabilistic-Programming-and-Bayesian-Methods-for-Hackers/master/Chapter1_Introduction/data/txtdata.csv', header = None)"
   ]
  },
  {
   "cell_type": "markdown",
   "metadata": {
    "colab_type": "text",
    "id": "DaaH71VMbpp0"
   },
   "source": [
    "# Estadística Bayesiana aplicada a los mensajes de texto.\n",
    "\n",
    "**Problema**\n",
    "\n",
    "Tenemos un set de datos que consiste en el conteo diario de mensajes de texto de una persona.\n",
    "\n",
    "Cada día, nuestro individuo escribe n mensaje de texto."
   ]
  },
  {
   "cell_type": "code",
   "execution_count": 2,
   "metadata": {
    "colab": {
     "base_uri": "https://localhost:8080/",
     "height": 202
    },
    "colab_type": "code",
    "id": "LdSrBejddnHU",
    "outputId": "57d9b44e-edfe-487c-95ca-81be802d193a"
   },
   "outputs": [
    {
     "data": {
      "text/html": [
       "<div>\n",
       "<style scoped>\n",
       "    .dataframe tbody tr th:only-of-type {\n",
       "        vertical-align: middle;\n",
       "    }\n",
       "\n",
       "    .dataframe tbody tr th {\n",
       "        vertical-align: top;\n",
       "    }\n",
       "\n",
       "    .dataframe thead th {\n",
       "        text-align: right;\n",
       "    }\n",
       "</style>\n",
       "<table border=\"1\" class=\"dataframe\">\n",
       "  <thead>\n",
       "    <tr style=\"text-align: right;\">\n",
       "      <th></th>\n",
       "      <th>0</th>\n",
       "    </tr>\n",
       "  </thead>\n",
       "  <tbody>\n",
       "    <tr>\n",
       "      <th>0</th>\n",
       "      <td>13.0</td>\n",
       "    </tr>\n",
       "    <tr>\n",
       "      <th>1</th>\n",
       "      <td>24.0</td>\n",
       "    </tr>\n",
       "    <tr>\n",
       "      <th>2</th>\n",
       "      <td>8.0</td>\n",
       "    </tr>\n",
       "    <tr>\n",
       "      <th>3</th>\n",
       "      <td>24.0</td>\n",
       "    </tr>\n",
       "    <tr>\n",
       "      <th>4</th>\n",
       "      <td>7.0</td>\n",
       "    </tr>\n",
       "  </tbody>\n",
       "</table>\n",
       "</div>"
      ],
      "text/plain": [
       "      0\n",
       "0  13.0\n",
       "1  24.0\n",
       "2   8.0\n",
       "3  24.0\n",
       "4   7.0"
      ]
     },
     "execution_count": 2,
     "metadata": {},
     "output_type": "execute_result"
    }
   ],
   "source": [
    "df.head()"
   ]
  },
  {
   "cell_type": "code",
   "execution_count": 3,
   "metadata": {
    "colab": {
     "base_uri": "https://localhost:8080/",
     "height": 295
    },
    "colab_type": "code",
    "id": "GgzrMdU-dsWw",
    "outputId": "14a7bbbd-4a29-4a38-e294-078247a4889a"
   },
   "outputs": [
    {
     "data": {
      "image/png": "[encoded data removed]",
      "text/plain": [
       "<Figure size 432x288 with 1 Axes>"
      ]
     },
     "metadata": {
      "needs_background": "light"
     },
     "output_type": "display_data"
    }
   ],
   "source": [
    "plt.bar(list(df.index), df[0].values, color=\"#348ABD\")\n",
    "plt.xlabel(\"Time (days)\")\n",
    "plt.ylabel(\"count of text-msgs received\")\n",
    "plt.title(\"Did the user's texting habits change over time?\")\n",
    "plt.xlim(0, len(df.index));"
   ]
  },
  {
   "cell_type": "markdown",
   "metadata": {
    "colab_type": "text",
    "id": "J6nr7wcjee40"
   },
   "source": [
    "En algun momento, en los ~70 dias, la empresa cambio su tarifa de mensajes. Como descrubrimos en que dia fue, y como descubrimos si la persona en verdad cambio su comportamiento."
   ]
  },
  {
   "cell_type": "code",
   "execution_count": 4,
   "metadata": {
    "colab": {
     "base_uri": "https://localhost:8080/",
     "height": 34
    },
    "colab_type": "code",
    "id": "Y9k0Zl-zd_vn",
    "outputId": "c0a337f9-7cd9-4f79-d640-8029dd136287"
   },
   "outputs": [
    {
     "data": {
      "text/plain": [
       "19.743243243243242"
      ]
     },
     "execution_count": 4,
     "metadata": {},
     "output_type": "execute_result"
    }
   ],
   "source": [
    "df[0].mean()"
   ]
  },
  {
   "cell_type": "markdown",
   "metadata": {
    "colab_type": "text",
    "id": "Jk4gdw1Fe9jN"
   },
   "source": [
    "Al dia manda en promedio 20 mensajes, como calculariamos los promedios para diferentes periodos."
   ]
  },
  {
   "cell_type": "code",
   "execution_count": 5,
   "metadata": {
    "colab": {
     "base_uri": "https://localhost:8080/",
     "height": 51
    },
    "colab_type": "code",
    "id": "jpV38fPmfA0j",
    "outputId": "48858236-b32f-4f4c-9078-44faea13de17"
   },
   "outputs": [
    {
     "name": "stdout",
     "output_type": "stream",
     "text": [
      "[18.525]\n",
      "[21.60606061]\n"
     ]
    }
   ],
   "source": [
    "limit = 40\n",
    "print(df[df.index<limit].mean().values)\n",
    "print(df[df.index>limit].mean().values)"
   ]
  },
  {
   "cell_type": "markdown",
   "metadata": {
    "colab_type": "text",
    "id": "QcVv3Wopf1pM"
   },
   "source": [
    "Le seguimos adivinando?\n",
    "\n",
    "Hay 3 variables:\n",
    "\n",
    "\n",
    "1.   Dia del cambio\n",
    "2.   Promedio de mensajes antes del cambio\n",
    "3.   Promedio de mensajes despues del cambio\n",
    "\n"
   ]
  },
  {
   "cell_type": "markdown",
   "metadata": {
    "colab_type": "text",
    "id": "T8SqDCKsgiK3"
   },
   "source": [
    "## Num de Mensajes\n",
    "Como se modela una variable de conteo?\n",
    "\n",
    "Utilizamos la distribucion de [Poisson](https://en.wikipedia.org/wiki/Poisson_distribution).\n",
    "\n",
    "[Siempre es conveniente saber que distribuciones modelan que tipos de eventos](https://web.cs.elte.hu/~mesti/valszam/kepletek)"
   ]
  },
  {
   "cell_type": "code",
   "execution_count": 6,
   "metadata": {
    "colab": {
     "base_uri": "https://localhost:8080/",
     "height": 34
    },
    "colab_type": "code",
    "id": "9wGu-wKne55n",
    "outputId": "fe0d8798-27f1-454d-ad58-5c5616b44639"
   },
   "outputs": [
    {
     "data": {
      "text/plain": [
       "(array(10.), array(10.))"
      ]
     },
     "execution_count": 6,
     "metadata": {},
     "output_type": "execute_result"
    }
   ],
   "source": [
    "from scipy.stats import poisson\n",
    "import numpy as np\n",
    "mu = 10 #Mu es un parametro que nos dice el numero promedio de mensajes (eventos)\n",
    "poisson.stats(mu)"
   ]
  },
  {
   "cell_type": "code",
   "execution_count": 7,
   "metadata": {
    "colab": {
     "base_uri": "https://localhost:8080/",
     "height": 282
    },
    "colab_type": "code",
    "id": "LoJSC7EOh7Bo",
    "outputId": "e9ba41b1-5dea-4a1d-9c54-61a4c2a5383d"
   },
   "outputs": [
    {
     "data": {
      "text/plain": [
       "<matplotlib.collections.LineCollection at 0x1d56f9dfd88>"
      ]
     },
     "execution_count": 7,
     "metadata": {},
     "output_type": "execute_result"
    },
    {
     "data": {
      "image/png": "[encoded data removed]",
      "text/plain": [
       "<Figure size 432x288 with 1 Axes>"
      ]
     },
     "metadata": {
      "needs_background": "light"
     },
     "output_type": "display_data"
    }
   ],
   "source": [
    "fig, ax = plt.subplots(1, 1)\n",
    "x = np.arange(poisson.ppf(0.01, mu),\n",
    "              poisson.ppf(0.99, mu))\n",
    "ax.plot(x, poisson.pmf(x, mu), 'bo', ms=8, label='poisson pmf')\n",
    "ax.vlines(x, 0, poisson.pmf(x, mu), colors='b', lw=5, alpha=0.5)"
   ]
  },
  {
   "cell_type": "markdown",
   "metadata": {
    "colab_type": "text",
    "id": "OakLdFrzihI7"
   },
   "source": [
    "Cuantos parametros $\\mu$ vamos a tener?\n",
    "\n",
    "Recordemos que $\\mu$ es el numero promedio en un periodo de tiempo.\n",
    "\n",
    "2, uno para antes del cambio y otro despues del cambio.\n",
    "\n",
    "$$\n",
    "\\mu = \n",
    "\\begin{cases}\n",
    "\\mu_1 \\text{if } t \\lt \\tau \\cr\n",
    "\\mu_2 \\text{if } t \\ge \\tau\n",
    "\\end{cases}\n",
    "$$\n",
    "\n",
    "Que pasaria en el caso de que no hubiera cambio en el comportamiento de nuestro cliente?"
   ]
  },
  {
   "cell_type": "markdown",
   "metadata": {
    "colab_type": "text",
    "id": "IkdjhLcgjrc1"
   },
   "source": [
    "## Priors\n",
    "\n",
    "Si queremos usar inferencia Bayesiana, tenemos que asignar priors a cada uno de los parametros $\\mu$, una exponencial por lo general es una buena idea.\n",
    "\n",
    "\n",
    "\\begin{align}\n",
    "&\\lambda_1 \\sim \\text{Exp}( \\alpha ) \\\\\\\n",
    "&\\lambda_2 \\sim \\text{Exp}( \\alpha )\n",
    "\\end{align}\n"
   ]
  },
  {
   "cell_type": "code",
   "execution_count": null,
   "metadata": {
    "colab": {},
    "colab_type": "code",
    "id": "WXf59vQh4iYG"
   },
   "outputs": [],
   "source": []
  },
  {
   "cell_type": "markdown",
   "metadata": {
    "colab_type": "text",
    "id": "VTinRTU9kdE5"
   },
   "source": [
    "# Dia del cambio de comportamiento\n",
    "\n",
    "Es un dia entre los 70, que distribucion modela mejor elegir un valor de entre N enteros.\n",
    "\n",
    "[Siempre es conveniente saber que distribuciones modelan que tipos de eventos](https://web.cs.elte.hu/~mesti/valszam/kepletek)\n",
    "\n",
    "\\begin{align}\n",
    "\\tau \\sim \\text{DiscreteUniform(1,70) }\\\\\\\\\n",
    "\\Rightarrow P( \\tau = k ) = \\frac{1}{70}\n",
    "\\end{align}"
   ]
  },
  {
   "cell_type": "code",
   "execution_count": 8,
   "metadata": {
    "colab": {},
    "colab_type": "code",
    "id": "G9Ucq2c4igUu"
   },
   "outputs": [],
   "source": [
    "# conda install -c conda-forge pymc3\n",
    "import pymc3 as pm\n",
    "import theano.tensor as tt\n",
    "count_data = df[0].values\n",
    "n_count_data = len(count_data)\n",
    "with pm.Model() as model:\n",
    "    alpha = 1.0/count_data.mean()  # Recall count_data is the\n",
    "                                   # variable that holds our txt counts\n",
    "    lambda_1 = pm.Exponential(\"lambda_1\", alpha)\n",
    "    lambda_2 = pm.Exponential(\"lambda_2\", alpha)\n",
    "    \n",
    "    tau = pm.DiscreteUniform(\"tau\", lower=0, upper=n_count_data - 1)"
   ]
  },
  {
   "cell_type": "code",
   "execution_count": 9,
   "metadata": {
    "colab": {},
    "colab_type": "code",
    "id": "_uYA5AsUlYJp"
   },
   "outputs": [],
   "source": [
    "with model:\n",
    "    idx = np.arange(n_count_data) # Index\n",
    "    lambda_ = pm.math.switch(tau > idx, lambda_1, lambda_2)"
   ]
  },
  {
   "cell_type": "code",
   "execution_count": 10,
   "metadata": {
    "colab": {},
    "colab_type": "code",
    "id": "E3l10oMmlaAl"
   },
   "outputs": [],
   "source": [
    "with model:\n",
    "    observation = pm.Poisson(\"obs\", lambda_, observed=count_data)"
   ]
  },
  {
   "cell_type": "code",
   "execution_count": 11,
   "metadata": {
    "colab": {
     "base_uri": "https://localhost:8080/",
     "height": 155
    },
    "colab_type": "code",
    "id": "4WLn2ipblfct",
    "outputId": "f1efad72-b335-43ab-fcdc-f1276ae86afc"
   },
   "outputs": [
    {
     "name": "stderr",
     "output_type": "stream",
     "text": [
      "Multiprocess sampling (4 chains in 4 jobs)\n",
      "CompoundStep\n",
      ">Metropolis: [tau]\n",
      ">Metropolis: [lambda_2]\n",
      ">Metropolis: [lambda_1]\n",
      "Sampling 4 chains, 0 divergences: 100%|█████████████████████████████████████| 60000/60000 [00:24<00:00, 2439.95draws/s]\n",
      "The number of effective samples is smaller than 10% for some parameters.\n"
     ]
    }
   ],
   "source": [
    "with model:\n",
    "    step = pm.Metropolis()\n",
    "    trace = pm.sample(10000, tune=5000,step=step)"
   ]
  },
  {
   "cell_type": "code",
   "execution_count": 12,
   "metadata": {
    "colab": {},
    "colab_type": "code",
    "id": "jOx8HcbEli18"
   },
   "outputs": [],
   "source": [
    "lambda_1_samples = trace['lambda_1']\n",
    "lambda_2_samples = trace['lambda_2']\n",
    "tau_samples = trace['tau']"
   ]
  },
  {
   "cell_type": "code",
   "execution_count": 13,
   "metadata": {
    "colab": {
     "base_uri": "https://localhost:8080/",
     "height": 642
    },
    "colab_type": "code",
    "id": "YslW1ESelqOJ",
    "outputId": "a3961e9a-2720-4d5f-bead-6b512cedd5aa"
   },
   "outputs": [
    {
     "data": {
      "image/png": "[encoded data removed]",
      "text/plain": [
       "<Figure size 900x720 with 3 Axes>"
      ]
     },
     "metadata": {
      "needs_background": "light"
     },
     "output_type": "display_data"
    }
   ],
   "source": [
    "from IPython.core.pylabtools import figsize\n",
    "\n",
    "figsize(12.5, 10)\n",
    "#histogram of the samples:\n",
    "\n",
    "ax = plt.subplot(311)\n",
    "ax.set_autoscaley_on(False)\n",
    "\n",
    "plt.hist(lambda_1_samples, histtype='stepfilled', bins=30, alpha=0.85,\n",
    "         label=\"posterior of $\\lambda_1$\", color=\"#A60628\", density=True)\n",
    "plt.legend(loc=\"upper left\")\n",
    "plt.title(r\"\"\"Posterior distributions of the variables\n",
    "    $\\lambda_1,\\;\\lambda_2,\\;\\tau$\"\"\")\n",
    "plt.xlim([15, 30])\n",
    "plt.xlabel(\"$\\lambda_1$ value\")\n",
    "\n",
    "ax = plt.subplot(312)\n",
    "ax.set_autoscaley_on(False)\n",
    "plt.hist(lambda_2_samples, histtype='stepfilled', bins=30, alpha=0.85,\n",
    "         label=\"posterior of $\\lambda_2$\", color=\"#7A68A6\", density=True)\n",
    "plt.legend(loc=\"upper left\")\n",
    "plt.xlim([15, 30])\n",
    "plt.xlabel(\"$\\lambda_2$ value\")\n",
    "\n",
    "plt.subplot(313)\n",
    "w = 1.0 / tau_samples.shape[0] * np.ones_like(tau_samples)\n",
    "plt.hist(tau_samples, bins=n_count_data, alpha=1,\n",
    "         label=r\"posterior of $\\tau$\",\n",
    "         color=\"#467821\", weights=w, rwidth=2.)\n",
    "plt.xticks(np.arange(n_count_data))\n",
    "\n",
    "plt.legend(loc=\"upper left\")\n",
    "plt.ylim([0, .75])\n",
    "plt.xlim([35, len(count_data)-20])\n",
    "plt.xlabel(r\"$\\tau$ (in days)\")\n",
    "plt.ylabel(\"probability\");"
   ]
  },
  {
   "cell_type": "code",
   "execution_count": null,
   "metadata": {},
   "outputs": [],
   "source": []
  },
  {
   "cell_type": "code",
   "execution_count": null,
   "metadata": {},
   "outputs": [],
   "source": []
  }
 ],
 "metadata": {
  "colab": {
   "name": "Copia de BayesianExamples.ipynb",
   "provenance": []
  },
  "kernelspec": {
   "display_name": "Python 3",
   "language": "python",
   "name": "python3"
  },
  "language_info": {
   "codemirror_mode": {
    "name": "ipython",
    "version": 3
   },
   "file_extension": ".py",
   "mimetype": "text/x-python",
   "name": "python",
   "nbconvert_exporter": "python",
   "pygments_lexer": "ipython3",
   "version": "3.7.6"
  }
 },
 "nbformat": 4,
 "nbformat_minor": 1
}
