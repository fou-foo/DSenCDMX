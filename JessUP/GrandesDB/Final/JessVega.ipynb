{
 "cells": [
  {
   "cell_type": "markdown",
   "metadata": {},
   "source": [
    "## Muestreo"
   ]
  },
  {
   "cell_type": "markdown",
   "metadata": {},
   "source": [
    "Para analizar la calidad del conjunto de datos, seleccionar variables, limpiar y transformar los datos y finalmente determinar un número $k$ de clusters partiremos de un muestreo del conjunto de datos inicial, con un tamaño de muestra del 3% con respecto al original. \n",
    "\n",
    "Para el muestreo utilizamos el método de __reservoir sapling__ visto en clase.\n",
    "\n",
    "Como el conjunto de datos cuenta con más de 5 millones de registros, segun su [documentación](https://data.sfgov.org/Public-Safety/Fire-Department-Calls-for-Service/nuek-vuh3) fijamos el tamaño de muestra:\n",
    "\n",
    "\n"
   ]
  },
  {
   "cell_type": "code",
   "execution_count": 1,
   "metadata": {},
   "outputs": [
    {
     "data": {
      "text/html": [
       "1"
      ],
      "text/latex": [
       "1"
      ],
      "text/markdown": [
       "1"
      ],
      "text/plain": [
       "[1] 1"
      ]
     },
     "metadata": {},
     "output_type": "display_data"
    }
   ],
   "source": [
    "1"
   ]
  },
  {
   "cell_type": "code",
   "execution_count": 2,
   "metadata": {},
   "outputs": [
    {
     "data": {
      "text/html": [
       "2"
      ],
      "text/latex": [
       "2"
      ],
      "text/markdown": [
       "2"
      ],
      "text/plain": [
       "[1] 2"
      ]
     },
     "metadata": {},
     "output_type": "display_data"
    }
   ],
   "source": [
    "2"
   ]
  },
  {
   "cell_type": "code",
   "execution_count": 3,
   "metadata": {},
   "outputs": [
    {
     "data": {
      "text/html": [
       "<style>\n",
       ".list-inline {list-style: none; margin:0; padding: 0}\n",
       ".list-inline>li {display: inline-block}\n",
       ".list-inline>li:not(:last-child)::after {content: \"\\00b7\"; padding: 0 .5ex}\n",
       "</style>\n",
       "<ol class=list-inline><li>'Fire_Department_Calls_for_Service.csv'</li><li>'JessVega.ipynb'</li><li>'muestra_Fire_Department_Calls_for_Service.csv'</li><li>'muestra3_Fire_Department_Calls_for_Service.csv'</li><li>'tutorials'</li></ol>\n"
      ],
      "text/latex": [
       "\\begin{enumerate*}\n",
       "\\item 'Fire\\_Department\\_Calls\\_for\\_Service.csv'\n",
       "\\item 'JessVega.ipynb'\n",
       "\\item 'muestra\\_Fire\\_Department\\_Calls\\_for\\_Service.csv'\n",
       "\\item 'muestra3\\_Fire\\_Department\\_Calls\\_for\\_Service.csv'\n",
       "\\item 'tutorials'\n",
       "\\end{enumerate*}\n"
      ],
      "text/markdown": [
       "1. 'Fire_Department_Calls_for_Service.csv'\n",
       "2. 'JessVega.ipynb'\n",
       "3. 'muestra_Fire_Department_Calls_for_Service.csv'\n",
       "4. 'muestra3_Fire_Department_Calls_for_Service.csv'\n",
       "5. 'tutorials'\n",
       "\n",
       "\n"
      ],
      "text/plain": [
       "[1] \"Fire_Department_Calls_for_Service.csv\"         \n",
       "[2] \"JessVega.ipynb\"                                \n",
       "[3] \"muestra_Fire_Department_Calls_for_Service.csv\" \n",
       "[4] \"muestra3_Fire_Department_Calls_for_Service.csv\"\n",
       "[5] \"tutorials\"                                     "
      ]
     },
     "metadata": {},
     "output_type": "display_data"
    },
    {
     "name": "stdout",
     "output_type": "stream",
     "text": [
      "[1] 1620000\n"
     ]
    }
   ],
   "source": [
    "n_muestras <- 5.4*(1*10**6)*0.3\n",
    "t1 <- Sys.time()\n",
    "dir()\n",
    "print(n_muestras)\n",
    "set.seed(0)"
   ]
  },
  {
   "cell_type": "code",
   "execution_count": 4,
   "metadata": {},
   "outputs": [
    {
     "name": "stdout",
     "output_type": "stream",
     "text": [
      "[1] \"Posicion inicial: 1620000\"\n",
      "[1] \"iteracion: 1\"\n",
      "[1] \"Posicion inicial: 2120000\"\n",
      "[1] \"iteracion: 2\"\n",
      "[1] \"Posicion inicial: 2620000\"\n",
      "[1] \"iteracion: 3\"\n",
      "[1] \"Posicion inicial: 3120000\"\n",
      "[1] \"iteracion: 4\"\n",
      "[1] \"Posicion inicial: 3620000\"\n",
      "[1] \"iteracion: 5\"\n",
      "[1] \"Posicion inicial: 4120000\"\n",
      "[1] \"iteracion: 6\"\n",
      "[1] \"Posicion inicial: 4620000\"\n",
      "[1] \"iteracion: 7\"\n",
      "[1] \"Posicion inicial: 5120000\"\n",
      "[1] \"iteracion: 8\"\n",
      "Time difference of 8.008767 mins\n"
     ]
    }
   ],
   "source": [
    "path.file <- \"Fire_Department_Calls_for_Service.csv\" #--path donde se encuentra el conjunto de datos original \n",
    "n_filas_read <- 500000 # la rm nos permite cargar este numero de registros y agilizar el muestreo\n",
    "\n",
    "connection <- file(path.file, open = \"r\")\n",
    "#--nombre de las columnas (primera fila)\n",
    "#col_names  <- read.csv(connection, nrows = 1, header = TRUE)\n",
    "#--definimos nuestro buffer (muestra) y los rellenamos con las primeras n_muestras filas\n",
    "buffer <- read.csv(connection, nrows = n_muestras, header = TRUE, stringsAsFactors = FALSE)\n",
    "\n",
    "#--indice que nos permitira generar los numeros aleatorios correctamente\n",
    "posicion_inicial <- n_muestras\n",
    "random_unif <- function(x) sample.int(x,1)\n",
    "\n",
    "contador <- 1\n",
    "repeat{\n",
    "  print(paste0(\"Posicion inicial: \", posicion_inicial))\n",
    "  \n",
    "   #--leemos una parte del archivo\n",
    "  temp <- read.csv(connection, nrows = n_filas_read, header = FALSE)\n",
    "\n",
    "  #--indices que controlan el maximo de cada numero aleatorio\n",
    "  maximo <- c(1:nrow(temp)) + posicion_inicial\n",
    "\n",
    "  #--generamos numeros aleatorios de forma vectorizada, segun esto solo permuta los indices\n",
    "  j = vapply(maximo, random_unif, FUN.VALUE = integer(1))\n",
    "\n",
    "  #--observamos cuales de los numeros aleatorios son menores que nuestra muestra\n",
    "  idx <- j <= n_muestras\n",
    "\n",
    "  #--sustituimos los que resultaron menores\n",
    "  buffer[j[idx], ] <- temp[idx, ]\n",
    "  \n",
    "  print(paste0(\"iteracion: \", contador))\n",
    "  contador <- contador + 1\n",
    "  #--redefinimos la posicion inicial para la siguiente iteracion\n",
    "  posicion_inicial <- posicion_inicial + nrow(temp)\n",
    "  \n",
    "  #--si el numero de filas leidas es menor que el esperado,\n",
    "  #-asumimos que se acabo el archivo y salimos del ciclo\n",
    "  if(nrow(temp) < n_filas_read)\n",
    "    break\n",
    "}\n",
    "t2 <- Sys.time()\n",
    "print(t2 - t1) #(Time difference of 9.29019 mins mins )\n",
    "#--guardar nuestra muestra para un futuro analisis\n",
    "write.csv(buffer, paste0(\"muestra_\", path.file), row.names = FALSE )\n",
    "close(connection)"
   ]
  },
  {
   "cell_type": "code",
   "execution_count": 5,
   "metadata": {},
   "outputs": [
    {
     "name": "stderr",
     "output_type": "stream",
     "text": [
      "Parsed with column specification:\n",
      "cols(\n",
      "  .default = col_character(),\n",
      "  Call.Number = \u001b[32mcol_double()\u001b[39m,\n",
      "  Incident.Number = \u001b[32mcol_double()\u001b[39m,\n",
      "  Zipcode.of.Incident = \u001b[32mcol_double()\u001b[39m,\n",
      "  Final.Priority = \u001b[32mcol_double()\u001b[39m,\n",
      "  ALS.Unit = \u001b[33mcol_logical()\u001b[39m,\n",
      "  Number.of.Alarms = \u001b[32mcol_double()\u001b[39m,\n",
      "  Unit.sequence.in.call.dispatch = \u001b[32mcol_double()\u001b[39m,\n",
      "  Supervisor.District = \u001b[32mcol_double()\u001b[39m,\n",
      "  Supervisor.Districts = \u001b[32mcol_double()\u001b[39m,\n",
      "  Fire.Prevention.Districts = \u001b[32mcol_double()\u001b[39m,\n",
      "  Current.Police.Districts = \u001b[32mcol_double()\u001b[39m,\n",
      "  Neighborhoods...Analysis.Boundaries = \u001b[32mcol_double()\u001b[39m,\n",
      "  Zip.Codes = \u001b[32mcol_double()\u001b[39m,\n",
      "  Neighborhoods..old. = \u001b[32mcol_double()\u001b[39m,\n",
      "  Police.Districts = \u001b[32mcol_double()\u001b[39m,\n",
      "  Civic.Center.Harm.Reduction.Project.Boundary = \u001b[32mcol_double()\u001b[39m,\n",
      "  HSOC.Zones = \u001b[32mcol_double()\u001b[39m,\n",
      "  Central.Market.Tenderloin.Boundary.Polygon...Updated = \u001b[32mcol_double()\u001b[39m\n",
      ")\n",
      "\n",
      "See spec(...) for full column specifications.\n",
      "\n",
      "Warning message:\n",
      "“2 parsing failures.\n",
      "  row           col                     expected     actual                                             file\n",
      "14142 Response.DtTm closing quote at end of file            'muestra3_Fire_Department_Calls_for_Service.csv'\n",
      "14142 NA            44 columns                   10 columns 'muestra3_Fire_Department_Calls_for_Service.csv'\n",
      "”\n"
     ]
    }
   ],
   "source": [
    "library(readr)\n",
    "data <- read_csv('muestra3_Fire_Department_Calls_for_Service.csv')"
   ]
  },
  {
   "cell_type": "code",
   "execution_count": 6,
   "metadata": {},
   "outputs": [
    {
     "name": "stdout",
     "output_type": "stream",
     "text": [
      "[1] 14142    44\n"
     ]
    }
   ],
   "source": [
    "print(dim(data))"
   ]
  },
  {
   "cell_type": "markdown",
   "metadata": {},
   "source": [
    "# Selección de variables \n"
   ]
  },
  {
   "cell_type": "markdown",
   "metadata": {},
   "source": [
    "Después de leer la documentación y entender la estructura de la data, decidimos que el cluster que realizaremos tendrá como objetivo encontrar grupos de llamadas parecidas entre sí y contrastaremos estos grupos con la etiqueta que poseen los datos en la columna `Call Type Group`.\n",
    "Después de revisar la documentación  descartamos las columnas `Call.Type`, `RowID`, `Unit ID`, `Incident Number`, `Unit Type`, `Unit sequence in call dispatch` al igual que `Location`. Las primeras por no aportar información extra y la última porque la documentación no proporciona el tipo de proyección utilizado para referencias las coordenadas de los puntos."
   ]
  },
  {
   "cell_type": "code",
   "execution_count": 7,
   "metadata": {},
   "outputs": [],
   "source": [
    "data$RowID <- data$Unit.ID <- data$Incident.Number <- data$Location <- data$Unit.Type <- data$Unit.sequence.in.call.dispatch <- data$Call.Type <- NULL"
   ]
  },
  {
   "cell_type": "code",
   "execution_count": 8,
   "metadata": {},
   "outputs": [
    {
     "data": {
      "text/html": [
       "<style>\n",
       ".list-inline {list-style: none; margin:0; padding: 0}\n",
       ".list-inline>li {display: inline-block}\n",
       ".list-inline>li:not(:last-child)::after {content: \"\\00b7\"; padding: 0 .5ex}\n",
       "</style>\n",
       "<ol class=list-inline><li>'Call.Number'</li><li>'Call.Date'</li><li>'Watch.Date'</li><li>'Received.DtTm'</li><li>'Entry.DtTm'</li><li>'Dispatch.DtTm'</li><li>'Response.DtTm'</li><li>'On.Scene.DtTm'</li><li>'Transport.DtTm'</li><li>'Hospital.DtTm'</li><li>'Call.Final.Disposition'</li><li>'Available.DtTm'</li><li>'Address'</li><li>'City'</li><li>'Zipcode.of.Incident'</li><li>'Battalion'</li><li>'Station.Area'</li><li>'Box'</li><li>'Original.Priority'</li><li>'Priority'</li><li>'Final.Priority'</li><li>'ALS.Unit'</li><li>'Call.Type.Group'</li><li>'Number.of.Alarms'</li><li>'Fire.Prevention.District'</li><li>'Supervisor.District'</li><li>'Neighborhooods...Analysis.Boundaries'</li><li>'Supervisor.Districts'</li><li>'Fire.Prevention.Districts'</li><li>'Current.Police.Districts'</li><li>'Neighborhoods...Analysis.Boundaries'</li><li>'Zip.Codes'</li><li>'Neighborhoods..old.'</li><li>'Police.Districts'</li><li>'Civic.Center.Harm.Reduction.Project.Boundary'</li><li>'HSOC.Zones'</li><li>'Central.Market.Tenderloin.Boundary.Polygon...Updated'</li></ol>\n"
      ],
      "text/latex": [
       "\\begin{enumerate*}\n",
       "\\item 'Call.Number'\n",
       "\\item 'Call.Date'\n",
       "\\item 'Watch.Date'\n",
       "\\item 'Received.DtTm'\n",
       "\\item 'Entry.DtTm'\n",
       "\\item 'Dispatch.DtTm'\n",
       "\\item 'Response.DtTm'\n",
       "\\item 'On.Scene.DtTm'\n",
       "\\item 'Transport.DtTm'\n",
       "\\item 'Hospital.DtTm'\n",
       "\\item 'Call.Final.Disposition'\n",
       "\\item 'Available.DtTm'\n",
       "\\item 'Address'\n",
       "\\item 'City'\n",
       "\\item 'Zipcode.of.Incident'\n",
       "\\item 'Battalion'\n",
       "\\item 'Station.Area'\n",
       "\\item 'Box'\n",
       "\\item 'Original.Priority'\n",
       "\\item 'Priority'\n",
       "\\item 'Final.Priority'\n",
       "\\item 'ALS.Unit'\n",
       "\\item 'Call.Type.Group'\n",
       "\\item 'Number.of.Alarms'\n",
       "\\item 'Fire.Prevention.District'\n",
       "\\item 'Supervisor.District'\n",
       "\\item 'Neighborhooods...Analysis.Boundaries'\n",
       "\\item 'Supervisor.Districts'\n",
       "\\item 'Fire.Prevention.Districts'\n",
       "\\item 'Current.Police.Districts'\n",
       "\\item 'Neighborhoods...Analysis.Boundaries'\n",
       "\\item 'Zip.Codes'\n",
       "\\item 'Neighborhoods..old.'\n",
       "\\item 'Police.Districts'\n",
       "\\item 'Civic.Center.Harm.Reduction.Project.Boundary'\n",
       "\\item 'HSOC.Zones'\n",
       "\\item 'Central.Market.Tenderloin.Boundary.Polygon...Updated'\n",
       "\\end{enumerate*}\n"
      ],
      "text/markdown": [
       "1. 'Call.Number'\n",
       "2. 'Call.Date'\n",
       "3. 'Watch.Date'\n",
       "4. 'Received.DtTm'\n",
       "5. 'Entry.DtTm'\n",
       "6. 'Dispatch.DtTm'\n",
       "7. 'Response.DtTm'\n",
       "8. 'On.Scene.DtTm'\n",
       "9. 'Transport.DtTm'\n",
       "10. 'Hospital.DtTm'\n",
       "11. 'Call.Final.Disposition'\n",
       "12. 'Available.DtTm'\n",
       "13. 'Address'\n",
       "14. 'City'\n",
       "15. 'Zipcode.of.Incident'\n",
       "16. 'Battalion'\n",
       "17. 'Station.Area'\n",
       "18. 'Box'\n",
       "19. 'Original.Priority'\n",
       "20. 'Priority'\n",
       "21. 'Final.Priority'\n",
       "22. 'ALS.Unit'\n",
       "23. 'Call.Type.Group'\n",
       "24. 'Number.of.Alarms'\n",
       "25. 'Fire.Prevention.District'\n",
       "26. 'Supervisor.District'\n",
       "27. 'Neighborhooods...Analysis.Boundaries'\n",
       "28. 'Supervisor.Districts'\n",
       "29. 'Fire.Prevention.Districts'\n",
       "30. 'Current.Police.Districts'\n",
       "31. 'Neighborhoods...Analysis.Boundaries'\n",
       "32. 'Zip.Codes'\n",
       "33. 'Neighborhoods..old.'\n",
       "34. 'Police.Districts'\n",
       "35. 'Civic.Center.Harm.Reduction.Project.Boundary'\n",
       "36. 'HSOC.Zones'\n",
       "37. 'Central.Market.Tenderloin.Boundary.Polygon...Updated'\n",
       "\n",
       "\n"
      ],
      "text/plain": [
       " [1] \"Call.Number\"                                         \n",
       " [2] \"Call.Date\"                                           \n",
       " [3] \"Watch.Date\"                                          \n",
       " [4] \"Received.DtTm\"                                       \n",
       " [5] \"Entry.DtTm\"                                          \n",
       " [6] \"Dispatch.DtTm\"                                       \n",
       " [7] \"Response.DtTm\"                                       \n",
       " [8] \"On.Scene.DtTm\"                                       \n",
       " [9] \"Transport.DtTm\"                                      \n",
       "[10] \"Hospital.DtTm\"                                       \n",
       "[11] \"Call.Final.Disposition\"                              \n",
       "[12] \"Available.DtTm\"                                      \n",
       "[13] \"Address\"                                             \n",
       "[14] \"City\"                                                \n",
       "[15] \"Zipcode.of.Incident\"                                 \n",
       "[16] \"Battalion\"                                           \n",
       "[17] \"Station.Area\"                                        \n",
       "[18] \"Box\"                                                 \n",
       "[19] \"Original.Priority\"                                   \n",
       "[20] \"Priority\"                                            \n",
       "[21] \"Final.Priority\"                                      \n",
       "[22] \"ALS.Unit\"                                            \n",
       "[23] \"Call.Type.Group\"                                     \n",
       "[24] \"Number.of.Alarms\"                                    \n",
       "[25] \"Fire.Prevention.District\"                            \n",
       "[26] \"Supervisor.District\"                                 \n",
       "[27] \"Neighborhooods...Analysis.Boundaries\"                \n",
       "[28] \"Supervisor.Districts\"                                \n",
       "[29] \"Fire.Prevention.Districts\"                           \n",
       "[30] \"Current.Police.Districts\"                            \n",
       "[31] \"Neighborhoods...Analysis.Boundaries\"                 \n",
       "[32] \"Zip.Codes\"                                           \n",
       "[33] \"Neighborhoods..old.\"                                 \n",
       "[34] \"Police.Districts\"                                    \n",
       "[35] \"Civic.Center.Harm.Reduction.Project.Boundary\"        \n",
       "[36] \"HSOC.Zones\"                                          \n",
       "[37] \"Central.Market.Tenderloin.Boundary.Polygon...Updated\""
      ]
     },
     "metadata": {},
     "output_type": "display_data"
    }
   ],
   "source": [
    "names(data)"
   ]
  },
  {
   "cell_type": "markdown",
   "metadata": {},
   "source": [
    "En vista de que las siguientes columnas no se encuentran [documentadas en el diccionario de datos correspondiente](https://data.sfgov.org/api/views/nuek-vuh3/files/ddb7f3a9-0160-4f07-bb1e-2af744909294?download=true&filename=FIR-0002_DataDictionary_fire-calls-for-service.xlsx) procedemos a eliminarlas:\n",
    "`Current Police Districts`, `Neighborhoods - Analysis Boundaries` , `Zip Codes`, `Neighborhoods (old)`, `Police Districts`, `Civic Center Harm Reduction Project Boundary`, `HSOC Zones` y  `Central Market/Tenderloin Boundary Polygon - Updated`"
   ]
  },
  {
   "cell_type": "code",
   "execution_count": 9,
   "metadata": {},
   "outputs": [],
   "source": [
    "data[ , c('Current.Police.Districts', 'Neighborhoods...Analysis.Boundaries', 'Zip.Codes', 'Neighborhoods..old.', 'Police.Districts', \n",
    "          'Civic.Center.Harm.Reduction.Project.Boundary', 'HSOC.Zones', 'Central.Market.Tenderloin.Boundary.Polygon...Updated')] <- NULL"
   ]
  },
  {
   "cell_type": "code",
   "execution_count": 10,
   "metadata": {},
   "outputs": [
    {
     "data": {
      "text/html": [
       "<table>\n",
       "<caption>A tibble: 6 × 29</caption>\n",
       "<thead>\n",
       "\t<tr><th scope=col>Call.Number</th><th scope=col>Call.Date</th><th scope=col>Watch.Date</th><th scope=col>Received.DtTm</th><th scope=col>Entry.DtTm</th><th scope=col>Dispatch.DtTm</th><th scope=col>Response.DtTm</th><th scope=col>On.Scene.DtTm</th><th scope=col>Transport.DtTm</th><th scope=col>Hospital.DtTm</th><th scope=col>⋯</th><th scope=col>Priority</th><th scope=col>Final.Priority</th><th scope=col>ALS.Unit</th><th scope=col>Call.Type.Group</th><th scope=col>Number.of.Alarms</th><th scope=col>Fire.Prevention.District</th><th scope=col>Supervisor.District</th><th scope=col>Neighborhooods...Analysis.Boundaries</th><th scope=col>Supervisor.Districts</th><th scope=col>Fire.Prevention.Districts</th></tr>\n",
       "\t<tr><th scope=col>&lt;dbl&gt;</th><th scope=col>&lt;chr&gt;</th><th scope=col>&lt;chr&gt;</th><th scope=col>&lt;chr&gt;</th><th scope=col>&lt;chr&gt;</th><th scope=col>&lt;chr&gt;</th><th scope=col>&lt;chr&gt;</th><th scope=col>&lt;chr&gt;</th><th scope=col>&lt;chr&gt;</th><th scope=col>&lt;chr&gt;</th><th scope=col>⋯</th><th scope=col>&lt;chr&gt;</th><th scope=col>&lt;dbl&gt;</th><th scope=col>&lt;lgl&gt;</th><th scope=col>&lt;chr&gt;</th><th scope=col>&lt;dbl&gt;</th><th scope=col>&lt;chr&gt;</th><th scope=col>&lt;dbl&gt;</th><th scope=col>&lt;chr&gt;</th><th scope=col>&lt;dbl&gt;</th><th scope=col>&lt;dbl&gt;</th></tr>\n",
       "</thead>\n",
       "<tbody>\n",
       "\t<tr><td> 70350005</td><td>02/04/2007</td><td>02/03/2007</td><td>02/04/2007 12:17:58 AM</td><td>02/04/2007 12:20:11 AM</td><td>02/04/2007 12:20:23 AM</td><td>02/04/2007 12:21:55 AM</td><td>NA                    </td><td>NA                    </td><td>NA                    </td><td>⋯</td><td>3</td><td>3</td><td> TRUE</td><td>NA                          </td><td>1</td><td>8</td><td> 4</td><td>Sunset/Parkside</td><td>3</td><td> 1</td></tr>\n",
       "\t<tr><td> 21020346</td><td>04/12/2002</td><td>04/12/2002</td><td>04/12/2002 06:25:34 PM</td><td>04/12/2002 06:26:58 PM</td><td>04/12/2002 06:27:07 PM</td><td>04/12/2002 06:29:09 PM</td><td>04/12/2002 06:29:41 PM</td><td>04/12/2002 06:33:44 PM</td><td>NA                    </td><td>⋯</td><td>3</td><td>3</td><td> TRUE</td><td>NA                          </td><td>1</td><td>6</td><td> 9</td><td>Mission        </td><td>7</td><td> 2</td></tr>\n",
       "\t<tr><td>192952215</td><td>10/22/2019</td><td>10/22/2019</td><td>10/22/2019 01:29:33 PM</td><td>10/22/2019 01:32:23 PM</td><td>10/22/2019 01:32:57 PM</td><td>10/22/2019 01:34:13 PM</td><td>10/22/2019 01:35:53 PM</td><td>NA                    </td><td>NA                    </td><td>⋯</td><td>3</td><td>3</td><td>FALSE</td><td>Alarm                       </td><td>1</td><td>9</td><td>11</td><td>Outer Mission  </td><td>6</td><td> 9</td></tr>\n",
       "\t<tr><td>152393922</td><td>08/27/2015</td><td>08/27/2015</td><td>08/27/2015 09:35:37 PM</td><td>08/27/2015 09:36:26 PM</td><td>08/27/2015 09:41:36 PM</td><td>08/27/2015 09:42:44 PM</td><td>NA                    </td><td>NA                    </td><td>NA                    </td><td>⋯</td><td>3</td><td>3</td><td>FALSE</td><td>Alarm                       </td><td>1</td><td>1</td><td> 2</td><td>Russian Hill   </td><td>1</td><td> 5</td></tr>\n",
       "\t<tr><td>122590197</td><td>09/15/2012</td><td>09/15/2012</td><td>09/15/2012 03:06:15 PM</td><td>09/15/2012 03:08:54 PM</td><td>09/15/2012 03:09:14 PM</td><td>09/15/2012 03:10:02 PM</td><td>09/15/2012 03:18:19 PM</td><td>NA                    </td><td>NA                    </td><td>⋯</td><td>1</td><td>2</td><td> TRUE</td><td>Non Life-threatening        </td><td>1</td><td>9</td><td>11</td><td>Excelsior      </td><td>6</td><td> 9</td></tr>\n",
       "\t<tr><td>131650329</td><td>06/14/2013</td><td>06/14/2013</td><td>06/14/2013 07:14:10 PM</td><td>06/14/2013 07:16:17 PM</td><td>06/14/2013 07:16:35 PM</td><td>06/14/2013 07:16:46 PM</td><td>06/14/2013 07:20:39 PM</td><td>06/14/2013 07:39:44 PM</td><td>06/14/2013 07:55:31 PM</td><td>⋯</td><td>3</td><td>3</td><td> TRUE</td><td>Potentially Life-Threatening</td><td>1</td><td>4</td><td> 6</td><td>Tenderloin     </td><td>9</td><td>13</td></tr>\n",
       "</tbody>\n",
       "</table>\n"
      ],
      "text/latex": [
       "A tibble: 6 × 29\n",
       "\\begin{tabular}{lllllllllllllllllllll}\n",
       " Call.Number & Call.Date & Watch.Date & Received.DtTm & Entry.DtTm & Dispatch.DtTm & Response.DtTm & On.Scene.DtTm & Transport.DtTm & Hospital.DtTm & ⋯ & Priority & Final.Priority & ALS.Unit & Call.Type.Group & Number.of.Alarms & Fire.Prevention.District & Supervisor.District & Neighborhooods...Analysis.Boundaries & Supervisor.Districts & Fire.Prevention.Districts\\\\\n",
       " <dbl> & <chr> & <chr> & <chr> & <chr> & <chr> & <chr> & <chr> & <chr> & <chr> & ⋯ & <chr> & <dbl> & <lgl> & <chr> & <dbl> & <chr> & <dbl> & <chr> & <dbl> & <dbl>\\\\\n",
       "\\hline\n",
       "\t  70350005 & 02/04/2007 & 02/03/2007 & 02/04/2007 12:17:58 AM & 02/04/2007 12:20:11 AM & 02/04/2007 12:20:23 AM & 02/04/2007 12:21:55 AM & NA                     & NA                     & NA                     & ⋯ & 3 & 3 &  TRUE & NA                           & 1 & 8 &  4 & Sunset/Parkside & 3 &  1\\\\\n",
       "\t  21020346 & 04/12/2002 & 04/12/2002 & 04/12/2002 06:25:34 PM & 04/12/2002 06:26:58 PM & 04/12/2002 06:27:07 PM & 04/12/2002 06:29:09 PM & 04/12/2002 06:29:41 PM & 04/12/2002 06:33:44 PM & NA                     & ⋯ & 3 & 3 &  TRUE & NA                           & 1 & 6 &  9 & Mission         & 7 &  2\\\\\n",
       "\t 192952215 & 10/22/2019 & 10/22/2019 & 10/22/2019 01:29:33 PM & 10/22/2019 01:32:23 PM & 10/22/2019 01:32:57 PM & 10/22/2019 01:34:13 PM & 10/22/2019 01:35:53 PM & NA                     & NA                     & ⋯ & 3 & 3 & FALSE & Alarm                        & 1 & 9 & 11 & Outer Mission   & 6 &  9\\\\\n",
       "\t 152393922 & 08/27/2015 & 08/27/2015 & 08/27/2015 09:35:37 PM & 08/27/2015 09:36:26 PM & 08/27/2015 09:41:36 PM & 08/27/2015 09:42:44 PM & NA                     & NA                     & NA                     & ⋯ & 3 & 3 & FALSE & Alarm                        & 1 & 1 &  2 & Russian Hill    & 1 &  5\\\\\n",
       "\t 122590197 & 09/15/2012 & 09/15/2012 & 09/15/2012 03:06:15 PM & 09/15/2012 03:08:54 PM & 09/15/2012 03:09:14 PM & 09/15/2012 03:10:02 PM & 09/15/2012 03:18:19 PM & NA                     & NA                     & ⋯ & 1 & 2 &  TRUE & Non Life-threatening         & 1 & 9 & 11 & Excelsior       & 6 &  9\\\\\n",
       "\t 131650329 & 06/14/2013 & 06/14/2013 & 06/14/2013 07:14:10 PM & 06/14/2013 07:16:17 PM & 06/14/2013 07:16:35 PM & 06/14/2013 07:16:46 PM & 06/14/2013 07:20:39 PM & 06/14/2013 07:39:44 PM & 06/14/2013 07:55:31 PM & ⋯ & 3 & 3 &  TRUE & Potentially Life-Threatening & 1 & 4 &  6 & Tenderloin      & 9 & 13\\\\\n",
       "\\end{tabular}\n"
      ],
      "text/markdown": [
       "\n",
       "A tibble: 6 × 29\n",
       "\n",
       "| Call.Number &lt;dbl&gt; | Call.Date &lt;chr&gt; | Watch.Date &lt;chr&gt; | Received.DtTm &lt;chr&gt; | Entry.DtTm &lt;chr&gt; | Dispatch.DtTm &lt;chr&gt; | Response.DtTm &lt;chr&gt; | On.Scene.DtTm &lt;chr&gt; | Transport.DtTm &lt;chr&gt; | Hospital.DtTm &lt;chr&gt; | ⋯ ⋯ | Priority &lt;chr&gt; | Final.Priority &lt;dbl&gt; | ALS.Unit &lt;lgl&gt; | Call.Type.Group &lt;chr&gt; | Number.of.Alarms &lt;dbl&gt; | Fire.Prevention.District &lt;chr&gt; | Supervisor.District &lt;dbl&gt; | Neighborhooods...Analysis.Boundaries &lt;chr&gt; | Supervisor.Districts &lt;dbl&gt; | Fire.Prevention.Districts &lt;dbl&gt; |\n",
       "|---|---|---|---|---|---|---|---|---|---|---|---|---|---|---|---|---|---|---|---|---|\n",
       "|  70350005 | 02/04/2007 | 02/03/2007 | 02/04/2007 12:17:58 AM | 02/04/2007 12:20:11 AM | 02/04/2007 12:20:23 AM | 02/04/2007 12:21:55 AM | NA                     | NA                     | NA                     | ⋯ | 3 | 3 |  TRUE | NA                           | 1 | 8 |  4 | Sunset/Parkside | 3 |  1 |\n",
       "|  21020346 | 04/12/2002 | 04/12/2002 | 04/12/2002 06:25:34 PM | 04/12/2002 06:26:58 PM | 04/12/2002 06:27:07 PM | 04/12/2002 06:29:09 PM | 04/12/2002 06:29:41 PM | 04/12/2002 06:33:44 PM | NA                     | ⋯ | 3 | 3 |  TRUE | NA                           | 1 | 6 |  9 | Mission         | 7 |  2 |\n",
       "| 192952215 | 10/22/2019 | 10/22/2019 | 10/22/2019 01:29:33 PM | 10/22/2019 01:32:23 PM | 10/22/2019 01:32:57 PM | 10/22/2019 01:34:13 PM | 10/22/2019 01:35:53 PM | NA                     | NA                     | ⋯ | 3 | 3 | FALSE | Alarm                        | 1 | 9 | 11 | Outer Mission   | 6 |  9 |\n",
       "| 152393922 | 08/27/2015 | 08/27/2015 | 08/27/2015 09:35:37 PM | 08/27/2015 09:36:26 PM | 08/27/2015 09:41:36 PM | 08/27/2015 09:42:44 PM | NA                     | NA                     | NA                     | ⋯ | 3 | 3 | FALSE | Alarm                        | 1 | 1 |  2 | Russian Hill    | 1 |  5 |\n",
       "| 122590197 | 09/15/2012 | 09/15/2012 | 09/15/2012 03:06:15 PM | 09/15/2012 03:08:54 PM | 09/15/2012 03:09:14 PM | 09/15/2012 03:10:02 PM | 09/15/2012 03:18:19 PM | NA                     | NA                     | ⋯ | 1 | 2 |  TRUE | Non Life-threatening         | 1 | 9 | 11 | Excelsior       | 6 |  9 |\n",
       "| 131650329 | 06/14/2013 | 06/14/2013 | 06/14/2013 07:14:10 PM | 06/14/2013 07:16:17 PM | 06/14/2013 07:16:35 PM | 06/14/2013 07:16:46 PM | 06/14/2013 07:20:39 PM | 06/14/2013 07:39:44 PM | 06/14/2013 07:55:31 PM | ⋯ | 3 | 3 |  TRUE | Potentially Life-Threatening | 1 | 4 |  6 | Tenderloin      | 9 | 13 |\n",
       "\n"
      ],
      "text/plain": [
       "  Call.Number Call.Date  Watch.Date Received.DtTm         \n",
       "1  70350005   02/04/2007 02/03/2007 02/04/2007 12:17:58 AM\n",
       "2  21020346   04/12/2002 04/12/2002 04/12/2002 06:25:34 PM\n",
       "3 192952215   10/22/2019 10/22/2019 10/22/2019 01:29:33 PM\n",
       "4 152393922   08/27/2015 08/27/2015 08/27/2015 09:35:37 PM\n",
       "5 122590197   09/15/2012 09/15/2012 09/15/2012 03:06:15 PM\n",
       "6 131650329   06/14/2013 06/14/2013 06/14/2013 07:14:10 PM\n",
       "  Entry.DtTm             Dispatch.DtTm          Response.DtTm         \n",
       "1 02/04/2007 12:20:11 AM 02/04/2007 12:20:23 AM 02/04/2007 12:21:55 AM\n",
       "2 04/12/2002 06:26:58 PM 04/12/2002 06:27:07 PM 04/12/2002 06:29:09 PM\n",
       "3 10/22/2019 01:32:23 PM 10/22/2019 01:32:57 PM 10/22/2019 01:34:13 PM\n",
       "4 08/27/2015 09:36:26 PM 08/27/2015 09:41:36 PM 08/27/2015 09:42:44 PM\n",
       "5 09/15/2012 03:08:54 PM 09/15/2012 03:09:14 PM 09/15/2012 03:10:02 PM\n",
       "6 06/14/2013 07:16:17 PM 06/14/2013 07:16:35 PM 06/14/2013 07:16:46 PM\n",
       "  On.Scene.DtTm          Transport.DtTm         Hospital.DtTm          ⋯\n",
       "1 NA                     NA                     NA                     ⋯\n",
       "2 04/12/2002 06:29:41 PM 04/12/2002 06:33:44 PM NA                     ⋯\n",
       "3 10/22/2019 01:35:53 PM NA                     NA                     ⋯\n",
       "4 NA                     NA                     NA                     ⋯\n",
       "5 09/15/2012 03:18:19 PM NA                     NA                     ⋯\n",
       "6 06/14/2013 07:20:39 PM 06/14/2013 07:39:44 PM 06/14/2013 07:55:31 PM ⋯\n",
       "  Priority Final.Priority ALS.Unit Call.Type.Group             \n",
       "1 3        3               TRUE    NA                          \n",
       "2 3        3               TRUE    NA                          \n",
       "3 3        3              FALSE    Alarm                       \n",
       "4 3        3              FALSE    Alarm                       \n",
       "5 1        2               TRUE    Non Life-threatening        \n",
       "6 3        3               TRUE    Potentially Life-Threatening\n",
       "  Number.of.Alarms Fire.Prevention.District Supervisor.District\n",
       "1 1                8                         4                 \n",
       "2 1                6                         9                 \n",
       "3 1                9                        11                 \n",
       "4 1                1                         2                 \n",
       "5 1                9                        11                 \n",
       "6 1                4                         6                 \n",
       "  Neighborhooods...Analysis.Boundaries Supervisor.Districts\n",
       "1 Sunset/Parkside                      3                   \n",
       "2 Mission                              7                   \n",
       "3 Outer Mission                        6                   \n",
       "4 Russian Hill                         1                   \n",
       "5 Excelsior                            6                   \n",
       "6 Tenderloin                           9                   \n",
       "  Fire.Prevention.Districts\n",
       "1  1                       \n",
       "2  2                       \n",
       "3  9                       \n",
       "4  5                       \n",
       "5  9                       \n",
       "6 13                       "
      ]
     },
     "metadata": {},
     "output_type": "display_data"
    }
   ],
   "source": [
    "head(data)"
   ]
  },
  {
   "cell_type": "markdown",
   "metadata": {},
   "source": [
    "# Limpieza de datos \n"
   ]
  },
  {
   "cell_type": "markdown",
   "metadata": {},
   "source": [
    "Procedemos a retener el último registro de cada llamada, el cual contiene la información acumulada de los anteriores. "
   ]
  },
  {
   "cell_type": "code",
   "execution_count": 11,
   "metadata": {},
   "outputs": [
    {
     "name": "stderr",
     "output_type": "stream",
     "text": [
      "\n",
      "Attaching package: ‘dplyr’\n",
      "\n",
      "\n",
      "The following objects are masked from ‘package:stats’:\n",
      "\n",
      "    filter, lag\n",
      "\n",
      "\n",
      "The following objects are masked from ‘package:base’:\n",
      "\n",
      "    intersect, setdiff, setequal, union\n",
      "\n",
      "\n",
      "\n",
      "Attaching package: ‘lubridate’\n",
      "\n",
      "\n",
      "The following objects are masked from ‘package:base’:\n",
      "\n",
      "    date, intersect, setdiff, union\n",
      "\n",
      "\n",
      "Warning message:\n",
      "“ 1 failed to parse.”\n"
     ]
    }
   ],
   "source": [
    "library(dplyr)\n",
    "library(lubridate)\n",
    "data$Received.DtTm <- mdy_hms(data$Received.DtTm)\n",
    "data %>% group_by(Call.Number ) %>% arrange(Call.Number , Received.DtTm ) %>% mutate( flag1 = n() ,flag2 = row_number()) -> data\n",
    "data %>% filter(flag1 ==flag2 ) -> data\n",
    "data$flag1 <- data$flag2 <- NULL\n",
    "data$Available.DtTm <- NULL\n",
    "data$Call.Date <- mdy(data$Call.Date)\n",
    "data$Watch.Date <- mdy(data$Watch.Date)\n",
    "data$Entry.DtTm <- mdy_hms(data$Entry.DtTm)\n",
    "data$Dispatch.DtTm <- mdy_hms(data$Dispatch.DtTm)\n",
    "data$Response.DtTm <- mdy_hms( data$Response.DtTm) \n",
    "data$On.Scene.DtTm <- mdy_hms( data$On.Scene.DtTm) \n",
    "data$Transport.DtTm <- mdy_hms(data$Transport.DtTm) \n",
    "data$Hospital.DtTm <- mdy_hms(data$Hospital.DtTm) \n"
   ]
  },
  {
   "cell_type": "markdown",
   "metadata": {},
   "source": [
    "Como suponemos que la duración de la llamada está correlacionada con su clasificación con las variables de tipo fecha (`Call.Date`, `Watch.Date`, `Received.DtTm`, `Entry.DtTm`, `Dispatch.DtTm`, `Response.DtTm`, `On.Scene.DtTm`, `Transport.DtTm`, `Hospital.DtTm`) obtenemos la duración aproximada de la llamada. \n"
   ]
  },
  {
   "cell_type": "code",
   "execution_count": 12,
   "metadata": {},
   "outputs": [
    {
     "data": {
      "text/html": [
       "<table>\n",
       "<caption>A grouped_df: 6 × 28</caption>\n",
       "<thead>\n",
       "\t<tr><th scope=col>Call.Number</th><th scope=col>Call.Date</th><th scope=col>Watch.Date</th><th scope=col>Received.DtTm</th><th scope=col>Entry.DtTm</th><th scope=col>Dispatch.DtTm</th><th scope=col>Response.DtTm</th><th scope=col>On.Scene.DtTm</th><th scope=col>Transport.DtTm</th><th scope=col>Hospital.DtTm</th><th scope=col>⋯</th><th scope=col>Priority</th><th scope=col>Final.Priority</th><th scope=col>ALS.Unit</th><th scope=col>Call.Type.Group</th><th scope=col>Number.of.Alarms</th><th scope=col>Fire.Prevention.District</th><th scope=col>Supervisor.District</th><th scope=col>Neighborhooods...Analysis.Boundaries</th><th scope=col>Supervisor.Districts</th><th scope=col>Fire.Prevention.Districts</th></tr>\n",
       "\t<tr><th scope=col>&lt;dbl&gt;</th><th scope=col>&lt;date&gt;</th><th scope=col>&lt;date&gt;</th><th scope=col>&lt;dttm&gt;</th><th scope=col>&lt;dttm&gt;</th><th scope=col>&lt;dttm&gt;</th><th scope=col>&lt;dttm&gt;</th><th scope=col>&lt;dttm&gt;</th><th scope=col>&lt;dttm&gt;</th><th scope=col>&lt;dttm&gt;</th><th scope=col>⋯</th><th scope=col>&lt;chr&gt;</th><th scope=col>&lt;dbl&gt;</th><th scope=col>&lt;lgl&gt;</th><th scope=col>&lt;chr&gt;</th><th scope=col>&lt;dbl&gt;</th><th scope=col>&lt;chr&gt;</th><th scope=col>&lt;dbl&gt;</th><th scope=col>&lt;chr&gt;</th><th scope=col>&lt;dbl&gt;</th><th scope=col>&lt;dbl&gt;</th></tr>\n",
       "</thead>\n",
       "<tbody>\n",
       "\t<tr><td>1050067</td><td>2000-04-14</td><td>2000-04-14</td><td>2000-04-14 08:20:12</td><td>2000-04-14 08:21:03</td><td>2000-04-14 08:23:48</td><td>2000-04-14 08:24:20</td><td>2000-04-14 08:34:27</td><td>NA</td><td>NA</td><td>⋯</td><td>1</td><td>2</td><td>FALSE</td><td>NA</td><td>1</td><td>2</td><td>10</td><td>Potrero Hill</td><td> 8</td><td> 8</td></tr>\n",
       "\t<tr><td>1050380</td><td>2000-04-14</td><td>2000-04-14</td><td>2000-04-14 23:46:31</td><td>2000-04-14 23:47:37</td><td>2000-04-14 23:48:06</td><td>2000-04-14 23:55:47</td><td>2000-04-14 23:59:50</td><td>NA</td><td>NA</td><td>⋯</td><td>3</td><td>3</td><td> TRUE</td><td>NA</td><td>1</td><td>3</td><td> 6</td><td>Tenderloin  </td><td> 9</td><td>14</td></tr>\n",
       "\t<tr><td>1060050</td><td>2000-04-15</td><td>2000-04-14</td><td>2000-04-15 06:01:11</td><td>2000-04-15 06:01:52</td><td>2000-04-15 06:02:13</td><td>2000-04-15 06:04:06</td><td>2000-04-15 06:05:24</td><td>NA</td><td>NA</td><td>⋯</td><td>3</td><td>3</td><td> TRUE</td><td>NA</td><td>1</td><td>4</td><td> 6</td><td>Tenderloin  </td><td> 9</td><td>13</td></tr>\n",
       "\t<tr><td>1060066</td><td>2000-04-15</td><td>2000-04-15</td><td>2000-04-15 08:10:42</td><td>2000-04-15 08:12:30</td><td>2000-04-15 08:13:47</td><td>2000-04-15 08:16:17</td><td>2000-04-15 08:18:57</td><td>NA</td><td>NA</td><td>⋯</td><td>3</td><td>3</td><td>FALSE</td><td>NA</td><td>1</td><td>9</td><td>11</td><td>Excelsior   </td><td> 6</td><td> 9</td></tr>\n",
       "\t<tr><td>1070035</td><td>2000-04-16</td><td>2000-04-15</td><td>2000-04-16 01:56:02</td><td>2000-04-16 01:57:19</td><td>2000-04-16 01:58:38</td><td>2000-04-16 02:00:12</td><td>2000-04-16 02:02:41</td><td>NA</td><td>NA</td><td>⋯</td><td>3</td><td>3</td><td>FALSE</td><td>NA</td><td>1</td><td>1</td><td> 3</td><td>North Beach </td><td>10</td><td> 3</td></tr>\n",
       "\t<tr><td>1070156</td><td>2000-04-16</td><td>2000-04-16</td><td>2000-04-16 13:05:51</td><td>2000-04-16 13:06:15</td><td>2000-04-16 13:06:57</td><td>2000-04-16 13:09:40</td><td>2000-04-16 13:11:41</td><td>NA</td><td>NA</td><td>⋯</td><td>3</td><td>3</td><td>FALSE</td><td>NA</td><td>1</td><td>2</td><td> 6</td><td>Tenderloin  </td><td> 9</td><td> 7</td></tr>\n",
       "</tbody>\n",
       "</table>\n"
      ],
      "text/latex": [
       "A grouped\\_df: 6 × 28\n",
       "\\begin{tabular}{lllllllllllllllllllll}\n",
       " Call.Number & Call.Date & Watch.Date & Received.DtTm & Entry.DtTm & Dispatch.DtTm & Response.DtTm & On.Scene.DtTm & Transport.DtTm & Hospital.DtTm & ⋯ & Priority & Final.Priority & ALS.Unit & Call.Type.Group & Number.of.Alarms & Fire.Prevention.District & Supervisor.District & Neighborhooods...Analysis.Boundaries & Supervisor.Districts & Fire.Prevention.Districts\\\\\n",
       " <dbl> & <date> & <date> & <dttm> & <dttm> & <dttm> & <dttm> & <dttm> & <dttm> & <dttm> & ⋯ & <chr> & <dbl> & <lgl> & <chr> & <dbl> & <chr> & <dbl> & <chr> & <dbl> & <dbl>\\\\\n",
       "\\hline\n",
       "\t 1050067 & 2000-04-14 & 2000-04-14 & 2000-04-14 08:20:12 & 2000-04-14 08:21:03 & 2000-04-14 08:23:48 & 2000-04-14 08:24:20 & 2000-04-14 08:34:27 & NA & NA & ⋯ & 1 & 2 & FALSE & NA & 1 & 2 & 10 & Potrero Hill &  8 &  8\\\\\n",
       "\t 1050380 & 2000-04-14 & 2000-04-14 & 2000-04-14 23:46:31 & 2000-04-14 23:47:37 & 2000-04-14 23:48:06 & 2000-04-14 23:55:47 & 2000-04-14 23:59:50 & NA & NA & ⋯ & 3 & 3 &  TRUE & NA & 1 & 3 &  6 & Tenderloin   &  9 & 14\\\\\n",
       "\t 1060050 & 2000-04-15 & 2000-04-14 & 2000-04-15 06:01:11 & 2000-04-15 06:01:52 & 2000-04-15 06:02:13 & 2000-04-15 06:04:06 & 2000-04-15 06:05:24 & NA & NA & ⋯ & 3 & 3 &  TRUE & NA & 1 & 4 &  6 & Tenderloin   &  9 & 13\\\\\n",
       "\t 1060066 & 2000-04-15 & 2000-04-15 & 2000-04-15 08:10:42 & 2000-04-15 08:12:30 & 2000-04-15 08:13:47 & 2000-04-15 08:16:17 & 2000-04-15 08:18:57 & NA & NA & ⋯ & 3 & 3 & FALSE & NA & 1 & 9 & 11 & Excelsior    &  6 &  9\\\\\n",
       "\t 1070035 & 2000-04-16 & 2000-04-15 & 2000-04-16 01:56:02 & 2000-04-16 01:57:19 & 2000-04-16 01:58:38 & 2000-04-16 02:00:12 & 2000-04-16 02:02:41 & NA & NA & ⋯ & 3 & 3 & FALSE & NA & 1 & 1 &  3 & North Beach  & 10 &  3\\\\\n",
       "\t 1070156 & 2000-04-16 & 2000-04-16 & 2000-04-16 13:05:51 & 2000-04-16 13:06:15 & 2000-04-16 13:06:57 & 2000-04-16 13:09:40 & 2000-04-16 13:11:41 & NA & NA & ⋯ & 3 & 3 & FALSE & NA & 1 & 2 &  6 & Tenderloin   &  9 &  7\\\\\n",
       "\\end{tabular}\n"
      ],
      "text/markdown": [
       "\n",
       "A grouped_df: 6 × 28\n",
       "\n",
       "| Call.Number &lt;dbl&gt; | Call.Date &lt;date&gt; | Watch.Date &lt;date&gt; | Received.DtTm &lt;dttm&gt; | Entry.DtTm &lt;dttm&gt; | Dispatch.DtTm &lt;dttm&gt; | Response.DtTm &lt;dttm&gt; | On.Scene.DtTm &lt;dttm&gt; | Transport.DtTm &lt;dttm&gt; | Hospital.DtTm &lt;dttm&gt; | ⋯ ⋯ | Priority &lt;chr&gt; | Final.Priority &lt;dbl&gt; | ALS.Unit &lt;lgl&gt; | Call.Type.Group &lt;chr&gt; | Number.of.Alarms &lt;dbl&gt; | Fire.Prevention.District &lt;chr&gt; | Supervisor.District &lt;dbl&gt; | Neighborhooods...Analysis.Boundaries &lt;chr&gt; | Supervisor.Districts &lt;dbl&gt; | Fire.Prevention.Districts &lt;dbl&gt; |\n",
       "|---|---|---|---|---|---|---|---|---|---|---|---|---|---|---|---|---|---|---|---|---|\n",
       "| 1050067 | 2000-04-14 | 2000-04-14 | 2000-04-14 08:20:12 | 2000-04-14 08:21:03 | 2000-04-14 08:23:48 | 2000-04-14 08:24:20 | 2000-04-14 08:34:27 | NA | NA | ⋯ | 1 | 2 | FALSE | NA | 1 | 2 | 10 | Potrero Hill |  8 |  8 |\n",
       "| 1050380 | 2000-04-14 | 2000-04-14 | 2000-04-14 23:46:31 | 2000-04-14 23:47:37 | 2000-04-14 23:48:06 | 2000-04-14 23:55:47 | 2000-04-14 23:59:50 | NA | NA | ⋯ | 3 | 3 |  TRUE | NA | 1 | 3 |  6 | Tenderloin   |  9 | 14 |\n",
       "| 1060050 | 2000-04-15 | 2000-04-14 | 2000-04-15 06:01:11 | 2000-04-15 06:01:52 | 2000-04-15 06:02:13 | 2000-04-15 06:04:06 | 2000-04-15 06:05:24 | NA | NA | ⋯ | 3 | 3 |  TRUE | NA | 1 | 4 |  6 | Tenderloin   |  9 | 13 |\n",
       "| 1060066 | 2000-04-15 | 2000-04-15 | 2000-04-15 08:10:42 | 2000-04-15 08:12:30 | 2000-04-15 08:13:47 | 2000-04-15 08:16:17 | 2000-04-15 08:18:57 | NA | NA | ⋯ | 3 | 3 | FALSE | NA | 1 | 9 | 11 | Excelsior    |  6 |  9 |\n",
       "| 1070035 | 2000-04-16 | 2000-04-15 | 2000-04-16 01:56:02 | 2000-04-16 01:57:19 | 2000-04-16 01:58:38 | 2000-04-16 02:00:12 | 2000-04-16 02:02:41 | NA | NA | ⋯ | 3 | 3 | FALSE | NA | 1 | 1 |  3 | North Beach  | 10 |  3 |\n",
       "| 1070156 | 2000-04-16 | 2000-04-16 | 2000-04-16 13:05:51 | 2000-04-16 13:06:15 | 2000-04-16 13:06:57 | 2000-04-16 13:09:40 | 2000-04-16 13:11:41 | NA | NA | ⋯ | 3 | 3 | FALSE | NA | 1 | 2 |  6 | Tenderloin   |  9 |  7 |\n",
       "\n"
      ],
      "text/plain": [
       "  Call.Number Call.Date  Watch.Date Received.DtTm       Entry.DtTm         \n",
       "1 1050067     2000-04-14 2000-04-14 2000-04-14 08:20:12 2000-04-14 08:21:03\n",
       "2 1050380     2000-04-14 2000-04-14 2000-04-14 23:46:31 2000-04-14 23:47:37\n",
       "3 1060050     2000-04-15 2000-04-14 2000-04-15 06:01:11 2000-04-15 06:01:52\n",
       "4 1060066     2000-04-15 2000-04-15 2000-04-15 08:10:42 2000-04-15 08:12:30\n",
       "5 1070035     2000-04-16 2000-04-15 2000-04-16 01:56:02 2000-04-16 01:57:19\n",
       "6 1070156     2000-04-16 2000-04-16 2000-04-16 13:05:51 2000-04-16 13:06:15\n",
       "  Dispatch.DtTm       Response.DtTm       On.Scene.DtTm       Transport.DtTm\n",
       "1 2000-04-14 08:23:48 2000-04-14 08:24:20 2000-04-14 08:34:27 <NA>          \n",
       "2 2000-04-14 23:48:06 2000-04-14 23:55:47 2000-04-14 23:59:50 <NA>          \n",
       "3 2000-04-15 06:02:13 2000-04-15 06:04:06 2000-04-15 06:05:24 <NA>          \n",
       "4 2000-04-15 08:13:47 2000-04-15 08:16:17 2000-04-15 08:18:57 <NA>          \n",
       "5 2000-04-16 01:58:38 2000-04-16 02:00:12 2000-04-16 02:02:41 <NA>          \n",
       "6 2000-04-16 13:06:57 2000-04-16 13:09:40 2000-04-16 13:11:41 <NA>          \n",
       "  Hospital.DtTm ⋯ Priority Final.Priority ALS.Unit Call.Type.Group\n",
       "1 <NA>          ⋯ 1        2              FALSE    NA             \n",
       "2 <NA>          ⋯ 3        3               TRUE    NA             \n",
       "3 <NA>          ⋯ 3        3               TRUE    NA             \n",
       "4 <NA>          ⋯ 3        3              FALSE    NA             \n",
       "5 <NA>          ⋯ 3        3              FALSE    NA             \n",
       "6 <NA>          ⋯ 3        3              FALSE    NA             \n",
       "  Number.of.Alarms Fire.Prevention.District Supervisor.District\n",
       "1 1                2                        10                 \n",
       "2 1                3                         6                 \n",
       "3 1                4                         6                 \n",
       "4 1                9                        11                 \n",
       "5 1                1                         3                 \n",
       "6 1                2                         6                 \n",
       "  Neighborhooods...Analysis.Boundaries Supervisor.Districts\n",
       "1 Potrero Hill                          8                  \n",
       "2 Tenderloin                            9                  \n",
       "3 Tenderloin                            9                  \n",
       "4 Excelsior                             6                  \n",
       "5 North Beach                          10                  \n",
       "6 Tenderloin                            9                  \n",
       "  Fire.Prevention.Districts\n",
       "1  8                       \n",
       "2 14                       \n",
       "3 13                       \n",
       "4  9                       \n",
       "5  3                       \n",
       "6  7                       "
      ]
     },
     "metadata": {},
     "output_type": "display_data"
    }
   ],
   "source": [
    "head(data)"
   ]
  },
  {
   "cell_type": "code",
   "execution_count": 13,
   "metadata": {},
   "outputs": [
    {
     "name": "stderr",
     "output_type": "stream",
     "text": [
      "Installing package into ‘/home/jupyter/.R/library’\n",
      "(as ‘lib’ is unspecified)\n",
      "\n"
     ]
    }
   ],
   "source": [
    "install.packages('reshape2')\n",
    "library(reshape2)"
   ]
  },
  {
   "cell_type": "code",
   "execution_count": 14,
   "metadata": {},
   "outputs": [
    {
     "name": "stderr",
     "output_type": "stream",
     "text": [
      "Warning message:\n",
      "“attributes are not identical across measure variables; they will be dropped”\n"
     ]
    },
    {
     "data": {
      "text/html": [
       "<table>\n",
       "<caption>A data.frame: 6 × 21</caption>\n",
       "<thead>\n",
       "\t<tr><th></th><th scope=col>Call.Number</th><th scope=col>Call.Final.Disposition</th><th scope=col>Address</th><th scope=col>City</th><th scope=col>Zipcode.of.Incident</th><th scope=col>Battalion</th><th scope=col>Station.Area</th><th scope=col>Box</th><th scope=col>Original.Priority</th><th scope=col>Priority</th><th scope=col>⋯</th><th scope=col>ALS.Unit</th><th scope=col>Call.Type.Group</th><th scope=col>Number.of.Alarms</th><th scope=col>Fire.Prevention.District</th><th scope=col>Supervisor.District</th><th scope=col>Neighborhooods...Analysis.Boundaries</th><th scope=col>Supervisor.Districts</th><th scope=col>Fire.Prevention.Districts</th><th scope=col>variable</th><th scope=col>value</th></tr>\n",
       "\t<tr><th></th><th scope=col>&lt;dbl&gt;</th><th scope=col>&lt;chr&gt;</th><th scope=col>&lt;chr&gt;</th><th scope=col>&lt;chr&gt;</th><th scope=col>&lt;dbl&gt;</th><th scope=col>&lt;chr&gt;</th><th scope=col>&lt;chr&gt;</th><th scope=col>&lt;chr&gt;</th><th scope=col>&lt;chr&gt;</th><th scope=col>&lt;chr&gt;</th><th scope=col>⋯</th><th scope=col>&lt;lgl&gt;</th><th scope=col>&lt;chr&gt;</th><th scope=col>&lt;dbl&gt;</th><th scope=col>&lt;chr&gt;</th><th scope=col>&lt;dbl&gt;</th><th scope=col>&lt;chr&gt;</th><th scope=col>&lt;dbl&gt;</th><th scope=col>&lt;dbl&gt;</th><th scope=col>&lt;fct&gt;</th><th scope=col>&lt;dbl&gt;</th></tr>\n",
       "</thead>\n",
       "<tbody>\n",
       "\t<tr><th scope=row>1</th><td>1050067</td><td>Other</td><td>MARIPOSA ST/POTRERO AV</td><td>SF</td><td>94110</td><td>B02</td><td>29</td><td>5243</td><td>1</td><td>1</td><td>⋯</td><td>FALSE</td><td>NA</td><td>1</td><td>2</td><td>10</td><td>Potrero Hill</td><td> 8</td><td> 8</td><td>Received.DtTm</td><td>955700412</td></tr>\n",
       "\t<tr><th scope=row>2</th><td>1050380</td><td>Other</td><td>TAYLOR ST/TURK ST     </td><td>SF</td><td>94102</td><td>B03</td><td>01</td><td>1365</td><td>3</td><td>3</td><td>⋯</td><td> TRUE</td><td>NA</td><td>1</td><td>3</td><td> 6</td><td>Tenderloin  </td><td> 9</td><td>14</td><td>Received.DtTm</td><td>955755991</td></tr>\n",
       "\t<tr><th scope=row>3</th><td>1060050</td><td>Other</td><td>700 Block of GEARY ST </td><td>SF</td><td>94109</td><td>B04</td><td>03</td><td>1556</td><td>3</td><td>3</td><td>⋯</td><td> TRUE</td><td>NA</td><td>1</td><td>4</td><td> 6</td><td>Tenderloin  </td><td> 9</td><td>13</td><td>Received.DtTm</td><td>955778471</td></tr>\n",
       "\t<tr><th scope=row>4</th><td>1060066</td><td>Other</td><td>100 Block of PARIS ST </td><td>SF</td><td>94112</td><td>B09</td><td>43</td><td>6131</td><td>3</td><td>3</td><td>⋯</td><td>FALSE</td><td>NA</td><td>1</td><td>9</td><td>11</td><td>Excelsior   </td><td> 6</td><td> 9</td><td>Received.DtTm</td><td>955786242</td></tr>\n",
       "\t<tr><th scope=row>5</th><td>1070035</td><td>Other</td><td>500 Block of BROADWAY </td><td>SF</td><td>94133</td><td>B01</td><td>02</td><td>1311</td><td>3</td><td>3</td><td>⋯</td><td>FALSE</td><td>NA</td><td>1</td><td>1</td><td> 3</td><td>North Beach </td><td>10</td><td> 3</td><td>Received.DtTm</td><td>955850162</td></tr>\n",
       "\t<tr><th scope=row>6</th><td>1070156</td><td>Other</td><td>200 Block of TURK ST  </td><td>SF</td><td>94102</td><td>B03</td><td>01</td><td>1456</td><td>3</td><td>3</td><td>⋯</td><td>FALSE</td><td>NA</td><td>1</td><td>2</td><td> 6</td><td>Tenderloin  </td><td> 9</td><td> 7</td><td>Received.DtTm</td><td>955890351</td></tr>\n",
       "</tbody>\n",
       "</table>\n"
      ],
      "text/latex": [
       "A data.frame: 6 × 21\n",
       "\\begin{tabular}{r|lllllllllllllllllllll}\n",
       "  & Call.Number & Call.Final.Disposition & Address & City & Zipcode.of.Incident & Battalion & Station.Area & Box & Original.Priority & Priority & ⋯ & ALS.Unit & Call.Type.Group & Number.of.Alarms & Fire.Prevention.District & Supervisor.District & Neighborhooods...Analysis.Boundaries & Supervisor.Districts & Fire.Prevention.Districts & variable & value\\\\\n",
       "  & <dbl> & <chr> & <chr> & <chr> & <dbl> & <chr> & <chr> & <chr> & <chr> & <chr> & ⋯ & <lgl> & <chr> & <dbl> & <chr> & <dbl> & <chr> & <dbl> & <dbl> & <fct> & <dbl>\\\\\n",
       "\\hline\n",
       "\t1 & 1050067 & Other & MARIPOSA ST/POTRERO AV & SF & 94110 & B02 & 29 & 5243 & 1 & 1 & ⋯ & FALSE & NA & 1 & 2 & 10 & Potrero Hill &  8 &  8 & Received.DtTm & 955700412\\\\\n",
       "\t2 & 1050380 & Other & TAYLOR ST/TURK ST      & SF & 94102 & B03 & 01 & 1365 & 3 & 3 & ⋯ &  TRUE & NA & 1 & 3 &  6 & Tenderloin   &  9 & 14 & Received.DtTm & 955755991\\\\\n",
       "\t3 & 1060050 & Other & 700 Block of GEARY ST  & SF & 94109 & B04 & 03 & 1556 & 3 & 3 & ⋯ &  TRUE & NA & 1 & 4 &  6 & Tenderloin   &  9 & 13 & Received.DtTm & 955778471\\\\\n",
       "\t4 & 1060066 & Other & 100 Block of PARIS ST  & SF & 94112 & B09 & 43 & 6131 & 3 & 3 & ⋯ & FALSE & NA & 1 & 9 & 11 & Excelsior    &  6 &  9 & Received.DtTm & 955786242\\\\\n",
       "\t5 & 1070035 & Other & 500 Block of BROADWAY  & SF & 94133 & B01 & 02 & 1311 & 3 & 3 & ⋯ & FALSE & NA & 1 & 1 &  3 & North Beach  & 10 &  3 & Received.DtTm & 955850162\\\\\n",
       "\t6 & 1070156 & Other & 200 Block of TURK ST   & SF & 94102 & B03 & 01 & 1456 & 3 & 3 & ⋯ & FALSE & NA & 1 & 2 &  6 & Tenderloin   &  9 &  7 & Received.DtTm & 955890351\\\\\n",
       "\\end{tabular}\n"
      ],
      "text/markdown": [
       "\n",
       "A data.frame: 6 × 21\n",
       "\n",
       "| <!--/--> | Call.Number &lt;dbl&gt; | Call.Final.Disposition &lt;chr&gt; | Address &lt;chr&gt; | City &lt;chr&gt; | Zipcode.of.Incident &lt;dbl&gt; | Battalion &lt;chr&gt; | Station.Area &lt;chr&gt; | Box &lt;chr&gt; | Original.Priority &lt;chr&gt; | Priority &lt;chr&gt; | ⋯ ⋯ | ALS.Unit &lt;lgl&gt; | Call.Type.Group &lt;chr&gt; | Number.of.Alarms &lt;dbl&gt; | Fire.Prevention.District &lt;chr&gt; | Supervisor.District &lt;dbl&gt; | Neighborhooods...Analysis.Boundaries &lt;chr&gt; | Supervisor.Districts &lt;dbl&gt; | Fire.Prevention.Districts &lt;dbl&gt; | variable &lt;fct&gt; | value &lt;dbl&gt; |\n",
       "|---|---|---|---|---|---|---|---|---|---|---|---|---|---|---|---|---|---|---|---|---|---|\n",
       "| 1 | 1050067 | Other | MARIPOSA ST/POTRERO AV | SF | 94110 | B02 | 29 | 5243 | 1 | 1 | ⋯ | FALSE | NA | 1 | 2 | 10 | Potrero Hill |  8 |  8 | Received.DtTm | 955700412 |\n",
       "| 2 | 1050380 | Other | TAYLOR ST/TURK ST      | SF | 94102 | B03 | 01 | 1365 | 3 | 3 | ⋯ |  TRUE | NA | 1 | 3 |  6 | Tenderloin   |  9 | 14 | Received.DtTm | 955755991 |\n",
       "| 3 | 1060050 | Other | 700 Block of GEARY ST  | SF | 94109 | B04 | 03 | 1556 | 3 | 3 | ⋯ |  TRUE | NA | 1 | 4 |  6 | Tenderloin   |  9 | 13 | Received.DtTm | 955778471 |\n",
       "| 4 | 1060066 | Other | 100 Block of PARIS ST  | SF | 94112 | B09 | 43 | 6131 | 3 | 3 | ⋯ | FALSE | NA | 1 | 9 | 11 | Excelsior    |  6 |  9 | Received.DtTm | 955786242 |\n",
       "| 5 | 1070035 | Other | 500 Block of BROADWAY  | SF | 94133 | B01 | 02 | 1311 | 3 | 3 | ⋯ | FALSE | NA | 1 | 1 |  3 | North Beach  | 10 |  3 | Received.DtTm | 955850162 |\n",
       "| 6 | 1070156 | Other | 200 Block of TURK ST   | SF | 94102 | B03 | 01 | 1456 | 3 | 3 | ⋯ | FALSE | NA | 1 | 2 |  6 | Tenderloin   |  9 |  7 | Received.DtTm | 955890351 |\n",
       "\n"
      ],
      "text/plain": [
       "  Call.Number Call.Final.Disposition Address                City\n",
       "1 1050067     Other                  MARIPOSA ST/POTRERO AV SF  \n",
       "2 1050380     Other                  TAYLOR ST/TURK ST      SF  \n",
       "3 1060050     Other                  700 Block of GEARY ST  SF  \n",
       "4 1060066     Other                  100 Block of PARIS ST  SF  \n",
       "5 1070035     Other                  500 Block of BROADWAY  SF  \n",
       "6 1070156     Other                  200 Block of TURK ST   SF  \n",
       "  Zipcode.of.Incident Battalion Station.Area Box  Original.Priority Priority ⋯\n",
       "1 94110               B02       29           5243 1                 1        ⋯\n",
       "2 94102               B03       01           1365 3                 3        ⋯\n",
       "3 94109               B04       03           1556 3                 3        ⋯\n",
       "4 94112               B09       43           6131 3                 3        ⋯\n",
       "5 94133               B01       02           1311 3                 3        ⋯\n",
       "6 94102               B03       01           1456 3                 3        ⋯\n",
       "  ALS.Unit Call.Type.Group Number.of.Alarms Fire.Prevention.District\n",
       "1 FALSE    NA              1                2                       \n",
       "2  TRUE    NA              1                3                       \n",
       "3  TRUE    NA              1                4                       \n",
       "4 FALSE    NA              1                9                       \n",
       "5 FALSE    NA              1                1                       \n",
       "6 FALSE    NA              1                2                       \n",
       "  Supervisor.District Neighborhooods...Analysis.Boundaries Supervisor.Districts\n",
       "1 10                  Potrero Hill                          8                  \n",
       "2  6                  Tenderloin                            9                  \n",
       "3  6                  Tenderloin                            9                  \n",
       "4 11                  Excelsior                             6                  \n",
       "5  3                  North Beach                          10                  \n",
       "6  6                  Tenderloin                            9                  \n",
       "  Fire.Prevention.Districts variable      value    \n",
       "1  8                        Received.DtTm 955700412\n",
       "2 14                        Received.DtTm 955755991\n",
       "3 13                        Received.DtTm 955778471\n",
       "4  9                        Received.DtTm 955786242\n",
       "5  3                        Received.DtTm 955850162\n",
       "6  7                        Received.DtTm 955890351"
      ]
     },
     "metadata": {},
     "output_type": "display_data"
    }
   ],
   "source": [
    "data.t <- melt(data, id = c('Call.Number','Call.Final.Disposition', 'Address', 'City', 'Zipcode.of.Incident', 'Battalion', \n",
    "                            'Station.Area', 'Box', 'Original.Priority', 'Priority', 'Final.Priority', 'ALS.Unit', 'Call.Type.Group', \n",
    "                            'Number.of.Alarms',  'Fire.Prevention.District', 'Supervisor.District', \n",
    "                            'Neighborhooods...Analysis.Boundaries', 'Supervisor.Districts', 'Fire.Prevention.Districts' ) ) %>%\n",
    "          filter( variable %in% c('Received.DtTm', 'Entry.DtTm', 'Dispatch.DtTm', 'Response.DtTm', 'On.Scene.DtTm', 'Transport.DtTm', 'Hospital.DtTm' )) \n",
    "head(data.t)"
   ]
  },
  {
   "cell_type": "code",
   "execution_count": 15,
   "metadata": {},
   "outputs": [
    {
     "name": "stderr",
     "output_type": "stream",
     "text": [
      "`summarise()` regrouping output by 'Call.Number', 'Call.Final.Disposition', 'Address', 'City', 'Zipcode.of.Incident', 'Battalion', 'Station.Area', 'Box', 'Original.Priority', 'Priority', 'Final.Priority', 'ALS.Unit', 'Call.Type.Group', 'Number.of.Alarms', 'Fire.Prevention.District', 'Supervisor.District', 'Neighborhooods...Analysis.Boundaries', 'Supervisor.Districts' (override with `.groups` argument)\n",
      "\n"
     ]
    }
   ],
   "source": [
    "data.t %>% group_by (Call.Number, Call.Final.Disposition, Address, City, Zipcode.of.Incident, Battalion, \n",
    "                            Station.Area, Box, Original.Priority, Priority, Final.Priority, ALS.Unit, Call.Type.Group, \n",
    "                            Number.of.Alarms,  Fire.Prevention.District, Supervisor.District, \n",
    "                            Neighborhooods...Analysis.Boundaries, Supervisor.Districts, Fire.Prevention.Districts  ) %>% \n",
    "      summarise( min.t = min(value, na.rm=TRUE), max.t =max(value, na.rm=TRUE)) -> data.t\n",
    "data.t <- data.t %>% mutate(Call.seconds = max.t - min.t)\n",
    "data.t$min.t <- data.t$max.t <- NULL "
   ]
  },
  {
   "cell_type": "code",
   "execution_count": 16,
   "metadata": {},
   "outputs": [
    {
     "name": "stdout",
     "output_type": "stream",
     "text": [
      "[1] 14097    20\n"
     ]
    },
    {
     "data": {
      "text/html": [
       "<table>\n",
       "<caption>A grouped_df: 6 × 20</caption>\n",
       "<thead>\n",
       "\t<tr><th scope=col>Call.Number</th><th scope=col>Call.Final.Disposition</th><th scope=col>Address</th><th scope=col>City</th><th scope=col>Zipcode.of.Incident</th><th scope=col>Battalion</th><th scope=col>Station.Area</th><th scope=col>Box</th><th scope=col>Original.Priority</th><th scope=col>Priority</th><th scope=col>Final.Priority</th><th scope=col>ALS.Unit</th><th scope=col>Call.Type.Group</th><th scope=col>Number.of.Alarms</th><th scope=col>Fire.Prevention.District</th><th scope=col>Supervisor.District</th><th scope=col>Neighborhooods...Analysis.Boundaries</th><th scope=col>Supervisor.Districts</th><th scope=col>Fire.Prevention.Districts</th><th scope=col>Call.seconds</th></tr>\n",
       "\t<tr><th scope=col>&lt;dbl&gt;</th><th scope=col>&lt;chr&gt;</th><th scope=col>&lt;chr&gt;</th><th scope=col>&lt;chr&gt;</th><th scope=col>&lt;dbl&gt;</th><th scope=col>&lt;chr&gt;</th><th scope=col>&lt;chr&gt;</th><th scope=col>&lt;chr&gt;</th><th scope=col>&lt;chr&gt;</th><th scope=col>&lt;chr&gt;</th><th scope=col>&lt;dbl&gt;</th><th scope=col>&lt;lgl&gt;</th><th scope=col>&lt;chr&gt;</th><th scope=col>&lt;dbl&gt;</th><th scope=col>&lt;chr&gt;</th><th scope=col>&lt;dbl&gt;</th><th scope=col>&lt;chr&gt;</th><th scope=col>&lt;dbl&gt;</th><th scope=col>&lt;dbl&gt;</th><th scope=col>&lt;dbl&gt;</th></tr>\n",
       "</thead>\n",
       "<tbody>\n",
       "\t<tr><td>202540487</td><td>Code 2 Transport</td><td>1300 Block of STEVENSON ST</td><td>San Francisco</td><td>94103</td><td>B02</td><td>06</td><td>5126</td><td>A</td><td>2</td><td>2</td><td> TRUE</td><td>Non Life-threatening        </td><td>1</td><td>2</td><td>6</td><td>Mission         </td><td> 9</td><td> 8</td><td>2224</td></tr>\n",
       "\t<tr><td>202541155</td><td>Code 2 Transport</td><td>600 Block of LINDEN ST    </td><td>San Francisco</td><td>94102</td><td>B02</td><td>05</td><td>3423</td><td>3</td><td>3</td><td>3</td><td>FALSE</td><td>NA                          </td><td>1</td><td>2</td><td>5</td><td>Hayes Valley    </td><td>11</td><td> 7</td><td>2917</td></tr>\n",
       "\t<tr><td>202542461</td><td>Code 2 Transport</td><td>1900 Block of 45TH AV     </td><td>San Francisco</td><td>94116</td><td>B08</td><td>23</td><td>7663</td><td>B</td><td>2</td><td>2</td><td> TRUE</td><td>Non Life-threatening        </td><td>1</td><td>8</td><td>4</td><td>Sunset/Parkside </td><td> 3</td><td> 1</td><td>4930</td></tr>\n",
       "\t<tr><td>202560405</td><td>Code 2 Transport</td><td>200 Block of TAYLOR ST    </td><td>San Francisco</td><td>94102</td><td>B03</td><td>03</td><td>1453</td><td>3</td><td>E</td><td>3</td><td> TRUE</td><td>Potentially Life-Threatening</td><td>1</td><td>3</td><td>6</td><td>Tenderloin      </td><td> 9</td><td>14</td><td> 338</td></tr>\n",
       "\t<tr><td>202570838</td><td>Fire            </td><td>600 Block of VAN NESS AVE </td><td>San Francisco</td><td>94102</td><td>B02</td><td>05</td><td>3164</td><td>3</td><td>3</td><td>3</td><td> TRUE</td><td>Alarm                       </td><td>1</td><td>2</td><td>5</td><td>Western Addition</td><td>11</td><td> 7</td><td> 407</td></tr>\n",
       "\t<tr><td>202570843</td><td>Code 2 Transport</td><td>MARINA BL/BRODERICK ST    </td><td>San Francisco</td><td>94123</td><td>B04</td><td>16</td><td>4214</td><td>B</td><td>2</td><td>2</td><td> TRUE</td><td>Non Life-threatening        </td><td>1</td><td>4</td><td>2</td><td>Marina          </td><td> 1</td><td>13</td><td>2456</td></tr>\n",
       "</tbody>\n",
       "</table>\n"
      ],
      "text/latex": [
       "A grouped\\_df: 6 × 20\n",
       "\\begin{tabular}{llllllllllllllllllll}\n",
       " Call.Number & Call.Final.Disposition & Address & City & Zipcode.of.Incident & Battalion & Station.Area & Box & Original.Priority & Priority & Final.Priority & ALS.Unit & Call.Type.Group & Number.of.Alarms & Fire.Prevention.District & Supervisor.District & Neighborhooods...Analysis.Boundaries & Supervisor.Districts & Fire.Prevention.Districts & Call.seconds\\\\\n",
       " <dbl> & <chr> & <chr> & <chr> & <dbl> & <chr> & <chr> & <chr> & <chr> & <chr> & <dbl> & <lgl> & <chr> & <dbl> & <chr> & <dbl> & <chr> & <dbl> & <dbl> & <dbl>\\\\\n",
       "\\hline\n",
       "\t 202540487 & Code 2 Transport & 1300 Block of STEVENSON ST & San Francisco & 94103 & B02 & 06 & 5126 & A & 2 & 2 &  TRUE & Non Life-threatening         & 1 & 2 & 6 & Mission          &  9 &  8 & 2224\\\\\n",
       "\t 202541155 & Code 2 Transport & 600 Block of LINDEN ST     & San Francisco & 94102 & B02 & 05 & 3423 & 3 & 3 & 3 & FALSE & NA                           & 1 & 2 & 5 & Hayes Valley     & 11 &  7 & 2917\\\\\n",
       "\t 202542461 & Code 2 Transport & 1900 Block of 45TH AV      & San Francisco & 94116 & B08 & 23 & 7663 & B & 2 & 2 &  TRUE & Non Life-threatening         & 1 & 8 & 4 & Sunset/Parkside  &  3 &  1 & 4930\\\\\n",
       "\t 202560405 & Code 2 Transport & 200 Block of TAYLOR ST     & San Francisco & 94102 & B03 & 03 & 1453 & 3 & E & 3 &  TRUE & Potentially Life-Threatening & 1 & 3 & 6 & Tenderloin       &  9 & 14 &  338\\\\\n",
       "\t 202570838 & Fire             & 600 Block of VAN NESS AVE  & San Francisco & 94102 & B02 & 05 & 3164 & 3 & 3 & 3 &  TRUE & Alarm                        & 1 & 2 & 5 & Western Addition & 11 &  7 &  407\\\\\n",
       "\t 202570843 & Code 2 Transport & MARINA BL/BRODERICK ST     & San Francisco & 94123 & B04 & 16 & 4214 & B & 2 & 2 &  TRUE & Non Life-threatening         & 1 & 4 & 2 & Marina           &  1 & 13 & 2456\\\\\n",
       "\\end{tabular}\n"
      ],
      "text/markdown": [
       "\n",
       "A grouped_df: 6 × 20\n",
       "\n",
       "| Call.Number &lt;dbl&gt; | Call.Final.Disposition &lt;chr&gt; | Address &lt;chr&gt; | City &lt;chr&gt; | Zipcode.of.Incident &lt;dbl&gt; | Battalion &lt;chr&gt; | Station.Area &lt;chr&gt; | Box &lt;chr&gt; | Original.Priority &lt;chr&gt; | Priority &lt;chr&gt; | Final.Priority &lt;dbl&gt; | ALS.Unit &lt;lgl&gt; | Call.Type.Group &lt;chr&gt; | Number.of.Alarms &lt;dbl&gt; | Fire.Prevention.District &lt;chr&gt; | Supervisor.District &lt;dbl&gt; | Neighborhooods...Analysis.Boundaries &lt;chr&gt; | Supervisor.Districts &lt;dbl&gt; | Fire.Prevention.Districts &lt;dbl&gt; | Call.seconds &lt;dbl&gt; |\n",
       "|---|---|---|---|---|---|---|---|---|---|---|---|---|---|---|---|---|---|---|---|\n",
       "| 202540487 | Code 2 Transport | 1300 Block of STEVENSON ST | San Francisco | 94103 | B02 | 06 | 5126 | A | 2 | 2 |  TRUE | Non Life-threatening         | 1 | 2 | 6 | Mission          |  9 |  8 | 2224 |\n",
       "| 202541155 | Code 2 Transport | 600 Block of LINDEN ST     | San Francisco | 94102 | B02 | 05 | 3423 | 3 | 3 | 3 | FALSE | NA                           | 1 | 2 | 5 | Hayes Valley     | 11 |  7 | 2917 |\n",
       "| 202542461 | Code 2 Transport | 1900 Block of 45TH AV      | San Francisco | 94116 | B08 | 23 | 7663 | B | 2 | 2 |  TRUE | Non Life-threatening         | 1 | 8 | 4 | Sunset/Parkside  |  3 |  1 | 4930 |\n",
       "| 202560405 | Code 2 Transport | 200 Block of TAYLOR ST     | San Francisco | 94102 | B03 | 03 | 1453 | 3 | E | 3 |  TRUE | Potentially Life-Threatening | 1 | 3 | 6 | Tenderloin       |  9 | 14 |  338 |\n",
       "| 202570838 | Fire             | 600 Block of VAN NESS AVE  | San Francisco | 94102 | B02 | 05 | 3164 | 3 | 3 | 3 |  TRUE | Alarm                        | 1 | 2 | 5 | Western Addition | 11 |  7 |  407 |\n",
       "| 202570843 | Code 2 Transport | MARINA BL/BRODERICK ST     | San Francisco | 94123 | B04 | 16 | 4214 | B | 2 | 2 |  TRUE | Non Life-threatening         | 1 | 4 | 2 | Marina           |  1 | 13 | 2456 |\n",
       "\n"
      ],
      "text/plain": [
       "  Call.Number Call.Final.Disposition Address                    City         \n",
       "1 202540487   Code 2 Transport       1300 Block of STEVENSON ST San Francisco\n",
       "2 202541155   Code 2 Transport       600 Block of LINDEN ST     San Francisco\n",
       "3 202542461   Code 2 Transport       1900 Block of 45TH AV      San Francisco\n",
       "4 202560405   Code 2 Transport       200 Block of TAYLOR ST     San Francisco\n",
       "5 202570838   Fire                   600 Block of VAN NESS AVE  San Francisco\n",
       "6 202570843   Code 2 Transport       MARINA BL/BRODERICK ST     San Francisco\n",
       "  Zipcode.of.Incident Battalion Station.Area Box  Original.Priority Priority\n",
       "1 94103               B02       06           5126 A                 2       \n",
       "2 94102               B02       05           3423 3                 3       \n",
       "3 94116               B08       23           7663 B                 2       \n",
       "4 94102               B03       03           1453 3                 E       \n",
       "5 94102               B02       05           3164 3                 3       \n",
       "6 94123               B04       16           4214 B                 2       \n",
       "  Final.Priority ALS.Unit Call.Type.Group              Number.of.Alarms\n",
       "1 2               TRUE    Non Life-threatening         1               \n",
       "2 3              FALSE    NA                           1               \n",
       "3 2               TRUE    Non Life-threatening         1               \n",
       "4 3               TRUE    Potentially Life-Threatening 1               \n",
       "5 3               TRUE    Alarm                        1               \n",
       "6 2               TRUE    Non Life-threatening         1               \n",
       "  Fire.Prevention.District Supervisor.District\n",
       "1 2                        6                  \n",
       "2 2                        5                  \n",
       "3 8                        4                  \n",
       "4 3                        6                  \n",
       "5 2                        5                  \n",
       "6 4                        2                  \n",
       "  Neighborhooods...Analysis.Boundaries Supervisor.Districts\n",
       "1 Mission                               9                  \n",
       "2 Hayes Valley                         11                  \n",
       "3 Sunset/Parkside                       3                  \n",
       "4 Tenderloin                            9                  \n",
       "5 Western Addition                     11                  \n",
       "6 Marina                                1                  \n",
       "  Fire.Prevention.Districts Call.seconds\n",
       "1  8                        2224        \n",
       "2  7                        2917        \n",
       "3  1                        4930        \n",
       "4 14                         338        \n",
       "5  7                         407        \n",
       "6 13                        2456        "
      ]
     },
     "metadata": {},
     "output_type": "display_data"
    }
   ],
   "source": [
    "print(dim(data.t))\n",
    "tail(data.t)"
   ]
  },
  {
   "cell_type": "markdown",
   "metadata": {},
   "source": [
    "# K-means on-line"
   ]
  },
  {
   "cell_type": "markdown",
   "metadata": {},
   "source": [
    "Como aplicación principal de machine learning tenemos dos objetivos, el primero es encontrar grupos de llamadas similares entre sí y que estos se contrastarlos con la etiqueta de 4 tipos que la data tiene, el segundo es asignar un tipo de llamada a los que no la tienen razón que desconocemos pues la documentación del dataset no lo declara. \n"
   ]
  },
  {
   "cell_type": "code",
   "execution_count": 17,
   "metadata": {},
   "outputs": [],
   "source": [
    "alpha <- 0.1\n",
    "data <- as.data.frame(data.t)\n",
    "kmeans.online.b.init <- function(data, k, alpha){\n",
    "  # clousure para distribuir la eleccion del elemento k\n",
    "  data <- data\n",
    "  alpha <- alpha\n",
    "  function(k){\n",
    "    # Entradas \n",
    "    # data (data.frame): Dataframe donde las observaciones son los elementos a clusterizar y las columnas son las variables\n",
    "    # k (int): Numero de cluster requerido\n",
    "    # alpha (numeric): learning rate\n",
    "    # Salida\n",
    "    # kmeans.online con los elementos:\n",
    "    # tabla.master (data.frame): Dos columnas, la primera con el id de la observacion y la segunda con el label del cluster\n",
    "    # statas.intra (vector): Vector con la media d ela varianza intraelementos\n",
    "    tabla.master <- data.frame(Obs = row.names(data), Cluster= rep(-Inf, dim(data)[1]))\n",
    "    # inicializacion alatoria entre el minimo y maximo de cada variable\n",
    "    stats.min <- sapply(data, min, na.rm=TRUE)\n",
    "    stats.max <- sapply(data, max, na.rm=TRUE)\n",
    "    set.seed(0)\n",
    "    centroides <- mapply(function(x, y) {runif(k, x, y)},  stats.min, stats.max) \n",
    "    # termina inicializacion de centroides\n",
    "    \n",
    "    # comienza kmeans proceso online\n",
    "    \n",
    "    for( i in 1:dim(data)[1])\n",
    "    {\n",
    "      #i <- 11\n",
    "      #print(i)\n",
    "      # comienza asignacion de cluster mas cercano\n",
    "      observacion.en.juego <- as.matrix(data[i, ])\n",
    "      m.temp <- as.matrix(rbind(observacion.en.juego, centroides))\n",
    "      distancias <- dist(m.temp)\n",
    "      m.distancias <- as.matrix(distancias)\n",
    "      k.i <- which.min(m.distancias[1, 2:(k+1)])\n",
    "      tabla.master$Cluster[i] <- k.i\n",
    "      # termina asignacion de cluster mas cercano \n",
    "      # update de cluster\n",
    "      centroides[k.i, ] <- centroides[k.i, ] + alpha*observacion.en.juego\n",
    "    }\n",
    "    stats <- rep(-Inf, k)\n",
    "    for ( i in 1:k)\n",
    "    {\n",
    "      index <- which( tabla.master$Cluster == i)\n",
    "      data.subset <- data[ index, ]\n",
    "      stats.i <- dist(data.subset)\n",
    "      stats[i] <- sum(stats.i) # asumimos independencia entre las variables\n",
    "    }\n",
    "    kmeans.online <- list( tabla.master =tabla.master, statas.intra = stats)\n",
    "    return(kmeans.online)\n",
    "  }\n",
    "}"
   ]
  },
  {
   "cell_type": "code",
   "execution_count": 18,
   "metadata": {},
   "outputs": [],
   "source": [
    "Y <- data.frame(y=data$Call.Type.Group)\n",
    "row.names(Y) <- row.names(data) <- data$Call.Number\n",
    "data$Call.Type.Group <- data$Call.Number <- NULL\n",
    "# hacemos un cambio de encoding de las variables ordinales para no hacer una matriz con muchas variables ---IMPORTANTE"
   ]
  },
  {
   "cell_type": "code",
   "execution_count": 19,
   "metadata": {},
   "outputs": [],
   "source": [
    "index <- which(is.na(Y$y))\n",
    "Y$y <- as.character(Y$y) \n",
    "Y$y[index] <- 'No asignado'"
   ]
  },
  {
   "cell_type": "code",
   "execution_count": 20,
   "metadata": {},
   "outputs": [],
   "source": [
    "index <- which(sapply(data, class) == 'character')\n",
    "normalizar <- function(x, na.rm = FALSE) (x - mean(x, na.rm = na.rm)) / sd(x, na.rm)"
   ]
  },
  {
   "cell_type": "code",
   "execution_count": 21,
   "metadata": {},
   "outputs": [],
   "source": [
    "# mas preprocesamiento de datos\n",
    "for (i in index)\n",
    "    {\n",
    "    index.na <- which( is.na(data[, i] ))\n",
    "    data[index.na, i] <- 'NULL'\n",
    "    temp <- factor( data[, i])\n",
    "    data[, i] <- normalizar(as.numeric( temp))\n",
    "}"
   ]
  },
  {
   "cell_type": "code",
   "execution_count": 22,
   "metadata": {},
   "outputs": [
    {
     "data": {
      "text/html": [
       "14097"
      ],
      "text/latex": [
       "14097"
      ],
      "text/markdown": [
       "14097"
      ],
      "text/plain": [
       "[1] 14097"
      ]
     },
     "metadata": {},
     "output_type": "display_data"
    },
    {
     "name": "stdout",
     "output_type": "stream",
     "text": [
      "\n",
      "                       Alarm                         Fire \n",
      "                        1546                          283 \n",
      "                 No asignado         Non Life-threatening \n",
      "                        7396                         1671 \n",
      "Potentially Life-Threatening \n",
      "                        3201 \n"
     ]
    }
   ],
   "source": [
    "sum(table(Y$y)) # distribucion del etiquetamiento del tipo de llamada\n",
    "print(table( Y$y))"
   ]
  },
  {
   "cell_type": "code",
   "execution_count": 23,
   "metadata": {},
   "outputs": [],
   "source": [
    "kmeans.online.b <- kmeans.online.b.init(data = data, alpha = alpha)"
   ]
  },
  {
   "cell_type": "code",
   "execution_count": 24,
   "metadata": {},
   "outputs": [
    {
     "name": "stdout",
     "output_type": "stream",
     "text": [
      "[1] 1\n",
      "[1] 33558032024           2           3           4\n",
      "[1] 2\n",
      "[1] 33558032024 18863869140           3           4\n",
      "[1] 3\n",
      "[1] 33558032024 18863869140 13684456750           4\n",
      "[1] 4\n",
      "[1] 33558032024 18863869140 13684456750 11160516780\n"
     ]
    }
   ],
   "source": [
    "set.seed(0)\n",
    "cluster <- 1:4\n",
    "t1 <- Sys.time()\n",
    "for( i in cluster)\n",
    "{\n",
    "  print(i)\n",
    "  res <- kmeans.online.b(k=2*i+1)\n",
    "  cluster[i] <- sum(res$statas.intra)\n",
    "  print(cluster)\n",
    "}\n",
    "t2 <- Sys.time()"
   ]
  },
  {
   "cell_type": "code",
   "execution_count": 25,
   "metadata": {},
   "outputs": [
    {
     "data": {
      "text/plain": [
       "Time difference of 34.31536 secs"
      ]
     },
     "metadata": {},
     "output_type": "display_data"
    }
   ],
   "source": [
    "t2-t1"
   ]
  },
  {
   "cell_type": "code",
   "execution_count": 26,
   "metadata": {},
   "outputs": [
    {
     "data": {
      "text/html": [
       "<style>\n",
       ".list-inline {list-style: none; margin:0; padding: 0}\n",
       ".list-inline>li {display: inline-block}\n",
       ".list-inline>li:not(:last-child)::after {content: \"\\00b7\"; padding: 0 .5ex}\n",
       "</style>\n",
       "<ol class=list-inline><li>3</li><li>5</li><li>7</li><li>9</li></ol>\n"
      ],
      "text/latex": [
       "\\begin{enumerate*}\n",
       "\\item 3\n",
       "\\item 5\n",
       "\\item 7\n",
       "\\item 9\n",
       "\\end{enumerate*}\n"
      ],
      "text/markdown": [
       "1. 3\n",
       "2. 5\n",
       "3. 7\n",
       "4. 9\n",
       "\n",
       "\n"
      ],
      "text/plain": [
       "[1] 3 5 7 9"
      ]
     },
     "metadata": {},
     "output_type": "display_data"
    }
   ],
   "source": [
    "2*1:4 + 1"
   ]
  },
  {
   "cell_type": "code",
   "execution_count": 27,
   "metadata": {},
   "outputs": [
    {
     "data": {
      "image/png": "[encoded data removed]",
      "text/plain": [
       "plot without title"
      ]
     },
     "metadata": {
      "image/png": {
       "height": 420,
       "width": 420
      }
     },
     "output_type": "display_data"
    }
   ],
   "source": [
    "plot((cluster),type = 'l', xlab = '2*x + 1 ', ylab = 'Var intra cluster')"
   ]
  },
  {
   "cell_type": "code",
   "execution_count": 28,
   "metadata": {},
   "outputs": [
    {
     "data": {
      "image/png": "[encoded data removed]",
      "text/plain": [
       "plot without title"
      ]
     },
     "metadata": {
      "image/png": {
       "height": 420,
       "width": 420
      }
     },
     "output_type": "display_data"
    }
   ],
   "source": [
    "plot(abs(diff(cluster)),type = 'l',  xlab = '2*x + 1 ', ylab = 'diff(Var) intra cluster')"
   ]
  },
  {
   "cell_type": "markdown",
   "metadata": {},
   "source": [
    "Por lo que consideramos que una elección de $k=7$ es adecuada y ejecutamos el algoritmo de kmeans online implementado sobre el conjunto completo de datos. "
   ]
  },
  {
   "cell_type": "code",
   "execution_count": 29,
   "metadata": {},
   "outputs": [],
   "source": [
    "k = 7"
   ]
  },
  {
   "cell_type": "code",
   "execution_count": 30,
   "metadata": {},
   "outputs": [
    {
     "name": "stdout",
     "output_type": "stream",
     "text": [
      "  Call.Number Unit.ID Incident.Number        Call.Type  Call.Date Watch.Date\n",
      "1   201560006      86        20064818 Medical Incident 06/04/2020 06/03/2020\n",
      "2   201560006     E48        20064818 Medical Incident 06/04/2020 06/03/2020\n",
      "3   201560006    RA48        20064818 Medical Incident 06/04/2020 06/03/2020\n",
      "4   201560012      94        20064819 Medical Incident 06/04/2020 06/03/2020\n",
      "5   201560019     E01        20064820     Outside Fire 06/04/2020 06/03/2020\n",
      "6   201560029      53        20064821 Medical Incident 06/04/2020 06/03/2020\n",
      "           Received.DtTm             Entry.DtTm          Dispatch.DtTm\n",
      "1 06/04/2020 12:00:17 AM 06/04/2020 12:02:00 AM 06/04/2020 12:02:09 AM\n",
      "2 06/04/2020 12:00:17 AM 06/04/2020 12:02:00 AM 06/04/2020 12:02:09 AM\n",
      "3 06/04/2020 12:00:17 AM 06/04/2020 12:02:00 AM 06/04/2020 12:02:09 AM\n",
      "4 06/04/2020 12:03:15 AM 06/04/2020 12:05:31 AM 06/04/2020 12:05:48 AM\n",
      "5 06/04/2020 12:09:59 AM 06/04/2020 12:11:01 AM 06/04/2020 12:11:53 AM\n",
      "6 06/04/2020 12:17:34 AM 06/04/2020 12:18:32 AM 06/04/2020 12:18:54 AM\n",
      "           Response.DtTm          On.Scene.DtTm         Transport.DtTm\n",
      "1 06/04/2020 12:02:13 AM 06/04/2020 12:15:50 AM 06/04/2020 12:37:17 AM\n",
      "2 06/04/2020 12:04:08 AM 06/04/2020 12:07:11 AM                       \n",
      "3 06/04/2020 12:04:12 AM 06/04/2020 12:07:38 AM                       \n",
      "4 06/04/2020 12:06:04 AM 06/04/2020 12:16:13 AM 06/04/2020 12:37:06 AM\n",
      "5 06/04/2020 12:13:50 AM                                              \n",
      "6 06/04/2020 12:19:02 AM 06/04/2020 12:21:57 AM 06/04/2020 12:51:48 AM\n",
      "           Hospital.DtTm Call.Final.Disposition         Available.DtTm\n",
      "1 06/04/2020 12:48:15 AM       Code 2 Transport 06/04/2020 01:22:59 AM\n",
      "2                              Code 2 Transport 06/04/2020 12:21:49 AM\n",
      "3                              Code 2 Transport 06/04/2020 12:22:49 AM\n",
      "4 06/04/2020 12:39:50 AM       Code 2 Transport 06/04/2020 01:11:48 AM\n",
      "5                                          Fire 06/04/2020 12:20:27 AM\n",
      "6 06/04/2020 12:51:52 AM       Code 2 Transport 06/04/2020 12:57:36 AM\n",
      "                    Address          City Zipcode.of.Incident Battalion\n",
      "1  1400 Block of HALIBUT CT Treasure Isla               94130       B03\n",
      "2  1400 Block of HALIBUT CT Treasure Isla               94130       B03\n",
      "3  1400 Block of HALIBUT CT Treasure Isla               94130       B03\n",
      "4  3100 Block of MISSION ST San Francisco               94110       B06\n",
      "5 100 Block of STEVENSON ST San Francisco               94105       B03\n",
      "6       TURK ST/FRANKLIN ST San Francisco               94102       B02\n",
      "  Station.Area  Box Original.Priority Priority Final.Priority ALS.Unit\n",
      "1           48 2931                 3        2              2     true\n",
      "2           48 2931                 3        2              2     true\n",
      "3           48 2931                 3        2              2    false\n",
      "4           11 5624                 2        2              2     true\n",
      "5           01 2144                 3        3              3     true\n",
      "6           05 3216                 E        E              3     true\n",
      "               Call.Type.Group Number.of.Alarms Unit.Type\n",
      "1         Non Life-threatening                1     MEDIC\n",
      "2         Non Life-threatening                1    ENGINE\n",
      "3         Non Life-threatening                1     MEDIC\n",
      "4         Non Life-threatening                1     MEDIC\n",
      "5                         Fire                1    ENGINE\n",
      "6 Potentially Life-Threatening                1     MEDIC\n",
      "  Unit.sequence.in.call.dispatch Fire.Prevention.District Supervisor.District\n",
      "1                              3                     None                   6\n",
      "2                              1                     None                   6\n",
      "3                              2                     None                   6\n",
      "4                              1                        6                   9\n",
      "5                              1                        3                   6\n",
      "6                              1                        2                   5\n",
      "  Neighborhooods...Analysis.Boundaries\n",
      "1                      Treasure Island\n",
      "2                      Treasure Island\n",
      "3                      Treasure Island\n",
      "4                       Bernal Heights\n",
      "5       Financial District/South Beach\n",
      "6                     Western Addition\n",
      "                                   Location          RowID Supervisor.Districts\n",
      "1 (37.824721643268795, -122.37496639605757)   201560006-86                    9\n",
      "2 (37.824721643268795, -122.37496639605757)  201560006-E48                    9\n",
      "3 (37.824721643268795, -122.37496639605757) 201560006-RA48                    9\n",
      "4 (37.746453786898385, -122.41925169775132)   201560012-94                    7\n",
      "5 (37.788503284318175, -122.40111248750063)  201560019-E01                    9\n",
      "6  (37.78175180358502, -122.42228664630635)   201560029-53                   11\n",
      "  Fire.Prevention.Districts Current.Police.Districts\n",
      "1                        NA                        2\n",
      "2                        NA                        2\n",
      "3                        NA                        2\n",
      "4                         2                        4\n",
      "5                        12                        2\n",
      "6                         7                        6\n",
      "  Neighborhoods...Analysis.Boundaries Zip.Codes Neighborhoods..old.\n",
      "1                                  37        62                  37\n",
      "2                                  37        62                  37\n",
      "3                                  37        62                  37\n",
      "4                                   2     28859                   2\n",
      "5                                   8     28855                   6\n",
      "6                                  39     28852                  41\n",
      "  Police.Districts Civic.Center.Harm.Reduction.Project.Boundary HSOC.Zones\n",
      "1                2                                           NA         NA\n",
      "2                2                                           NA         NA\n",
      "3                2                                           NA         NA\n",
      "4                7                                           NA         NA\n",
      "5                2                                           NA         NA\n",
      "6                9                                            1          1\n",
      "  Central.Market.Tenderloin.Boundary.Polygon...Updated\n",
      "1                                                   NA\n",
      "2                                                   NA\n",
      "3                                                   NA\n",
      "4                                                   NA\n",
      "5                                                   NA\n",
      "6                                                   NA\n"
     ]
    },
    {
     "name": "stderr",
     "output_type": "stream",
     "text": [
      "Warning message:\n",
      "“attributes are not identical across measure variables; they will be dropped”\n",
      "`summarise()` regrouping output by 'Call.Number', 'Call.Final.Disposition', 'Address', 'City', 'Zipcode.of.Incident', 'Battalion', 'Station.Area', 'Box', 'Original.Priority', 'Priority', 'Final.Priority', 'ALS.Unit', 'Call.Type.Group', 'Number.of.Alarms', 'Fire.Prevention.District', 'Supervisor.District', 'Neighborhooods...Analysis.Boundaries', 'Supervisor.Districts' (override with `.groups` argument)\n",
      "\n"
     ]
    },
    {
     "name": "stdout",
     "output_type": "stream",
     "text": [
      "[1] 2442878      20\n"
     ]
    },
    {
     "data": {
      "text/html": [
       "<table>\n",
       "<caption>A data.frame: 6 × 18</caption>\n",
       "<thead>\n",
       "\t<tr><th></th><th scope=col>Call.Final.Disposition</th><th scope=col>Address</th><th scope=col>City</th><th scope=col>Zipcode.of.Incident</th><th scope=col>Battalion</th><th scope=col>Station.Area</th><th scope=col>Box</th><th scope=col>Original.Priority</th><th scope=col>Priority</th><th scope=col>Final.Priority</th><th scope=col>ALS.Unit</th><th scope=col>Number.of.Alarms</th><th scope=col>Fire.Prevention.District</th><th scope=col>Supervisor.District</th><th scope=col>Neighborhooods...Analysis.Boundaries</th><th scope=col>Supervisor.Districts</th><th scope=col>Fire.Prevention.Districts</th><th scope=col>Call.seconds</th></tr>\n",
       "\t<tr><th></th><th scope=col>&lt;dbl&gt;</th><th scope=col>&lt;dbl&gt;</th><th scope=col>&lt;dbl&gt;</th><th scope=col>&lt;int&gt;</th><th scope=col>&lt;dbl&gt;</th><th scope=col>&lt;dbl&gt;</th><th scope=col>&lt;dbl&gt;</th><th scope=col>&lt;dbl&gt;</th><th scope=col>&lt;dbl&gt;</th><th scope=col>&lt;int&gt;</th><th scope=col>&lt;dbl&gt;</th><th scope=col>&lt;int&gt;</th><th scope=col>&lt;dbl&gt;</th><th scope=col>&lt;dbl&gt;</th><th scope=col>&lt;dbl&gt;</th><th scope=col>&lt;int&gt;</th><th scope=col>&lt;int&gt;</th><th scope=col>&lt;dbl&gt;</th></tr>\n",
       "</thead>\n",
       "<tbody>\n",
       "\t<tr><th scope=row>1030101</th><td>0.9081488</td><td>-0.3832730</td><td>0.5983279</td><td>94116</td><td> 1.0959416</td><td> 0.01515439</td><td>-1.382416</td><td>0.2173244</td><td>0.3039489</td><td>3</td><td> 0.7168879</td><td>1</td><td> 1.4651812</td><td>-0.2072683</td><td> 0.9777683</td><td> 3</td><td> 1</td><td>  91</td></tr>\n",
       "\t<tr><th scope=row>1030104</th><td>0.9081488</td><td>-0.6620982</td><td>0.5983279</td><td>94122</td><td> 1.0959416</td><td> 0.36411570</td><td> 1.668121</td><td>0.2173244</td><td>0.3039489</td><td>3</td><td> 0.7168879</td><td>1</td><td> 1.4651812</td><td>-0.2072683</td><td> 0.9777683</td><td> 3</td><td> 1</td><td>3271</td></tr>\n",
       "\t<tr><th scope=row>1030106</th><td>0.9081488</td><td>-1.4591089</td><td>0.5983279</td><td>94102</td><td>-0.9415835</td><td> 1.20162285</td><td>-0.530643</td><td>0.2173244</td><td>0.3039489</td><td>3</td><td>-1.3949177</td><td>1</td><td>-0.6850764</td><td> 0.4911210</td><td> 1.0532408</td><td> 9</td><td> 7</td><td>3622</td></tr>\n",
       "\t<tr><th scope=row>1030107</th><td>0.9081488</td><td>-1.1769414</td><td>0.5983279</td><td>94102</td><td>-0.6019960</td><td>-1.17131407</td><td>-1.022259</td><td>0.2173244</td><td>0.3039489</td><td>3</td><td>-1.3949177</td><td>1</td><td>-0.3267001</td><td> 0.4911210</td><td> 1.0532408</td><td> 9</td><td>14</td><td> 329</td></tr>\n",
       "\t<tr><th scope=row>1030108</th><td>0.9081488</td><td> 0.6663387</td><td>0.5983279</td><td>94108</td><td>-0.6019960</td><td>-1.17131407</td><td>-1.119501</td><td>0.2173244</td><td>0.3039489</td><td>3</td><td> 0.7168879</td><td>1</td><td>-1.4018289</td><td>-0.5564629</td><td>-1.2864096</td><td>10</td><td> 5</td><td>2134</td></tr>\n",
       "\t<tr><th scope=row>1030112</th><td>0.9081488</td><td> 0.7646796</td><td>0.5983279</td><td>94109</td><td>-1.2811711</td><td>-1.03172954</td><td>-1.016856</td><td>0.2173244</td><td>0.3039489</td><td>3</td><td>-1.3949177</td><td>1</td><td>-1.4018289</td><td>-0.5564629</td><td>-0.1543207</td><td>10</td><td> 5</td><td> 359</td></tr>\n",
       "</tbody>\n",
       "</table>\n"
      ],
      "text/latex": [
       "A data.frame: 6 × 18\n",
       "\\begin{tabular}{r|llllllllllllllllll}\n",
       "  & Call.Final.Disposition & Address & City & Zipcode.of.Incident & Battalion & Station.Area & Box & Original.Priority & Priority & Final.Priority & ALS.Unit & Number.of.Alarms & Fire.Prevention.District & Supervisor.District & Neighborhooods...Analysis.Boundaries & Supervisor.Districts & Fire.Prevention.Districts & Call.seconds\\\\\n",
       "  & <dbl> & <dbl> & <dbl> & <int> & <dbl> & <dbl> & <dbl> & <dbl> & <dbl> & <int> & <dbl> & <int> & <dbl> & <dbl> & <dbl> & <int> & <int> & <dbl>\\\\\n",
       "\\hline\n",
       "\t1030101 & 0.9081488 & -0.3832730 & 0.5983279 & 94116 &  1.0959416 &  0.01515439 & -1.382416 & 0.2173244 & 0.3039489 & 3 &  0.7168879 & 1 &  1.4651812 & -0.2072683 &  0.9777683 &  3 &  1 &   91\\\\\n",
       "\t1030104 & 0.9081488 & -0.6620982 & 0.5983279 & 94122 &  1.0959416 &  0.36411570 &  1.668121 & 0.2173244 & 0.3039489 & 3 &  0.7168879 & 1 &  1.4651812 & -0.2072683 &  0.9777683 &  3 &  1 & 3271\\\\\n",
       "\t1030106 & 0.9081488 & -1.4591089 & 0.5983279 & 94102 & -0.9415835 &  1.20162285 & -0.530643 & 0.2173244 & 0.3039489 & 3 & -1.3949177 & 1 & -0.6850764 &  0.4911210 &  1.0532408 &  9 &  7 & 3622\\\\\n",
       "\t1030107 & 0.9081488 & -1.1769414 & 0.5983279 & 94102 & -0.6019960 & -1.17131407 & -1.022259 & 0.2173244 & 0.3039489 & 3 & -1.3949177 & 1 & -0.3267001 &  0.4911210 &  1.0532408 &  9 & 14 &  329\\\\\n",
       "\t1030108 & 0.9081488 &  0.6663387 & 0.5983279 & 94108 & -0.6019960 & -1.17131407 & -1.119501 & 0.2173244 & 0.3039489 & 3 &  0.7168879 & 1 & -1.4018289 & -0.5564629 & -1.2864096 & 10 &  5 & 2134\\\\\n",
       "\t1030112 & 0.9081488 &  0.7646796 & 0.5983279 & 94109 & -1.2811711 & -1.03172954 & -1.016856 & 0.2173244 & 0.3039489 & 3 & -1.3949177 & 1 & -1.4018289 & -0.5564629 & -0.1543207 & 10 &  5 &  359\\\\\n",
       "\\end{tabular}\n"
      ],
      "text/markdown": [
       "\n",
       "A data.frame: 6 × 18\n",
       "\n",
       "| <!--/--> | Call.Final.Disposition &lt;dbl&gt; | Address &lt;dbl&gt; | City &lt;dbl&gt; | Zipcode.of.Incident &lt;int&gt; | Battalion &lt;dbl&gt; | Station.Area &lt;dbl&gt; | Box &lt;dbl&gt; | Original.Priority &lt;dbl&gt; | Priority &lt;dbl&gt; | Final.Priority &lt;int&gt; | ALS.Unit &lt;dbl&gt; | Number.of.Alarms &lt;int&gt; | Fire.Prevention.District &lt;dbl&gt; | Supervisor.District &lt;dbl&gt; | Neighborhooods...Analysis.Boundaries &lt;dbl&gt; | Supervisor.Districts &lt;int&gt; | Fire.Prevention.Districts &lt;int&gt; | Call.seconds &lt;dbl&gt; |\n",
       "|---|---|---|---|---|---|---|---|---|---|---|---|---|---|---|---|---|---|---|\n",
       "| 1030101 | 0.9081488 | -0.3832730 | 0.5983279 | 94116 |  1.0959416 |  0.01515439 | -1.382416 | 0.2173244 | 0.3039489 | 3 |  0.7168879 | 1 |  1.4651812 | -0.2072683 |  0.9777683 |  3 |  1 |   91 |\n",
       "| 1030104 | 0.9081488 | -0.6620982 | 0.5983279 | 94122 |  1.0959416 |  0.36411570 |  1.668121 | 0.2173244 | 0.3039489 | 3 |  0.7168879 | 1 |  1.4651812 | -0.2072683 |  0.9777683 |  3 |  1 | 3271 |\n",
       "| 1030106 | 0.9081488 | -1.4591089 | 0.5983279 | 94102 | -0.9415835 |  1.20162285 | -0.530643 | 0.2173244 | 0.3039489 | 3 | -1.3949177 | 1 | -0.6850764 |  0.4911210 |  1.0532408 |  9 |  7 | 3622 |\n",
       "| 1030107 | 0.9081488 | -1.1769414 | 0.5983279 | 94102 | -0.6019960 | -1.17131407 | -1.022259 | 0.2173244 | 0.3039489 | 3 | -1.3949177 | 1 | -0.3267001 |  0.4911210 |  1.0532408 |  9 | 14 |  329 |\n",
       "| 1030108 | 0.9081488 |  0.6663387 | 0.5983279 | 94108 | -0.6019960 | -1.17131407 | -1.119501 | 0.2173244 | 0.3039489 | 3 |  0.7168879 | 1 | -1.4018289 | -0.5564629 | -1.2864096 | 10 |  5 | 2134 |\n",
       "| 1030112 | 0.9081488 |  0.7646796 | 0.5983279 | 94109 | -1.2811711 | -1.03172954 | -1.016856 | 0.2173244 | 0.3039489 | 3 | -1.3949177 | 1 | -1.4018289 | -0.5564629 | -0.1543207 | 10 |  5 |  359 |\n",
       "\n"
      ],
      "text/plain": [
       "        Call.Final.Disposition Address    City      Zipcode.of.Incident\n",
       "1030101 0.9081488              -0.3832730 0.5983279 94116              \n",
       "1030104 0.9081488              -0.6620982 0.5983279 94122              \n",
       "1030106 0.9081488              -1.4591089 0.5983279 94102              \n",
       "1030107 0.9081488              -1.1769414 0.5983279 94102              \n",
       "1030108 0.9081488               0.6663387 0.5983279 94108              \n",
       "1030112 0.9081488               0.7646796 0.5983279 94109              \n",
       "        Battalion  Station.Area Box       Original.Priority Priority \n",
       "1030101  1.0959416  0.01515439  -1.382416 0.2173244         0.3039489\n",
       "1030104  1.0959416  0.36411570   1.668121 0.2173244         0.3039489\n",
       "1030106 -0.9415835  1.20162285  -0.530643 0.2173244         0.3039489\n",
       "1030107 -0.6019960 -1.17131407  -1.022259 0.2173244         0.3039489\n",
       "1030108 -0.6019960 -1.17131407  -1.119501 0.2173244         0.3039489\n",
       "1030112 -1.2811711 -1.03172954  -1.016856 0.2173244         0.3039489\n",
       "        Final.Priority ALS.Unit   Number.of.Alarms Fire.Prevention.District\n",
       "1030101 3               0.7168879 1                 1.4651812              \n",
       "1030104 3               0.7168879 1                 1.4651812              \n",
       "1030106 3              -1.3949177 1                -0.6850764              \n",
       "1030107 3              -1.3949177 1                -0.3267001              \n",
       "1030108 3               0.7168879 1                -1.4018289              \n",
       "1030112 3              -1.3949177 1                -1.4018289              \n",
       "        Supervisor.District Neighborhooods...Analysis.Boundaries\n",
       "1030101 -0.2072683           0.9777683                          \n",
       "1030104 -0.2072683           0.9777683                          \n",
       "1030106  0.4911210           1.0532408                          \n",
       "1030107  0.4911210           1.0532408                          \n",
       "1030108 -0.5564629          -1.2864096                          \n",
       "1030112 -0.5564629          -0.1543207                          \n",
       "        Supervisor.Districts Fire.Prevention.Districts Call.seconds\n",
       "1030101  3                    1                          91        \n",
       "1030104  3                    1                        3271        \n",
       "1030106  9                    7                        3622        \n",
       "1030107  9                   14                         329        \n",
       "1030108 10                    5                        2134        \n",
       "1030112 10                    5                         359        "
      ]
     },
     "metadata": {},
     "output_type": "display_data"
    }
   ],
   "source": [
    "library(reshape2)\n",
    "library(dplyr)\n",
    "library(lubridate)\n",
    "data <- read.csv('Fire_Department_Calls_for_Service.csv', stringsAsFactors = FALSE)\n",
    "print(head(data))\n",
    "\n",
    "data$RowID <- data$Unit.ID <- data$Incident.Number <- data$Location <- data$Unit.Type <- data$Unit.sequence.in.call.dispatch <- data$Call.Type <- NULL\n",
    "data[ , c('Current.Police.Districts', 'Neighborhoods...Analysis.Boundaries', 'Zip.Codes', 'Neighborhoods..old.', 'Police.Districts', \n",
    "          'Civic.Center.Harm.Reduction.Project.Boundary', 'HSOC.Zones', 'Central.Market.Tenderloin.Boundary.Polygon...Updated')] <- NULL\n",
    "data$Received.DtTm <- mdy_hms(data$Received.DtTm)\n",
    "data %>% group_by(Call.Number ) %>% arrange(Call.Number , Received.DtTm ) %>% mutate( flag1 = n() ,flag2 = row_number()) -> data\n",
    "data %>% filter(flag1 ==flag2 ) -> data\n",
    "data$flag1 <- data$flag2 <- NULL\n",
    "data$Available.DtTm <- NULL\n",
    "data$Call.Date <- mdy(data$Call.Date)\n",
    "data$Watch.Date <- mdy(data$Watch.Date)\n",
    "data$Entry.DtTm <- mdy_hms(data$Entry.DtTm)\n",
    "data$Dispatch.DtTm <- mdy_hms(data$Dispatch.DtTm)\n",
    "data$Response.DtTm <- mdy_hms( data$Response.DtTm) \n",
    "data$On.Scene.DtTm <- mdy_hms( data$On.Scene.DtTm) \n",
    "data$Transport.DtTm <- mdy_hms(data$Transport.DtTm) \n",
    "data$Hospital.DtTm <- mdy_hms(data$Hospital.DtTm) \n",
    "data.t <- melt(data, id = c('Call.Number','Call.Final.Disposition', 'Address', 'City', 'Zipcode.of.Incident', 'Battalion', \n",
    "                            'Station.Area', 'Box', 'Original.Priority', 'Priority', 'Final.Priority', 'ALS.Unit', 'Call.Type.Group', \n",
    "                            'Number.of.Alarms',  'Fire.Prevention.District', 'Supervisor.District', \n",
    "                            'Neighborhooods...Analysis.Boundaries', 'Supervisor.Districts', 'Fire.Prevention.Districts' ) ) %>%\n",
    "          filter( variable %in% c('Received.DtTm', 'Entry.DtTm', 'Dispatch.DtTm', 'Response.DtTm', 'On.Scene.DtTm', 'Transport.DtTm', 'Hospital.DtTm' )) \n",
    "data.t %>% group_by (Call.Number, Call.Final.Disposition, Address, City, Zipcode.of.Incident, Battalion, \n",
    "                            Station.Area, Box, Original.Priority, Priority, Final.Priority, ALS.Unit, Call.Type.Group, \n",
    "                            Number.of.Alarms,  Fire.Prevention.District, Supervisor.District, \n",
    "                            Neighborhooods...Analysis.Boundaries, Supervisor.Districts, Fire.Prevention.Districts  ) %>% \n",
    "      summarise( min.t = min(value, na.rm=TRUE), max.t =max(value, na.rm=TRUE)) -> data.t\n",
    "data.t <- data.t %>% mutate(Call.seconds = max.t - min.t)\n",
    "data.t$min.t <- data.t$max.t <- NULL \n",
    "data.t <- as.data.frame(data.t)\n",
    "\n",
    "print(dim(data.t))\n",
    "Y <- data.frame(y=data.t$Call.Type.Group)\n",
    "row.names(Y) <- row.names(data.t) <- data.t$Call.Number\n",
    "data.t$Call.Type.Group <- data.t$Call.Number <- NULL\n",
    "# hacemos un cambio de encoding de las variables ordinales para no hacer una matriz con muchas variables ---IMPORTANTE\n",
    "index <- which(is.na(Y$y))\n",
    "Y$y <- as.character(Y$y) \n",
    "Y$y[index] <- 'No asignado'\n",
    "index <- which(sapply(data.t, class) == 'character')\n",
    "\n",
    "normalizar <- function(x, na.rm = FALSE) (x - mean(x, na.rm = na.rm)) / sd(x, na.rm)\n",
    "# mas preprocesamiento de datos\n",
    "for (i in index)\n",
    "    {\n",
    "    index.na <- which( is.na(data.t[, i] ))\n",
    "    data.t[index.na, i] <- 'NULL'\n",
    "    temp <- factor( data.t[, i])\n",
    "    data.t[, i] <- normalizar(as.numeric( temp))\n",
    "}\n",
    "head(data.t)"
   ]
  },
  {
   "cell_type": "code",
   "execution_count": 31,
   "metadata": {},
   "outputs": [
    {
     "data": {
      "text/html": [
       "1"
      ],
      "text/latex": [
       "1"
      ],
      "text/markdown": [
       "1"
      ],
      "text/plain": [
       "[1] 1"
      ]
     },
     "metadata": {},
     "output_type": "display_data"
    }
   ],
   "source": [
    "1"
   ]
  },
  {
   "cell_type": "code",
   "execution_count": 32,
   "metadata": {},
   "outputs": [
    {
     "data": {
      "text/html": [
       "<table>\n",
       "<caption>A data.frame: 6 × 2</caption>\n",
       "<thead>\n",
       "\t<tr><th></th><th scope=col>Obs</th><th scope=col>Cluster</th></tr>\n",
       "\t<tr><th></th><th scope=col>&lt;fct&gt;</th><th scope=col>&lt;dbl&gt;</th></tr>\n",
       "</thead>\n",
       "<tbody>\n",
       "\t<tr><th scope=row>1</th><td>1030101</td><td>-Inf</td></tr>\n",
       "\t<tr><th scope=row>2</th><td>1030104</td><td>-Inf</td></tr>\n",
       "\t<tr><th scope=row>3</th><td>1030106</td><td>-Inf</td></tr>\n",
       "\t<tr><th scope=row>4</th><td>1030107</td><td>-Inf</td></tr>\n",
       "\t<tr><th scope=row>5</th><td>1030108</td><td>-Inf</td></tr>\n",
       "\t<tr><th scope=row>6</th><td>1030112</td><td>-Inf</td></tr>\n",
       "</tbody>\n",
       "</table>\n"
      ],
      "text/latex": [
       "A data.frame: 6 × 2\n",
       "\\begin{tabular}{r|ll}\n",
       "  & Obs & Cluster\\\\\n",
       "  & <fct> & <dbl>\\\\\n",
       "\\hline\n",
       "\t1 & 1030101 & -Inf\\\\\n",
       "\t2 & 1030104 & -Inf\\\\\n",
       "\t3 & 1030106 & -Inf\\\\\n",
       "\t4 & 1030107 & -Inf\\\\\n",
       "\t5 & 1030108 & -Inf\\\\\n",
       "\t6 & 1030112 & -Inf\\\\\n",
       "\\end{tabular}\n"
      ],
      "text/markdown": [
       "\n",
       "A data.frame: 6 × 2\n",
       "\n",
       "| <!--/--> | Obs &lt;fct&gt; | Cluster &lt;dbl&gt; |\n",
       "|---|---|---|\n",
       "| 1 | 1030101 | -Inf |\n",
       "| 2 | 1030104 | -Inf |\n",
       "| 3 | 1030106 | -Inf |\n",
       "| 4 | 1030107 | -Inf |\n",
       "| 5 | 1030108 | -Inf |\n",
       "| 6 | 1030112 | -Inf |\n",
       "\n"
      ],
      "text/plain": [
       "  Obs     Cluster\n",
       "1 1030101 -Inf   \n",
       "2 1030104 -Inf   \n",
       "3 1030106 -Inf   \n",
       "4 1030107 -Inf   \n",
       "5 1030108 -Inf   \n",
       "6 1030112 -Inf   "
      ]
     },
     "metadata": {},
     "output_type": "display_data"
    }
   ],
   "source": [
    "alpha <- 0.1\n",
    "t1 <- Sys.time()\n",
    "tabla.master <- data.frame(Obs = row.names(data.t), Cluster= rep(-Inf, dim(data.t)[1]))\n",
    "    # inicializacion alatoria entre el minimo y maximo de cada variable\n",
    "head(tabla.master)"
   ]
  },
  {
   "cell_type": "code",
   "execution_count": 33,
   "metadata": {},
   "outputs": [
    {
     "name": "stdout",
     "output_type": "stream",
     "text": [
      "[1] 100000\n",
      "[1] 200000\n",
      "[1] 300000\n",
      "[1] 400000\n",
      "[1] 500000\n",
      "[1] 600000\n",
      "[1] 700000\n",
      "[1] 800000\n",
      "[1] 900000\n",
      "[1] 1000000\n",
      "[1] 1100000\n",
      "[1] 1200000\n",
      "[1] 1300000\n",
      "[1] 1400000\n",
      "[1] 1500000\n",
      "[1] 1600000\n",
      "[1] 1700000\n",
      "[1] 1800000\n",
      "[1] 1900000\n",
      "[1] 2000000\n",
      "[1] 2100000\n",
      "[1] 2200000\n",
      "[1] 2300000\n",
      "[1] 2400000\n"
     ]
    }
   ],
   "source": [
    "stats.min <- sapply(data.t, min, na.rm=TRUE)\n",
    "stats.max <- sapply(data.t, max, na.rm=TRUE)\n",
    "set.seed(0)\n",
    "centroides <- mapply(function(x, y) {runif(k, x, y)},  stats.min, stats.max) \n",
    "    # termina inicializacion de centroides\n",
    "\n",
    "# comienza kmeans proceso online\n",
    "    for( i in 1:dim(data.t)[1])\n",
    "    {\n",
    "      if(i %% 100000 ==0 )\n",
    "      print(i)\n",
    "      # comienza asignacion de cluster mas cercano\n",
    "      observacion.en.juego <- as.matrix(data.t[i, ])\n",
    "      m.temp <- as.matrix(rbind(observacion.en.juego, centroides))\n",
    "      distancias <- dist(m.temp)\n",
    "      m.distancias <- as.matrix(distancias)\n",
    "      k.i <- which.min(m.distancias[1, 2:(k+1)])\n",
    "      tabla.master$Cluster[i] <- k.i\n",
    "      # termina asignacion de cluster mas cercano \n",
    "      # update de cluster\n",
    "      centroides[k.i, ] <- centroides[k.i, ] + alpha*observacion.en.juego\n",
    "    }\n",
    "t2 <- Sys.time()"
   ]
  },
  {
   "cell_type": "code",
   "execution_count": 44,
   "metadata": {},
   "outputs": [
    {
     "data": {
      "text/plain": [
       "Time difference of 6.454484 hours"
      ]
     },
     "metadata": {},
     "output_type": "display_data"
    }
   ],
   "source": [
    "t2 - t1"
   ]
  },
  {
   "cell_type": "code",
   "execution_count": 45,
   "metadata": {},
   "outputs": [],
   "source": [
    "index <- which(Y$y == '')\n",
    "Y$y <- as.character(Y$y) \n",
    "Y$y[index] <- 'No asignado'"
   ]
  },
  {
   "cell_type": "code",
   "execution_count": 46,
   "metadata": {},
   "outputs": [],
   "source": [
    "tabla.master$etiqueta.original <- Y$y"
   ]
  },
  {
   "cell_type": "code",
   "execution_count": 47,
   "metadata": {},
   "outputs": [
    {
     "data": {
      "text/plain": [
       "                              \n",
       "                                    1      2      3      4      5      6      7\n",
       "  Alarm                          4856  89670  88468   5102   4916   4952  25291\n",
       "  Fire                            792  11599  11633    848    819    757   3804\n",
       "  No asignado                   97676 374520 310971  93878  95194 118890 160748\n",
       "  Non Life-threatening          38009  94026  93398  39577  39552  38906  58144\n",
       "  Potentially Life-Threatening  36267 158199 157760  37490  37684  36297  72185"
      ]
     },
     "metadata": {},
     "output_type": "display_data"
    }
   ],
   "source": [
    "table(tabla.master$etiqueta.original, tabla.master$Cluster)"
   ]
  },
  {
   "cell_type": "code",
   "execution_count": 48,
   "metadata": {},
   "outputs": [],
   "source": [
    "write.csv(tabla.master, file='resultados_cluster_7.csv')"
   ]
  },
  {
   "cell_type": "markdown",
   "metadata": {},
   "source": [
    "# Conclusión \n",
    "\n",
    "Con la clasificación no supervisada resultado de kmeans online con 7 grupos, tenemos las siguientes observaciones:\n",
    "   1. En relación a nuestra primera hipótesis sobre encontrar grupos de llamadas similares podemos establecer que efectivamente un $k=7$ es apropiado. En el notebook `JessVega-Copy2`repetimos el mismo ejercicio pero con una configuración diferente:\n",
    "       a) En este set up el número de clusters se fijó a 5 un número que surge de manera intuitiva al considerar las 4 categorías que se encuentran en la data más la que está ausente (valor ullo). En este experimento el resultado está sumamente sesgado donde la mayoría de las llamadas son clasificadas al grupo 5. \n",
    "\n",
    "2. Sobre la segunda hipótesis podemos concluir con base en la tabla de frecuencias anterior que lo más verosímil es asignar a la etiqueta de los datos `Potentially Life-Threatening` el label 2, a la etiqueta de los datos `Non Life-threatening` el label 4, a la etiqueta de los datos `Fire` el label 7, a la etiqueta de los datos `Alarm` el label 3 y finalmente a todas las llamadas a las que no se les asignó una llamada podemos atribuirlas principalmente al grupo 2.   \n",
    "\n",
    "Hay dos comentarios importantes finales. \n",
    "Si bien el número 7 de cluster pareciera ser grande su existencia se respalda porque las 5 etiquetas presentes en la data se distribuyen transversalmente en ellos. \n",
    "Por último la distribución de la etiqueta `No asignado` proporciona ideas de un futuro análisis para proponer una nueva clasificación con más de 7 niveles. \n"
   ]
  },
  {
   "cell_type": "code",
   "execution_count": 49,
   "metadata": {},
   "outputs": [
    {
     "data": {
      "text/html": [
       "1"
      ],
      "text/latex": [
       "1"
      ],
      "text/markdown": [
       "1"
      ],
      "text/plain": [
       "[1] 1"
      ]
     },
     "metadata": {},
     "output_type": "display_data"
    }
   ],
   "source": [
    "1"
   ]
  },
  {
   "cell_type": "code",
   "execution_count": 50,
   "metadata": {},
   "outputs": [
    {
     "data": {
      "text/html": [
       "1"
      ],
      "text/latex": [
       "1"
      ],
      "text/markdown": [
       "1"
      ],
      "text/plain": [
       "[1] 1"
      ]
     },
     "metadata": {},
     "output_type": "display_data"
    }
   ],
   "source": [
    "1"
   ]
  },
  {
   "cell_type": "code",
   "execution_count": 51,
   "metadata": {},
   "outputs": [
    {
     "data": {
      "text/html": [
       "1"
      ],
      "text/latex": [
       "1"
      ],
      "text/markdown": [
       "1"
      ],
      "text/plain": [
       "[1] 1"
      ]
     },
     "metadata": {},
     "output_type": "display_data"
    }
   ],
   "source": [
    "1"
   ]
  },
  {
   "cell_type": "code",
   "execution_count": 52,
   "metadata": {},
   "outputs": [
    {
     "data": {
      "text/html": [
       "1"
      ],
      "text/latex": [
       "1"
      ],
      "text/markdown": [
       "1"
      ],
      "text/plain": [
       "[1] 1"
      ]
     },
     "metadata": {},
     "output_type": "display_data"
    }
   ],
   "source": [
    "1"
   ]
  },
  {
   "cell_type": "code",
   "execution_count": 53,
   "metadata": {},
   "outputs": [
    {
     "data": {
      "text/html": [
       "1"
      ],
      "text/latex": [
       "1"
      ],
      "text/markdown": [
       "1"
      ],
      "text/plain": [
       "[1] 1"
      ]
     },
     "metadata": {},
     "output_type": "display_data"
    }
   ],
   "source": [
    "1"
   ]
  },
  {
   "cell_type": "code",
   "execution_count": null,
   "metadata": {},
   "outputs": [],
   "source": []
  }
 ],
 "metadata": {
  "environment": {
   "name": "r-cpu.3-6.m55",
   "type": "gcloud",
   "uri": "gcr.io/deeplearning-platform-release/r-cpu.3-6:m55"
  },
  "kernelspec": {
   "display_name": "R",
   "language": "R",
   "name": "ir"
  },
  "language_info": {
   "codemirror_mode": "r",
   "file_extension": ".r",
   "mimetype": "text/x-r-source",
   "name": "R",
   "pygments_lexer": "r",
   "version": "3.6.3"
  }
 },
 "nbformat": 4,
 "nbformat_minor": 4
}
