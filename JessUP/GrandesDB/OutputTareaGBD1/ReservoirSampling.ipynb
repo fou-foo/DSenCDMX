{
 "cells": [
  {
   "cell_type": "markdown",
   "metadata": {},
   "source": [
    "### Se realizaron dos implementaciones del método de reservoir sampling, la primer aproximación aunque sencilla de implementar y leer, su complejidad es $O(n)$, donde $n$ es el tamaño total (y desconocido de la población) por lo que fue muy tardado su ejecución y se procedió a realizar la segunda implementación."
   ]
  },
  {
   "cell_type": "markdown",
   "metadata": {},
   "source": [
    "# Implementación naive "
   ]
  },
  {
   "cell_type": "code",
   "execution_count": 1,
   "metadata": {},
   "outputs": [],
   "source": [
    "import pandas as pd\n",
    "import random as ran"
   ]
  },
  {
   "cell_type": "code",
   "execution_count": 2,
   "metadata": {},
   "outputs": [],
   "source": [
    "ran.seed(0) # fijamos la semilla del generador de numeros aleatorio \n",
    "m = 50*1000 # numero de registros dentro de nuestra muestra uniforme\n",
    "#file_to_read = 'checkouts-by-title.csv' #path del archivo a leer\n",
    "file_to_read = 'checkouts-by-title.csv' #path del archivo a leer"
   ]
  },
  {
   "cell_type": "code",
   "execution_count": 3,
   "metadata": {},
   "outputs": [],
   "source": [
    "sample_init = pd.read_csv(file_to_read, nrows = m)"
   ]
  },
  {
   "cell_type": "code",
   "execution_count": 4,
   "metadata": {},
   "outputs": [
    {
     "data": {
      "text/plain": [
       "(50000, 11)"
      ]
     },
     "execution_count": 4,
     "metadata": {},
     "output_type": "execute_result"
    }
   ],
   "source": [
    "sample_init.shape"
   ]
  },
  {
   "cell_type": "code",
   "execution_count": 5,
   "metadata": {},
   "outputs": [
    {
     "name": "stdout",
     "output_type": "stream",
     "text": [
      "index  :50000\n",
      "index  :51000\n",
      "index  :52000\n",
      "52029\n",
      "EOF :D\n"
     ]
    }
   ],
   "source": [
    "index = sample_init.shape[0]\n",
    "k = sample_init.columns\n",
    "while  1>0:\n",
    "    # lectura hasta fin de archivo \n",
    "    try:\n",
    "        # lectura lineal de un solo registro\n",
    "        temp = pd.read_csv(file_to_read, nrows= 1, skiprows = lambda x: x in range(0, index) , header=0)\n",
    "        # comienza sub muestreo aleatorio  \n",
    "        j = ran.randint(0, index+1)\n",
    "        if(index %1000 ==0 ):\n",
    "                print('index  :' + str(index))\n",
    "        if j <=m :\n",
    "            for columna in range(len(k)):\n",
    "                sample_init.loc[j, k[columna]]  = temp.iloc[0, columna] \n",
    "        # termina submuestreo aleatorio\n",
    "        index+=1\n",
    "        continue\n",
    "    except:\n",
    "        print(index)\n",
    "        print('EOF :D')\n",
    "        break"
   ]
  },
  {
   "cell_type": "code",
   "execution_count": 6,
   "metadata": {},
   "outputs": [
    {
     "data": {
      "text/html": [
       "<div>\n",
       "<style scoped>\n",
       "    .dataframe tbody tr th:only-of-type {\n",
       "        vertical-align: middle;\n",
       "    }\n",
       "\n",
       "    .dataframe tbody tr th {\n",
       "        vertical-align: top;\n",
       "    }\n",
       "\n",
       "    .dataframe thead th {\n",
       "        text-align: right;\n",
       "    }\n",
       "</style>\n",
       "<table border=\"1\" class=\"dataframe\">\n",
       "  <thead>\n",
       "    <tr style=\"text-align: right;\">\n",
       "      <th></th>\n",
       "      <th>UsageClass</th>\n",
       "      <th>CheckoutType</th>\n",
       "      <th>MaterialType</th>\n",
       "      <th>CheckoutYear</th>\n",
       "      <th>CheckoutMonth</th>\n",
       "      <th>Checkouts</th>\n",
       "      <th>Title</th>\n",
       "      <th>Creator</th>\n",
       "      <th>Subjects</th>\n",
       "      <th>Publisher</th>\n",
       "      <th>PublicationYear</th>\n",
       "    </tr>\n",
       "  </thead>\n",
       "  <tbody>\n",
       "    <tr>\n",
       "      <th>0</th>\n",
       "      <td>Physical</td>\n",
       "      <td>Horizon</td>\n",
       "      <td>BOOK</td>\n",
       "      <td>2006</td>\n",
       "      <td>6</td>\n",
       "      <td>1</td>\n",
       "      <td>McGraw-Hill's dictionary of American slang and...</td>\n",
       "      <td>Spears, Richard A.</td>\n",
       "      <td>English language United States Slang Dictionar...</td>\n",
       "      <td>McGraw-Hill,</td>\n",
       "      <td>c2006.</td>\n",
       "    </tr>\n",
       "    <tr>\n",
       "      <th>1</th>\n",
       "      <td>Physical</td>\n",
       "      <td>Horizon</td>\n",
       "      <td>BOOK</td>\n",
       "      <td>2006</td>\n",
       "      <td>6</td>\n",
       "      <td>1</td>\n",
       "      <td>Emma, Lady Hamilton / Flora Fraser.</td>\n",
       "      <td>Fraser, Flora</td>\n",
       "      <td>Hamilton Emma Lady 1761 1815, Nelson Horatio N...</td>\n",
       "      <td>Knopf : Distributed by Random House,</td>\n",
       "      <td>1987, c1986.</td>\n",
       "    </tr>\n",
       "    <tr>\n",
       "      <th>2</th>\n",
       "      <td>Physical</td>\n",
       "      <td>Horizon</td>\n",
       "      <td>BOOK</td>\n",
       "      <td>2006</td>\n",
       "      <td>6</td>\n",
       "      <td>2</td>\n",
       "      <td>Red midnight</td>\n",
       "      <td>NaN</td>\n",
       "      <td>Survival Fiction, Emigration and immigration F...</td>\n",
       "      <td>NaN</td>\n",
       "      <td>NaN</td>\n",
       "    </tr>\n",
       "    <tr>\n",
       "      <th>3</th>\n",
       "      <td>Physical</td>\n",
       "      <td>Horizon</td>\n",
       "      <td>BOOK</td>\n",
       "      <td>2006</td>\n",
       "      <td>6</td>\n",
       "      <td>1</td>\n",
       "      <td>Just the financial facts how to identify nugge...</td>\n",
       "      <td>NaN</td>\n",
       "      <td>Investments Information services</td>\n",
       "      <td>NaN</td>\n",
       "      <td>NaN</td>\n",
       "    </tr>\n",
       "    <tr>\n",
       "      <th>4</th>\n",
       "      <td>Physical</td>\n",
       "      <td>Horizon</td>\n",
       "      <td>BOOK</td>\n",
       "      <td>2006</td>\n",
       "      <td>7</td>\n",
       "      <td>1</td>\n",
       "      <td>Seven sisters</td>\n",
       "      <td>NaN</td>\n",
       "      <td>Mystery fiction, California Fiction, Harper Be...</td>\n",
       "      <td>NaN</td>\n",
       "      <td>NaN</td>\n",
       "    </tr>\n",
       "  </tbody>\n",
       "</table>\n",
       "</div>"
      ],
      "text/plain": [
       "  UsageClass CheckoutType MaterialType  CheckoutYear  CheckoutMonth  \\\n",
       "0   Physical      Horizon         BOOK          2006              6   \n",
       "1   Physical      Horizon         BOOK          2006              6   \n",
       "2   Physical      Horizon         BOOK          2006              6   \n",
       "3   Physical      Horizon         BOOK          2006              6   \n",
       "4   Physical      Horizon         BOOK          2006              7   \n",
       "\n",
       "   Checkouts                                              Title  \\\n",
       "0          1  McGraw-Hill's dictionary of American slang and...   \n",
       "1          1                Emma, Lady Hamilton / Flora Fraser.   \n",
       "2          2                                       Red midnight   \n",
       "3          1  Just the financial facts how to identify nugge...   \n",
       "4          1                                      Seven sisters   \n",
       "\n",
       "              Creator                                           Subjects  \\\n",
       "0  Spears, Richard A.  English language United States Slang Dictionar...   \n",
       "1       Fraser, Flora  Hamilton Emma Lady 1761 1815, Nelson Horatio N...   \n",
       "2                 NaN  Survival Fiction, Emigration and immigration F...   \n",
       "3                 NaN                   Investments Information services   \n",
       "4                 NaN  Mystery fiction, California Fiction, Harper Be...   \n",
       "\n",
       "                              Publisher PublicationYear  \n",
       "0                          McGraw-Hill,          c2006.  \n",
       "1  Knopf : Distributed by Random House,    1987, c1986.  \n",
       "2                                   NaN             NaN  \n",
       "3                                   NaN             NaN  \n",
       "4                                   NaN             NaN  "
      ]
     },
     "execution_count": 6,
     "metadata": {},
     "output_type": "execute_result"
    }
   ],
   "source": [
    "sample_init.head()"
   ]
  },
  {
   "cell_type": "code",
   "execution_count": 7,
   "metadata": {},
   "outputs": [],
   "source": [
    "sample_init.to_csv('sample_size_naive'+ str(m) + file_to_read, index = False)"
   ]
  },
  {
   "cell_type": "markdown",
   "metadata": {},
   "source": [
    "# Implementación algoritmo $L$ \n",
    "La segunda implementación que se realizo fue la del algoritmo L, cuyo complejidad es $O(k * log(n/k))$ donde $k$ es el tamaño de la muestra que buscamos. Esta implementación puede no ser optima, pero el algoritmo permitió generar la muestra con la que se construyo el reporte en un tiempo razonable. "
   ]
  },
  {
   "cell_type": "code",
   "execution_count": 8,
   "metadata": {},
   "outputs": [],
   "source": [
    "import pandas as pd\n",
    "import random as ran\n",
    "import numpy as np\n",
    "ran.seed(0) # fijamos la semilla del generador de numeros aleatorio \n",
    "m = 2*10**6 # numero de registros dentro de nuestra muestra uniforme\n",
    "#file_to_read = 'checkouts-by-title.csv' #path del archivo a leer\n",
    "file_to_read = 'checkouts-by-title.csv' #path del archivo a leer\n",
    "sample_init = pd.read_csv(file_to_read, nrows = m)"
   ]
  },
  {
   "cell_type": "code",
   "execution_count": 9,
   "metadata": {},
   "outputs": [
    {
     "name": "stdout",
     "output_type": "stream",
     "text": [
      "w1:    0.999999915448461\n",
      "EOF :D\n"
     ]
    }
   ],
   "source": [
    "index = sample_init.shape[0]\n",
    "k = sample_init.columns\n",
    "i = m\n",
    "\n",
    "w = np.exp ( np.log( ran.uniform(0, 1)) / m )\n",
    "print('w1:    ' + str(w))\n",
    "while  1>0:\n",
    "    # lectura hasta fin de archivo \n",
    "    i = i + int( np.log( ran.uniform(0, 1) ) / np.log(1- w) ) + 1 \n",
    "    try:\n",
    "        # lectura lineal de un solo registro\n",
    "        temp = pd.read_csv(file_to_read, nrows= 1, skiprows = lambda x: x in range(0, i) , header=0)\n",
    "        # comienza sub muestreo aleatorio  \n",
    "        j = ran.randint(0, m)\n",
    "        if i %1000 == 0:\n",
    "            print('index  :' + str(i))\n",
    "        for columna in range(len(k)):\n",
    "            sample_init.loc[j, k[columna]]  = temp.iloc[0, columna] \n",
    "        # termina submuestreo aleatorio\n",
    "        w = w * np.exp ( np.log( ran.uniform(0, 1)) / m )\n",
    "        continue\n",
    "    except:\n",
    "        print('EOF :D')\n",
    "        break"
   ]
  },
  {
   "cell_type": "code",
   "execution_count": 10,
   "metadata": {},
   "outputs": [],
   "source": [
    "sample_init.to_csv('sample_size_speedup'+ str(m) + file_to_read, index = False)"
   ]
  },
  {
   "cell_type": "code",
   "execution_count": null,
   "metadata": {},
   "outputs": [],
   "source": []
  }
 ],
 "metadata": {
  "kernelspec": {
   "display_name": "Python 3",
   "language": "python",
   "name": "python3"
  },
  "language_info": {
   "codemirror_mode": {
    "name": "ipython",
    "version": 3
   },
   "file_extension": ".py",
   "mimetype": "text/x-python",
   "name": "python",
   "nbconvert_exporter": "python",
   "pygments_lexer": "ipython3",
   "version": "3.7.6"
  }
 },
 "nbformat": 4,
 "nbformat_minor": 4
}
