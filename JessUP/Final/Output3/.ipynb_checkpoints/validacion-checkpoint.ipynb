{
 "cells": [
  {
   "cell_type": "markdown",
   "metadata": {},
   "source": [
    "# Métodos de Validación\n",
    "Ejemplos de diferentes métodos dde validación con la finalidad de mejorar el desempeño de los modelos (bajo ajuste y poca variabilidad)"
   ]
  },
  {
   "cell_type": "markdown",
   "metadata": {},
   "source": [
    "## Conjunto de datos\n",
    "El conjunto de datos es la caracterización de tumores benignos y malignos asociados al cáncer de mama. Cuenta con 30 atributos obtenidos de imágenes de tumores y dos clases posibles de tumores."
   ]
  },
  {
   "cell_type": "code",
   "execution_count": null,
   "metadata": {},
   "outputs": [],
   "source": [
    "import pandas as pd\n",
    "\n",
    "from sklearn.datasets import load_breast_cancer\n",
    "cancer = load_breast_cancer()\n",
    "\n",
    "atributos = pd.DataFrame(cancer.data)\n",
    "atributos.columns = cancer.feature_names\n",
    "\n",
    "etiquetas = cancer.target\n",
    "\n",
    "print(atributos.shape)\n",
    "atributos.head(5)"
   ]
  },
  {
   "cell_type": "markdown",
   "metadata": {},
   "source": [
    "## Método de retención"
   ]
  },
  {
   "cell_type": "code",
   "execution_count": null,
   "metadata": {},
   "outputs": [],
   "source": [
    "from sklearn.svm import SVC\n",
    "from sklearn.model_selection import train_test_split\n",
    "\n",
    "X_entrenamiento, X_prueba, y_entrenamiento, y_prueba = train_test_split(atributos, etiquetas, test_size=0.3, random_state=0)\n",
    "\n",
    "modelo = SVC()\n",
    "modelo.fit(X_entrenamiento,y_entrenamiento)\n",
    "\n",
    "# Evaluación de residuos (evaluación de entrenamiento)\n",
    "exactitud_entrenamiento = modelo.score(X_entrenamiento,y_entrenamiento)\n",
    "print('Entrenamiento:', exactitud_entrenamiento)\n",
    "\n",
    "# Evaluación de prueba\n",
    "exactitud_prueba = modelo.score(X_prueba,y_prueba)\n",
    "print('Prueba:', exactitud_prueba)"
   ]
  },
  {
   "cell_type": "markdown",
   "metadata": {},
   "source": [
    "## Validación por cruce de k-pliegues"
   ]
  },
  {
   "cell_type": "code",
   "execution_count": null,
   "metadata": {},
   "outputs": [],
   "source": [
    "from sklearn.model_selection import KFold\n",
    "import numpy as np\n",
    "\n",
    "metricas = []\n",
    "modelo = SVC()\n",
    "mejor_modelo = modelo\n",
    "mejor_evaluacion = float('inf')\n",
    "\n",
    "kf = KFold(n_splits = 5)\n",
    "\n",
    "for entrenamiento, prueba in kf.split(atributos):\n",
    "    X_entrenamiento = atributos.iloc[entrenamiento]\n",
    "    X_prueba        = atributos.iloc[prueba]\n",
    "    y_entrenamiento = etiquetas[entrenamiento]\n",
    "    y_prueba        = etiquetas[prueba]\n",
    "    \n",
    "    modelo.fit(X_entrenamiento,y_entrenamiento)\n",
    "    metrica = modelo.score(X_prueba,y_prueba)\n",
    "    \n",
    "    if metrica < mejor_evaluacion:\n",
    "        mejor_modelo     = modelo\n",
    "        mejor_evaluacion = metrica\n",
    "    \n",
    "    metricas.append(metrica)\n",
    "\n",
    "print('Evaluación promedio:', np.mean(metricas))\n",
    "\n",
    "exactitud_prueba = mejor_modelo.score(X_prueba,y_prueba)\n",
    "print('Prueba:', exactitud_prueba)"
   ]
  },
  {
   "cell_type": "markdown",
   "metadata": {},
   "source": [
    "## Validación por cruce de k-pliegues estratificado"
   ]
  },
  {
   "cell_type": "code",
   "execution_count": null,
   "metadata": {},
   "outputs": [],
   "source": [
    "from sklearn.model_selection import StratifiedKFold\n",
    "import numpy as np\n",
    "\n",
    "metricas = []\n",
    "modelo = SVC()\n",
    "mejor_modelo = modelo\n",
    "mejor_evaluacion = float('inf')\n",
    "\n",
    "skf = StratifiedKFold(n_splits = 5)\n",
    "\n",
    "for entrenamiento, prueba in skf.split(atributos,etiquetas):\n",
    "    X_entrenamiento = atributos.iloc[entrenamiento]\n",
    "    X_prueba        = atributos.iloc[prueba]\n",
    "    y_entrenamiento = etiquetas[entrenamiento]\n",
    "    y_prueba        = etiquetas[prueba]\n",
    "    \n",
    "    modelo.fit(X_entrenamiento,y_entrenamiento)\n",
    "    metrica = modelo.score(X_prueba,y_prueba)\n",
    "    \n",
    "    if metrica < mejor_evaluacion:\n",
    "        mejor_modelo     = modelo\n",
    "        mejor_evaluacion = metrica\n",
    "    \n",
    "    metricas.append(metrica)\n",
    "\n",
    "print('Evaluación promedio:', np.mean(metricas))\n",
    "\n",
    "exactitud_prueba = mejor_modelo.score(X_prueba,y_prueba)\n",
    "print('Prueba:', exactitud_prueba)"
   ]
  },
  {
   "cell_type": "code",
   "execution_count": null,
   "metadata": {},
   "outputs": [],
   "source": []
  }
 ],
 "metadata": {
  "kernelspec": {
   "display_name": "Python 3",
   "language": "python",
   "name": "python3"
  },
  "language_info": {
   "codemirror_mode": {
    "name": "ipython",
    "version": 3
   },
   "file_extension": ".py",
   "mimetype": "text/x-python",
   "name": "python",
   "nbconvert_exporter": "python",
   "pygments_lexer": "ipython3",
   "version": "3.6.5"
  }
 },
 "nbformat": 4,
 "nbformat_minor": 2
}
