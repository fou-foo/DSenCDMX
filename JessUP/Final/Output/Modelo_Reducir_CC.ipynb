{
 "cells": [
  {
   "cell_type": "markdown",
   "metadata": {},
   "source": [
    "# Recolección de datos\n",
    "\n",
    "Esta parte la puede detallar mejor Jessica"
   ]
  },
  {
   "cell_type": "markdown",
   "metadata": {},
   "source": [
    "# Preprocesamiento y extracción de características\n",
    "\n",
    "Una vez que definimos las columnas, o variables, que utilizaremos en la construcción del dataset recurrimos a reglas del negocio para saber como tratar los valores *en blanco* o nulos"
   ]
  },
  {
   "cell_type": "code",
   "execution_count": 1,
   "metadata": {},
   "outputs": [],
   "source": [
    "import pandas as pd\n",
    "import numpy as np\n",
    "%matplotlib inline\n",
    "datos = pd.read_csv('Base Jessica Vega Feb 2020 Depurada.csv')\n",
    "datos.columns\n",
    "# no requerimos de algunas columnas para el modelo de clasificacion \n",
    "del datos['DESC_CE_FINANCIERO']\n",
    "del datos['LAT']\n",
    "del datos['LONG']"
   ]
  },
  {
   "cell_type": "code",
   "execution_count": 2,
   "metadata": {},
   "outputs": [
    {
     "data": {
      "text/html": [
       "<div>\n",
       "<style scoped>\n",
       "    .dataframe tbody tr th:only-of-type {\n",
       "        vertical-align: middle;\n",
       "    }\n",
       "\n",
       "    .dataframe tbody tr th {\n",
       "        vertical-align: top;\n",
       "    }\n",
       "\n",
       "    .dataframe thead th {\n",
       "        text-align: right;\n",
       "    }\n",
       "</style>\n",
       "<table border=\"1\" class=\"dataframe\">\n",
       "  <thead>\n",
       "    <tr style=\"text-align: right;\">\n",
       "      <th></th>\n",
       "      <th>SALDO_CONTRATO</th>\n",
       "    </tr>\n",
       "  </thead>\n",
       "  <tbody>\n",
       "    <tr>\n",
       "      <th>count</th>\n",
       "      <td>3.358000e+03</td>\n",
       "    </tr>\n",
       "    <tr>\n",
       "      <th>mean</th>\n",
       "      <td>2.307899e+06</td>\n",
       "    </tr>\n",
       "    <tr>\n",
       "      <th>std</th>\n",
       "      <td>3.096281e+07</td>\n",
       "    </tr>\n",
       "    <tr>\n",
       "      <th>min</th>\n",
       "      <td>-1.000000e+00</td>\n",
       "    </tr>\n",
       "    <tr>\n",
       "      <th>25%</th>\n",
       "      <td>7.003748e+04</td>\n",
       "    </tr>\n",
       "    <tr>\n",
       "      <th>50%</th>\n",
       "      <td>2.331926e+05</td>\n",
       "    </tr>\n",
       "    <tr>\n",
       "      <th>75%</th>\n",
       "      <td>6.879034e+05</td>\n",
       "    </tr>\n",
       "    <tr>\n",
       "      <th>max</th>\n",
       "      <td>1.214598e+09</td>\n",
       "    </tr>\n",
       "  </tbody>\n",
       "</table>\n",
       "</div>"
      ],
      "text/plain": [
       "       SALDO_CONTRATO\n",
       "count    3.358000e+03\n",
       "mean     2.307899e+06\n",
       "std      3.096281e+07\n",
       "min     -1.000000e+00\n",
       "25%      7.003748e+04\n",
       "50%      2.331926e+05\n",
       "75%      6.879034e+05\n",
       "max      1.214598e+09"
      ]
     },
     "execution_count": 2,
     "metadata": {},
     "output_type": "execute_result"
    }
   ],
   "source": [
    "# para poder imputar los valores que no se tienen de la variable 'SALDO_CONTRATO', los ceros, \n",
    "# nos fijamos en su distribucion \n",
    "# datos[['SALDO_CONTRATO']].hist()\n",
    "datos[['SALDO_CONTRATO']].describe()"
   ]
  },
  {
   "cell_type": "code",
   "execution_count": 3,
   "metadata": {},
   "outputs": [],
   "source": [
    "# imputamos la variable datos[['SALDO_CONTRATO']] por la mediana pues hay valores muy grandes y usar la media sesga más\n",
    "datos['SALDO_CONTRATO'].replace({ -1: np.median(datos.SALDO_CONTRATO)}, inplace=True)\n",
    "datos['SALDO_CONTRATO'].replace({ 0: np.median(datos.SALDO_CONTRATO)}, inplace=True)\n",
    "\n",
    "# para poder imputar los valores que no se tienen de la variable 'SALDO_CLIENTE', los ceros, \n",
    "# nos fijamos en su distribucion \n",
    "# datos[['SALDO_CLIENTE']].hist()\n",
    "datos[['SALDO_CLIENTE']].describe()\n",
    "# imputamos la variable datos[['SALDO_CLIENTE']] por la mediana pues hay valores muy grandes y usar la media sesga más\n",
    "datos['SALDO_CLIENTE'].replace({ 0: np.median(datos.SALDO_CLIENTE)}, inplace=True)\n",
    "datos['SALDO_CLIENTE'].replace({ -1: np.median(datos.SALDO_CLIENTE)}, inplace=True)"
   ]
  },
  {
   "cell_type": "code",
   "execution_count": 4,
   "metadata": {},
   "outputs": [],
   "source": [
    "# para imputar el tipo de cliente, variable 'DESC_TIPO_PERS' lo hacemos por reglas del degocio. La mayoria de clientes son personas fisicas\n",
    "datos.DESC_TIPO_PERS.value_counts\n",
    "datos[['DESC_TIPO_PERS']] = datos[['DESC_TIPO_PERS']].fillna(value='PERSONA FISICA')\n",
    "# para imputar la variable a predecir el tipo de cliente, variable 'STATUS_BE'\n",
    "# lo hacemos por reglas del degocio, si el cliente tiene dado de alta la banca electronica lo marcamos como 1 y 0 en otro caso \n",
    "datos[['STATUS_BE']] = datos[['STATUS_BE']].fillna(value='NO_ENROLADO')\n",
    "datos['STATUS_BE'].replace({ 'NO_ENROLADO': 0, 'ENROLADO':1}, inplace=True)\n",
    "datos['STATUS_BE'] = datos['STATUS_BE'].astype('int64')"
   ]
  },
  {
   "cell_type": "code",
   "execution_count": 5,
   "metadata": {},
   "outputs": [],
   "source": [
    "# finalmente como la mayoria de las columnas son nominales las transformamos a dummies y realizamos un escalamiento\n",
    "del datos['CLAVE_CLIENTE']\n",
    "datos['UNIDAD_NEGOCIO'] = datos['UNIDAD_NEGOCIO'].astype('category')\n",
    "datos['EMISORA_FONDO'] = datos['EMISORA_FONDO'].astype('category')\n",
    "datos['DESC_TIPO_PERS'] = datos['DESC_TIPO_PERS'].astype('category')\n",
    "\n",
    "datos['ENTIDAD_FEDERATIVA'] = datos['ENTIDAD_FEDERATIVA'].astype('category')\n",
    "datos['GENERO'] = datos['GENERO'].astype('category')"
   ]
  },
  {
   "cell_type": "markdown",
   "metadata": {},
   "source": [
    "Como el alcance del proyecto es a personas físicas omitiremos de nuestro dataset el conjunto de personas morales. "
   ]
  },
  {
   "cell_type": "code",
   "execution_count": 6,
   "metadata": {},
   "outputs": [],
   "source": [
    "index = datos[ datos['DESC_TIPO_PERS'] == 'PERSONA MORAL'].index\n",
    "datos.drop(index, inplace=True)\n",
    "#############\n",
    "index = datos[ datos['EDAD'] == 'PM'].index\n",
    "datos.drop(index, inplace=True)"
   ]
  },
  {
   "cell_type": "code",
   "execution_count": 7,
   "metadata": {},
   "outputs": [
    {
     "name": "stderr",
     "output_type": "stream",
     "text": [
      "C:\\ProgramData\\Anaconda3\\lib\\site-packages\\ipykernel_launcher.py:2: SettingWithCopyWarning: \n",
      "A value is trying to be set on a copy of a slice from a DataFrame\n",
      "\n",
      "See the caveats in the documentation: http://pandas.pydata.org/pandas-docs/stable/indexing.html#indexing-view-versus-copy\n",
      "  \n"
     ]
    }
   ],
   "source": [
    "index = datos[ datos['CATEGORIA_OP'].isna() ].index # reemplazamos el nulo por un string\n",
    "datos['CATEGORIA_OP'][index] = 'NULO'\n",
    "datos['CATEGORIA_OP'] = datos['CATEGORIA_OP'].astype('category')"
   ]
  },
  {
   "cell_type": "code",
   "execution_count": 8,
   "metadata": {},
   "outputs": [],
   "source": [
    "datos = datos.reset_index(drop=True)"
   ]
  },
  {
   "cell_type": "code",
   "execution_count": 9,
   "metadata": {},
   "outputs": [],
   "source": [
    "index_banco = datos[ datos['UNIDAD_NEGOCIO'] == 'BANCO'].index\n",
    "index_casa_de_bolsa = datos[ datos['UNIDAD_NEGOCIO'] == 'CASA DE BOLSA'].index"
   ]
  },
  {
   "cell_type": "markdown",
   "metadata": {},
   "source": [
    "# Selección de características\n",
    "\n",
    "De las variables numéricas que disponemos, que corresponden con saldos en cuenta de los clientes en dos diferentes momentos, estas estan altamente correlacionadas (como lo muestra la siguiente gráfica), por lo que descartaremos la segunda como *feature* para el modelo de clasificación que construiremos."
   ]
  },
  {
   "cell_type": "code",
   "execution_count": 10,
   "metadata": {},
   "outputs": [
    {
     "name": "stdout",
     "output_type": "stream",
     "text": [
      "[[1.         0.99595778]\n",
      " [0.99595778 1.        ]]\n"
     ]
    },
    {
     "data": {
      "image/png": "[encoded data removed]",
      "text/plain": [
       "<Figure size 432x288 with 1 Axes>"
      ]
     },
     "metadata": {},
     "output_type": "display_data"
    }
   ],
   "source": [
    "import matplotlib.pyplot as plt\n",
    "plt.scatter(datos['SALDO_CONTRATO'], datos['SALDO_CLIENTE'], c = datos['STATUS_BE'])\n",
    "print(np.corrcoef(datos['SALDO_CONTRATO'], datos['SALDO_CLIENTE']))"
   ]
  },
  {
   "cell_type": "code",
   "execution_count": 11,
   "metadata": {},
   "outputs": [],
   "source": [
    "del datos['SALDO_CLIENTE']"
   ]
  },
  {
   "cell_type": "markdown",
   "metadata": {},
   "source": [
    "En vista de que la mayoría de las columnas con las que trabajaremos son nominales vamos a realizar un cambio de encoding. Como tenemos algunas variables con más de 25 categorías en lugar de hacer dummies estas variables usaremos un encoding que mapea a cada categoría con un entero. "
   ]
  },
  {
   "cell_type": "code",
   "execution_count": 12,
   "metadata": {},
   "outputs": [
    {
     "name": "stdout",
     "output_type": "stream",
     "text": [
      "Index(['UNIDAD_NEGOCIO', 'EMISORA_FONDO', 'CATEGORIA_OP', 'SALDO_CONTRATO',\n",
      "       'DESC_TIPO_PERS', 'ENTIDAD_FEDERATIVA', 'GENERO', 'EDAD'],\n",
      "      dtype='object')\n"
     ]
    },
    {
     "data": {
      "text/plain": [
       "(3253, 8)"
      ]
     },
     "execution_count": 12,
     "metadata": {},
     "output_type": "execute_result"
    }
   ],
   "source": [
    "cat_columns = datos.select_dtypes(['category']).columns\n",
    "datos[cat_columns] = datos[cat_columns].apply(lambda x: x.cat.codes)\n",
    "y = datos['STATUS_BE']\n",
    "del datos['STATUS_BE']\n",
    "print(datos.columns)\n",
    "              # copia del dataset original preprocesado\n",
    "import copy\n",
    "final = copy.deepcopy(datos) \n",
    "\n",
    "x = datos\n",
    "x.reset_index()\n",
    "from sklearn.preprocessing import StandardScaler\n",
    "scaler = StandardScaler()\n",
    "scaler.fit(x)\n",
    "datos = scaler.transform(x)\n",
    "datos.shape"
   ]
  },
  {
   "cell_type": "code",
   "execution_count": 13,
   "metadata": {},
   "outputs": [],
   "source": [
    "# Dividimos el dataset en conjunto de entrenamiento y de prueba\n",
    "from sklearn.model_selection import train_test_split\n",
    "train_x, test_x, train_y, test_y = train_test_split( datos, y, test_size = 0.7, random_state=0)"
   ]
  },
  {
   "cell_type": "markdown",
   "metadata": {},
   "source": [
    "# Creación de modelos\n",
    "\n",
    "En esta sección creamos los 4 modelos correspondientes a los clasificadores: kmeans, mezcla de gaussianas, bosques aleatorios o random forest y el XGBoosting (Gradient boosting) "
   ]
  },
  {
   "cell_type": "code",
   "execution_count": 14,
   "metadata": {},
   "outputs": [
    {
     "name": "stderr",
     "output_type": "stream",
     "text": [
      "C:\\ProgramData\\Anaconda3\\lib\\site-packages\\distributed\\config.py:63: YAMLLoadWarning: calling yaml.load() without Loader=... is deprecated, as the default Loader is unsafe. Please read https://msg.pyyaml.org/load for full details.\n",
      "  config.update(yaml.load(text) or {})\n"
     ]
    }
   ],
   "source": [
    "# inicializamos los modelos que evaluaremos\n",
    "modelos = []\n",
    "from sklearn.cluster import KMeans\n",
    "modelos.append( KMeans(n_clusters = 2).fit(train_x) ) # 2 centros pues son el numero de categorias a clasificar\n",
    "\n",
    "from sklearn.mixture import GaussianMixture\n",
    "modelos.append( GaussianMixture (n_components = 2, covariance_type = 'full').fit(train_x))\n",
    "\n",
    "from sklearn.ensemble import RandomForestClassifier\n",
    "modelos.append( RandomForestClassifier(random_state=0).fit(train_x, train_y) )\n",
    "\n",
    "import xgboost as xgb\n",
    "modelos.append( xgb.XGBClassifier(random_state=1,learning_rate=0.01).fit(train_x, train_y) )\n",
    "# tal vez sea necesario instalar la libraria y reiniciar el notebook \n",
    "# !pip install xgboost\n"
   ]
  },
  {
   "cell_type": "markdown",
   "metadata": {},
   "source": [
    "# Evaluación de los modelos\n",
    "\n",
    "Entrenamos y evaluamos por medio de la precisión (*accuracy*) en el conjunto de prueba el desempeño de los modelos."
   ]
  },
  {
   "cell_type": "code",
   "execution_count": 15,
   "metadata": {},
   "outputs": [
    {
     "name": "stderr",
     "output_type": "stream",
     "text": [
      "C:\\ProgramData\\Anaconda3\\lib\\site-packages\\sklearn\\preprocessing\\label.py:151: DeprecationWarning: The truth value of an empty array is ambiguous. Returning False, but in future this will result in an error. Use `array.size > 0` to check that an array is not empty.\n",
      "  if diff:\n"
     ]
    },
    {
     "data": {
      "text/plain": [
       "[0.44512730465320455,\n",
       " 0.42844600526777876,\n",
       " 0.6997366110623354,\n",
       " 0.7050043898156277]"
      ]
     },
     "execution_count": 15,
     "metadata": {},
     "output_type": "execute_result"
    }
   ],
   "source": [
    "from sklearn.metrics import accuracy_score\n",
    "precision = []\n",
    "for i in modelos:\n",
    "    y_temp = i.predict(test_x)\n",
    "    precision.append( accuracy_score(test_y, y_temp) )\n",
    "precision"
   ]
  },
  {
   "cell_type": "markdown",
   "metadata": {},
   "source": [
    "De donde obtenemos que el random forest es el segundo modelo con mayor precisión, solo marginalmente en comparación al XGB, sin embargo como RF es más interpretable lo escogemos como ganador. Procedemos a afinar el modelo por medio de sus parámetros con una búsqueda de grid."
   ]
  },
  {
   "cell_type": "code",
   "execution_count": 16,
   "metadata": {},
   "outputs": [],
   "source": [
    "grid = {}\n",
    "for _ in range(0, 20):\n",
    "    model = RandomForestClassifier(n_estimators = _*4+2, random_state=0 )\n",
    "    model.fit(train_x, train_y)\n",
    "    y_temp = model.predict(test_x)    \n",
    "    grid[str(_*10+1)] =  accuracy_score(test_y, y_temp) "
   ]
  },
  {
   "cell_type": "code",
   "execution_count": 17,
   "metadata": {},
   "outputs": [
    {
     "data": {
      "text/plain": [
       "{'1': 0.6988586479367866,\n",
       " '11': 0.6984196663740123,\n",
       " '21': 0.6997366110623354,\n",
       " '31': 0.6979806848112379,\n",
       " '41': 0.7019315188762072,\n",
       " '51': 0.6997366110623354,\n",
       " '61': 0.7032484635645303,\n",
       " '71': 0.7036874451273046,\n",
       " '81': 0.6984196663740123,\n",
       " '91': 0.7014925373134329,\n",
       " '101': 0.7050043898156277,\n",
       " '111': 0.7036874451273046,\n",
       " '121': 0.6997366110623354,\n",
       " '131': 0.6975417032484635,\n",
       " '141': 0.7019315188762072,\n",
       " '151': 0.7036874451273046,\n",
       " '161': 0.7014925373134329,\n",
       " '171': 0.7019315188762072,\n",
       " '181': 0.7036874451273046,\n",
       " '191': 0.704126426690079}"
      ]
     },
     "execution_count": 17,
     "metadata": {},
     "output_type": "execute_result"
    }
   ],
   "source": [
    "grid"
   ]
  },
  {
   "cell_type": "code",
   "execution_count": 18,
   "metadata": {},
   "outputs": [],
   "source": [
    "scaler = StandardScaler()\n",
    "scaler.fit(final)\n",
    "final = scaler.transform(final)"
   ]
  },
  {
   "cell_type": "markdown",
   "metadata": {},
   "source": [
    "Donde el mejor modelo lo obtenemos con 101 árboles en el bosque."
   ]
  },
  {
   "cell_type": "code",
   "execution_count": 19,
   "metadata": {},
   "outputs": [
    {
     "data": {
      "text/plain": [
       "RandomForestClassifier(bootstrap=True, class_weight=None, criterion='gini',\n",
       "            max_depth=None, max_features='auto', max_leaf_nodes=None,\n",
       "            min_impurity_decrease=0.0, min_impurity_split=None,\n",
       "            min_samples_leaf=1, min_samples_split=2,\n",
       "            min_weight_fraction_leaf=0.0, n_estimators=101, n_jobs=1,\n",
       "            oob_score=False, random_state=0, verbose=0, warm_start=False)"
      ]
     },
     "execution_count": 19,
     "metadata": {},
     "output_type": "execute_result"
    }
   ],
   "source": [
    "model = RandomForestClassifier(n_estimators = 101, random_state=0 )\n",
    "model.fit(final, y)"
   ]
  },
  {
   "cell_type": "markdown",
   "metadata": {},
   "source": [
    "Para elegir los limites de probabilidad con los que clasificaremos, obtenemos los dos centroides de cada estrato formado por los valores ‘BANCO’ y ‘CASA DE BOLSA’ de la variable ‘UNIDAD_NEGOCIO’. "
   ]
  },
  {
   "cell_type": "code",
   "execution_count": 20,
   "metadata": {},
   "outputs": [
    {
     "name": "stdout",
     "output_type": "stream",
     "text": [
      "[0.14851485 0.1980198  0.18811881]\n",
      "[0.03960396 0.34653465 0.05940594]\n"
     ]
    }
   ],
   "source": [
    "np.random.seed(0)\n",
    "kmeans = KMeans(n_clusters = 3, max_iter = 2000, random_state=0).fit( final[index_banco, :] )\n",
    "banco_limites  = model.predict_proba( kmeans.cluster_centers_ )[:, 1] # probabilidad de tener banca electronica \n",
    "print(banco_limites)\n",
    "kmeans = KMeans(n_clusters = 3, max_iter = 2000, random_state=0).fit( final[index_casa_de_bolsa, :] )\n",
    "casa_limites  = model.predict_proba( kmeans.cluster_centers_ )[:,1] # probabilidad de tener banca electronica \n",
    "print(casa_limites)\n",
    "\n",
    "y_prob = pd.DataFrame(model.predict_proba(final)[:,  1]  )"
   ]
  },
  {
   "cell_type": "code",
   "execution_count": 21,
   "metadata": {},
   "outputs": [
    {
     "name": "stdout",
     "output_type": "stream",
     "text": [
      "0.19801980198019803\n",
      "0.3465346534653465\n"
     ]
    },
    {
     "data": {
      "text/plain": [
       "array([[<matplotlib.axes._subplots.AxesSubplot object at 0x000001E3222C87F0>]],\n",
       "      dtype=object)"
      ]
     },
     "execution_count": 21,
     "metadata": {},
     "output_type": "execute_result"
    },
    {
     "data": {
      "image/png": "[encoded data removed]",
      "text/plain": [
       "<Figure size 432x288 with 1 Axes>"
      ]
     },
     "metadata": {},
     "output_type": "display_data"
    }
   ],
   "source": [
    "limite_banco = np.max(banco_limites)\n",
    "limite_casa = np.max(casa_limites)\n",
    "print(limite_banco)\n",
    "print(limite_casa)\n",
    "y_prob.hist()"
   ]
  },
  {
   "cell_type": "code",
   "execution_count": 22,
   "metadata": {},
   "outputs": [],
   "source": [
    "final =pd.DataFrame(final)\n",
    "final['STATUS_BE'] = y\n",
    "y_prob = y_prob.reset_index(drop = True)\n",
    "final[['Prediction']] = y_prob"
   ]
  },
  {
   "cell_type": "code",
   "execution_count": 23,
   "metadata": {},
   "outputs": [
    {
     "name": "stderr",
     "output_type": "stream",
     "text": [
      "C:\\ProgramData\\Anaconda3\\lib\\site-packages\\ipykernel_launcher.py:3: SettingWithCopyWarning: \n",
      "A value is trying to be set on a copy of a slice from a DataFrame\n",
      "\n",
      "See the caveats in the documentation: http://pandas.pydata.org/pandas-docs/stable/indexing.html#indexing-view-versus-copy\n",
      "  This is separate from the ipykernel package so we can avoid doing imports until\n",
      "C:\\ProgramData\\Anaconda3\\lib\\site-packages\\ipykernel_launcher.py:5: SettingWithCopyWarning: \n",
      "A value is trying to be set on a copy of a slice from a DataFrame\n",
      "\n",
      "See the caveats in the documentation: http://pandas.pydata.org/pandas-docs/stable/indexing.html#indexing-view-versus-copy\n",
      "  \"\"\"\n"
     ]
    }
   ],
   "source": [
    "# CLASIFICACAMOS CON LOS LIMITES QUE CALCULAMOS\n",
    "mask = final['Prediction'][ index_banco ] > limite_banco\n",
    "final['Prediction'][ index_banco ] = np.where( mask == True, 1, 0 )\n",
    "mask = final['Prediction'][ index_casa_de_bolsa ] > limite_casa\n",
    "final['Prediction'][ index_casa_de_bolsa ] = np.where( mask == True, 1, 0 )\n"
   ]
  },
  {
   "cell_type": "code",
   "execution_count": 24,
   "metadata": {},
   "outputs": [
    {
     "data": {
      "text/plain": [
       "array([[2090,  222],\n",
       "       [   0,  941]], dtype=int64)"
      ]
     },
     "execution_count": 24,
     "metadata": {},
     "output_type": "execute_result"
    }
   ],
   "source": [
    "from sklearn.metrics import confusion_matrix\n",
    "confusion_matrix( y, final['Prediction'])"
   ]
  },
  {
   "cell_type": "code",
   "execution_count": 25,
   "metadata": {},
   "outputs": [],
   "source": [
    "final.to_csv('Final.csv')"
   ]
  },
  {
   "cell_type": "code",
   "execution_count": 26,
   "metadata": {},
   "outputs": [
    {
     "data": {
      "text/plain": [
       "0.09602076124567474"
      ]
     },
     "execution_count": 26,
     "metadata": {},
     "output_type": "execute_result"
    }
   ],
   "source": [
    "(222)/(2090+222)"
   ]
  },
  {
   "cell_type": "markdown",
   "metadata": {},
   "source": [
    "Así con el modelo (Random Forest) elegido y los limites de probabilidad para clasificar, calculados con base en la clasificación no supervisada de los estratos de ‘BANCO’ y ‘CASA DE BOLSA’ , podemos identificar a 222 usuarios más propensos a no requerir los servicios del call center. \n",
    "Esto representa cerca del 10% en disminución de la carga de trabajo y costos que conlleva operar el CC. \n",
    "\n",
    "Es de notar que el __modelo seleccionado no clasifica a ningún usuario que no usa el CC como posible usuario del mismo__.  "
   ]
  },
  {
   "cell_type": "code",
   "execution_count": null,
   "metadata": {},
   "outputs": [],
   "source": []
  }
 ],
 "metadata": {
  "kernelspec": {
   "display_name": "Python 3",
   "language": "python",
   "name": "python3"
  },
  "language_info": {
   "codemirror_mode": {
    "name": "ipython",
    "version": 3
   },
   "file_extension": ".py",
   "mimetype": "text/x-python",
   "name": "python",
   "nbconvert_exporter": "python",
   "pygments_lexer": "ipython3",
   "version": "3.6.5"
  }
 },
 "nbformat": 4,
 "nbformat_minor": 2
}
