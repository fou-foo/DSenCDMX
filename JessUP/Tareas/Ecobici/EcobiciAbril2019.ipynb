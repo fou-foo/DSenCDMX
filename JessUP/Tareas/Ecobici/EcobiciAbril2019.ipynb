{
 "cells": [
  {
   "cell_type": "code",
   "execution_count": 1,
   "metadata": {},
   "outputs": [
    {
     "name": "stdout",
     "output_type": "stream",
     "text": [
      "  Genero_Usuario  Edad_Usuario  Bici  Ciclo_Estacion_Retiro Fecha_Retiro  \\\n",
      "0              M            28  2388                    378   01/04/2019   \n",
      "1              M            27  8272                    309   01/04/2019   \n",
      "2              M            23  4058                    277   01/04/2019   \n",
      "\n",
      "  Hora_Retiro  Ciclo_Estacion_Arribo Fecha_Arribo Hora_Arribo  \n",
      "0    00:00:06                    323   01/04/2019    00:09:01  \n",
      "1    00:00:09                    288   01/04/2019    00:03:13  \n",
      "2    00:00:31                    321   01/04/2019    00:09:42  \n",
      "       Genero_Usuario  Edad_Usuario   Bici  Ciclo_Estacion_Retiro  \\\n",
      "690000              F            31   9417                    332   \n",
      "690001              M            34  12204                    329   \n",
      "690002              M            27  12043                     32   \n",
      "\n",
      "       Fecha_Retiro Hora_Retiro  Ciclo_Estacion_Arribo Fecha_Arribo  \\\n",
      "690000   29/04/2019    23:56:47                    384   30/04/2019   \n",
      "690001   29/04/2019    23:57:12                    151   30/04/2019   \n",
      "690002   29/04/2019    23:59:02                    465   30/04/2019   \n",
      "\n",
      "       Hora_Arribo  \n",
      "690000    00:03:36  \n",
      "690001    00:10:25  \n",
      "690002    00:17:47  \n"
     ]
    }
   ],
   "source": [
    "import pandas as pd\n",
    "viajes = pd.read_csv('2019-04.csv')\n",
    "print(viajes.head( 3))\n",
    "print(viajes.tail( 3)) # todos dentro de abril "
   ]
  },
  {
   "cell_type": "code",
   "execution_count": 2,
   "metadata": {},
   "outputs": [
    {
     "data": {
      "text/plain": [
       "Ciclo_Estacion_Arribo     int64\n",
       "Hora_Arribo              object\n",
       "dtype: object"
      ]
     },
     "execution_count": 2,
     "metadata": {},
     "output_type": "execute_result"
    }
   ],
   "source": [
    " # solo nos interesan las estaciones de arribo \n",
    "viajes  = viajes.drop(['Genero_Usuario', 'Edad_Usuario', 'Bici', 'Ciclo_Estacion_Retiro', 'Fecha_Retiro' , 'Hora_Retiro', 'Fecha_Arribo'],\n",
    "                       axis=1)\n",
    "viajes.dtypes"
   ]
  },
  {
   "cell_type": "code",
   "execution_count": 3,
   "metadata": {},
   "outputs": [],
   "source": [
    "viajes['Hora_Arribo'] =  pd.to_datetime(viajes['Hora_Arribo'], format='%H:%M:%S')"
   ]
  },
  {
   "cell_type": "code",
   "execution_count": 4,
   "metadata": {},
   "outputs": [
    {
     "data": {
      "text/plain": [
       "pandas._libs.tslibs.timestamps.Timestamp"
      ]
     },
     "execution_count": 4,
     "metadata": {},
     "output_type": "execute_result"
    }
   ],
   "source": [
    "type(viajes.Hora_Arribo[0]) # ya tenemos los tiempos "
   ]
  },
  {
   "cell_type": "code",
   "execution_count": 5,
   "metadata": {},
   "outputs": [],
   "source": [
    "# un bonito histograma \n",
    "viajes['Hora'] = viajes.Hora_Arribo.dt.hour\n",
    "viajes['Hora_Arribo'] = 1 # bandera"
   ]
  },
  {
   "cell_type": "code",
   "execution_count": 6,
   "metadata": {},
   "outputs": [
    {
     "data": {
      "text/html": [
       "<div>\n",
       "<style scoped>\n",
       "    .dataframe tbody tr th:only-of-type {\n",
       "        vertical-align: middle;\n",
       "    }\n",
       "\n",
       "    .dataframe tbody tr th {\n",
       "        vertical-align: top;\n",
       "    }\n",
       "\n",
       "    .dataframe thead th {\n",
       "        text-align: right;\n",
       "    }\n",
       "</style>\n",
       "<table border=\"1\" class=\"dataframe\">\n",
       "  <thead>\n",
       "    <tr style=\"text-align: right;\">\n",
       "      <th></th>\n",
       "      <th>Ciclo_Estacion_Arribo</th>\n",
       "      <th>Hora_Arribo</th>\n",
       "      <th>Hora</th>\n",
       "    </tr>\n",
       "  </thead>\n",
       "  <tbody>\n",
       "    <tr>\n",
       "      <th>0</th>\n",
       "      <td>113</td>\n",
       "      <td>1</td>\n",
       "      <td>13</td>\n",
       "    </tr>\n",
       "    <tr>\n",
       "      <th>1</th>\n",
       "      <td>468</td>\n",
       "      <td>1</td>\n",
       "      <td>12</td>\n",
       "    </tr>\n",
       "    <tr>\n",
       "      <th>2</th>\n",
       "      <td>142</td>\n",
       "      <td>1</td>\n",
       "      <td>13</td>\n",
       "    </tr>\n",
       "    <tr>\n",
       "      <th>3</th>\n",
       "      <td>52</td>\n",
       "      <td>1</td>\n",
       "      <td>12</td>\n",
       "    </tr>\n",
       "    <tr>\n",
       "      <th>4</th>\n",
       "      <td>142</td>\n",
       "      <td>1</td>\n",
       "      <td>13</td>\n",
       "    </tr>\n",
       "  </tbody>\n",
       "</table>\n",
       "</div>"
      ],
      "text/plain": [
       "   Ciclo_Estacion_Arribo  Hora_Arribo  Hora\n",
       "0                    113            1    13\n",
       "1                    468            1    12\n",
       "2                    142            1    13\n",
       "3                     52            1    12\n",
       "4                    142            1    13"
      ]
     },
     "execution_count": 6,
     "metadata": {},
     "output_type": "execute_result"
    }
   ],
   "source": [
    "# seleccion de quienes llegaron en [12,13] \n",
    "index = (viajes.Hora == 13) | (viajes.Hora == 12)\n",
    "viajes  = viajes.loc[ index, :]\n",
    "viajes = viajes.reset_index(drop=True)\n",
    "viajes.head()"
   ]
  },
  {
   "cell_type": "code",
   "execution_count": 7,
   "metadata": {},
   "outputs": [
    {
     "data": {
      "text/plain": [
       "array([[<matplotlib.axes._subplots.AxesSubplot object at 0x00000214EB949588>]],\n",
       "      dtype=object)"
      ]
     },
     "execution_count": 7,
     "metadata": {},
     "output_type": "execute_result"
    },
    {
     "data": {
      "image/png": "[encoded data removed]",
      "text/plain": [
       "<Figure size 432x288 with 1 Axes>"
      ]
     },
     "metadata": {},
     "output_type": "display_data"
    }
   ],
   "source": [
    "%matplotlib inline\n",
    "viajes[['Hora']].hist( color='purple')"
   ]
  },
  {
   "cell_type": "code",
   "execution_count": 8,
   "metadata": {},
   "outputs": [
    {
     "data": {
      "text/html": [
       "<div>\n",
       "<style scoped>\n",
       "    .dataframe tbody tr th:only-of-type {\n",
       "        vertical-align: middle;\n",
       "    }\n",
       "\n",
       "    .dataframe tbody tr th {\n",
       "        vertical-align: top;\n",
       "    }\n",
       "\n",
       "    .dataframe thead th {\n",
       "        text-align: right;\n",
       "    }\n",
       "</style>\n",
       "<table border=\"1\" class=\"dataframe\">\n",
       "  <thead>\n",
       "    <tr style=\"text-align: right;\">\n",
       "      <th></th>\n",
       "      <th>Ciclo_Estacion_Arribo</th>\n",
       "      <th>Hora</th>\n",
       "      <th>ViajesMesAbril12_13</th>\n",
       "    </tr>\n",
       "  </thead>\n",
       "  <tbody>\n",
       "    <tr>\n",
       "      <th>53</th>\n",
       "      <td>27</td>\n",
       "      <td>13</td>\n",
       "      <td>347</td>\n",
       "    </tr>\n",
       "    <tr>\n",
       "      <th>84</th>\n",
       "      <td>43</td>\n",
       "      <td>12</td>\n",
       "      <td>342</td>\n",
       "    </tr>\n",
       "    <tr>\n",
       "      <th>1</th>\n",
       "      <td>1</td>\n",
       "      <td>13</td>\n",
       "      <td>326</td>\n",
       "    </tr>\n",
       "    <tr>\n",
       "      <th>85</th>\n",
       "      <td>43</td>\n",
       "      <td>13</td>\n",
       "      <td>317</td>\n",
       "    </tr>\n",
       "    <tr>\n",
       "      <th>52</th>\n",
       "      <td>27</td>\n",
       "      <td>12</td>\n",
       "      <td>259</td>\n",
       "    </tr>\n",
       "  </tbody>\n",
       "</table>\n",
       "</div>"
      ],
      "text/plain": [
       "    Ciclo_Estacion_Arribo  Hora  ViajesMesAbril12_13\n",
       "53                     27    13                  347\n",
       "84                     43    12                  342\n",
       "1                       1    13                  326\n",
       "85                     43    13                  317\n",
       "52                     27    12                  259"
      ]
     },
     "execution_count": 8,
     "metadata": {},
     "output_type": "execute_result"
    }
   ],
   "source": [
    "mapa = viajes.groupby(['Ciclo_Estacion_Arribo', 'Hora']).count().reset_index().sort_values(['Hora_Arribo'],\n",
    "                                                                                           ascending=False).head(5)\n",
    "mapa = mapa.rename(columns={ 'Hora_Arribo': 'ViajesMesAbril12_13'})\n",
    "mapa"
   ]
  },
  {
   "cell_type": "code",
   "execution_count": 9,
   "metadata": {},
   "outputs": [
    {
     "data": {
      "text/html": [
       "<div>\n",
       "<style scoped>\n",
       "    .dataframe tbody tr th:only-of-type {\n",
       "        vertical-align: middle;\n",
       "    }\n",
       "\n",
       "    .dataframe tbody tr th {\n",
       "        vertical-align: top;\n",
       "    }\n",
       "\n",
       "    .dataframe thead th {\n",
       "        text-align: right;\n",
       "    }\n",
       "</style>\n",
       "<table border=\"1\" class=\"dataframe\">\n",
       "  <thead>\n",
       "    <tr style=\"text-align: right;\">\n",
       "      <th></th>\n",
       "      <th>id</th>\n",
       "      <th>name</th>\n",
       "      <th>lat</th>\n",
       "      <th>lon</th>\n",
       "    </tr>\n",
       "  </thead>\n",
       "  <tbody>\n",
       "    <tr>\n",
       "      <th>0</th>\n",
       "      <td>443</td>\n",
       "      <td>443 BRUNO TRAVEN-GOLONDRINAS</td>\n",
       "      <td>19.359655</td>\n",
       "      <td>-99.162025</td>\n",
       "    </tr>\n",
       "    <tr>\n",
       "      <th>1</th>\n",
       "      <td>416</td>\n",
       "      <td>416 RECREO-PARROQUÍA</td>\n",
       "      <td>19.371308</td>\n",
       "      <td>-99.177607</td>\n",
       "    </tr>\n",
       "    <tr>\n",
       "      <th>2</th>\n",
       "      <td>437</td>\n",
       "      <td>437 MORAS-COMUNAL</td>\n",
       "      <td>19.364808</td>\n",
       "      <td>-99.176022</td>\n",
       "    </tr>\n",
       "    <tr>\n",
       "      <th>3</th>\n",
       "      <td>438</td>\n",
       "      <td>438 ADOLFO PRIETO-JOSÉ MARÍA OLLOQUI</td>\n",
       "      <td>19.364797</td>\n",
       "      <td>-99.174583</td>\n",
       "    </tr>\n",
       "    <tr>\n",
       "      <th>4</th>\n",
       "      <td>440</td>\n",
       "      <td>440 REAL DE MAYORAZGO-PUENTE XOCO</td>\n",
       "      <td>19.360650</td>\n",
       "      <td>-99.168669</td>\n",
       "    </tr>\n",
       "  </tbody>\n",
       "</table>\n",
       "</div>"
      ],
      "text/plain": [
       "    id                                  name        lat        lon\n",
       "0  443          443 BRUNO TRAVEN-GOLONDRINAS  19.359655 -99.162025\n",
       "1  416                  416 RECREO-PARROQUÍA  19.371308 -99.177607\n",
       "2  437                     437 MORAS-COMUNAL  19.364808 -99.176022\n",
       "3  438  438 ADOLFO PRIETO-JOSÉ MARÍA OLLOQUI  19.364797 -99.174583\n",
       "4  440     440 REAL DE MAYORAZGO-PUENTE XOCO  19.360650 -99.168669"
      ]
     },
     "execution_count": 9,
     "metadata": {},
     "output_type": "execute_result"
    }
   ],
   "source": [
    "coordenadas = pd.read_csv('https://raw.githubusercontent.com/leonpalafox/dsclase_2019_1/master/ecobicis/data/estaciones.csv')\n",
    "coordenadas = coordenadas[['id', 'name', 'lat', 'lon']]\n",
    "coordenadas.head(5)"
   ]
  },
  {
   "cell_type": "code",
   "execution_count": 10,
   "metadata": {},
   "outputs": [
    {
     "data": {
      "text/html": [
       "<div>\n",
       "<style scoped>\n",
       "    .dataframe tbody tr th:only-of-type {\n",
       "        vertical-align: middle;\n",
       "    }\n",
       "\n",
       "    .dataframe tbody tr th {\n",
       "        vertical-align: top;\n",
       "    }\n",
       "\n",
       "    .dataframe thead th {\n",
       "        text-align: right;\n",
       "    }\n",
       "</style>\n",
       "<table border=\"1\" class=\"dataframe\">\n",
       "  <thead>\n",
       "    <tr style=\"text-align: right;\">\n",
       "      <th></th>\n",
       "      <th>Ciclo_Estacion_Arribo</th>\n",
       "      <th>Hora</th>\n",
       "      <th>ViajesMesAbril12_13</th>\n",
       "      <th>id</th>\n",
       "      <th>name</th>\n",
       "      <th>lat</th>\n",
       "      <th>lon</th>\n",
       "    </tr>\n",
       "  </thead>\n",
       "  <tbody>\n",
       "    <tr>\n",
       "      <th>0</th>\n",
       "      <td>27</td>\n",
       "      <td>13</td>\n",
       "      <td>347</td>\n",
       "      <td>27</td>\n",
       "      <td>27 REFORMA-HAVRE</td>\n",
       "      <td>19.429115</td>\n",
       "      <td>-99.162614</td>\n",
       "    </tr>\n",
       "    <tr>\n",
       "      <th>1</th>\n",
       "      <td>43</td>\n",
       "      <td>12</td>\n",
       "      <td>342</td>\n",
       "      <td>43</td>\n",
       "      <td>43 JUAREZ-REVILLAGIGEDO</td>\n",
       "      <td>19.435228</td>\n",
       "      <td>-99.146063</td>\n",
       "    </tr>\n",
       "    <tr>\n",
       "      <th>2</th>\n",
       "      <td>1</td>\n",
       "      <td>13</td>\n",
       "      <td>326</td>\n",
       "      <td>1</td>\n",
       "      <td>1 RIO BALSAS-RIO SENA</td>\n",
       "      <td>19.433296</td>\n",
       "      <td>-99.168051</td>\n",
       "    </tr>\n",
       "    <tr>\n",
       "      <th>3</th>\n",
       "      <td>43</td>\n",
       "      <td>13</td>\n",
       "      <td>317</td>\n",
       "      <td>43</td>\n",
       "      <td>43 JUAREZ-REVILLAGIGEDO</td>\n",
       "      <td>19.435228</td>\n",
       "      <td>-99.146063</td>\n",
       "    </tr>\n",
       "    <tr>\n",
       "      <th>4</th>\n",
       "      <td>27</td>\n",
       "      <td>12</td>\n",
       "      <td>259</td>\n",
       "      <td>27</td>\n",
       "      <td>27 REFORMA-HAVRE</td>\n",
       "      <td>19.429115</td>\n",
       "      <td>-99.162614</td>\n",
       "    </tr>\n",
       "  </tbody>\n",
       "</table>\n",
       "</div>"
      ],
      "text/plain": [
       "   Ciclo_Estacion_Arribo  Hora  ViajesMesAbril12_13  id  \\\n",
       "0                     27    13                  347  27   \n",
       "1                     43    12                  342  43   \n",
       "2                      1    13                  326   1   \n",
       "3                     43    13                  317  43   \n",
       "4                     27    12                  259  27   \n",
       "\n",
       "                      name        lat        lon  \n",
       "0         27 REFORMA-HAVRE  19.429115 -99.162614  \n",
       "1  43 JUAREZ-REVILLAGIGEDO  19.435228 -99.146063  \n",
       "2    1 RIO BALSAS-RIO SENA  19.433296 -99.168051  \n",
       "3  43 JUAREZ-REVILLAGIGEDO  19.435228 -99.146063  \n",
       "4         27 REFORMA-HAVRE  19.429115 -99.162614  "
      ]
     },
     "execution_count": 10,
     "metadata": {},
     "output_type": "execute_result"
    }
   ],
   "source": [
    "mapa_top5 = mapa.merge( coordenadas, how='left', left_on='Ciclo_Estacion_Arribo', right_on='id')\n",
    "mapa_top5"
   ]
  },
  {
   "cell_type": "code",
   "execution_count": 11,
   "metadata": {},
   "outputs": [
    {
     "data": {
      "text/html": [
       "<div style=\"width:100%;\"><div style=\"position:relative;width:100%;height:0;padding-bottom:60%;\"><iframe src=\"about:blank\" style=\"position:absolute;width:100%;height:100%;left:0;top:0;border:none !important;\" data-html=PCFET0NUWVBFIGh0bWw+CjxoZWFkPiAgICAKICAgIDxtZXRhIGh0dHAtZXF1aXY9ImNvbnRlbnQtdHlwZSIgY29udGVudD0idGV4dC9odG1sOyBjaGFyc2V0PVVURi04IiAvPgogICAgCiAgICAgICAgPHNjcmlwdD4KICAgICAgICAgICAgTF9OT19UT1VDSCA9IGZhbHNlOwogICAgICAgICAgICBMX0RJU0FCTEVfM0QgPSBmYWxzZTsKICAgICAgICA8L3NjcmlwdD4KICAgIAogICAgPHNjcmlwdCBzcmM9Imh0dHBzOi8vY2RuLmpzZGVsaXZyLm5ldC9ucG0vbGVhZmxldEAxLjUuMS9kaXN0L2xlYWZsZXQuanMiPjwvc2NyaXB0PgogICAgPHNjcmlwdCBzcmM9Imh0dHBzOi8vY29kZS5qcXVlcnkuY29tL2pxdWVyeS0xLjEyLjQubWluLmpzIj48L3NjcmlwdD4KICAgIDxzY3JpcHQgc3JjPSJodHRwczovL21heGNkbi5ib290c3RyYXBjZG4uY29tL2Jvb3RzdHJhcC8zLjIuMC9qcy9ib290c3RyYXAubWluLmpzIj48L3NjcmlwdD4KICAgIDxzY3JpcHQgc3JjPSJodHRwczovL2NkbmpzLmNsb3VkZmxhcmUuY29tL2FqYXgvbGlicy9MZWFmbGV0LmF3ZXNvbWUtbWFya2Vycy8yLjAuMi9sZWFmbGV0LmF3ZXNvbWUtbWFya2Vycy5qcyI+PC9zY3JpcHQ+CiAgICA8bGluayByZWw9InN0eWxlc2hlZXQiIGhyZWY9Imh0dHBzOi8vY2RuLmpzZGVsaXZyLm5ldC9ucG0vbGVhZmxldEAxLjUuMS9kaXN0L2xlYWZsZXQuY3NzIi8+CiAgICA8bGluayByZWw9InN0eWxlc2hlZXQiIGhyZWY9Imh0dHBzOi8vbWF4Y2RuLmJvb3RzdHJhcGNkbi5jb20vYm9vdHN0cmFwLzMuMi4wL2Nzcy9ib290c3RyYXAubWluLmNzcyIvPgogICAgPGxpbmsgcmVsPSJzdHlsZXNoZWV0IiBocmVmPSJodHRwczovL21heGNkbi5ib290c3RyYXBjZG4uY29tL2Jvb3RzdHJhcC8zLjIuMC9jc3MvYm9vdHN0cmFwLXRoZW1lLm1pbi5jc3MiLz4KICAgIDxsaW5rIHJlbD0ic3R5bGVzaGVldCIgaHJlZj0iaHR0cHM6Ly9tYXhjZG4uYm9vdHN0cmFwY2RuLmNvbS9mb250LWF3ZXNvbWUvNC42LjMvY3NzL2ZvbnQtYXdlc29tZS5taW4uY3NzIi8+CiAgICA8bGluayByZWw9InN0eWxlc2hlZXQiIGhyZWY9Imh0dHBzOi8vY2RuanMuY2xvdWRmbGFyZS5jb20vYWpheC9saWJzL0xlYWZsZXQuYXdlc29tZS1tYXJrZXJzLzIuMC4yL2xlYWZsZXQuYXdlc29tZS1tYXJrZXJzLmNzcyIvPgogICAgPGxpbmsgcmVsPSJzdHlsZXNoZWV0IiBocmVmPSJodHRwczovL3Jhd2Nkbi5naXRoYWNrLmNvbS9weXRob24tdmlzdWFsaXphdGlvbi9mb2xpdW0vbWFzdGVyL2ZvbGl1bS90ZW1wbGF0ZXMvbGVhZmxldC5hd2Vzb21lLnJvdGF0ZS5jc3MiLz4KICAgIDxzdHlsZT5odG1sLCBib2R5IHt3aWR0aDogMTAwJTtoZWlnaHQ6IDEwMCU7bWFyZ2luOiAwO3BhZGRpbmc6IDA7fTwvc3R5bGU+CiAgICA8c3R5bGU+I21hcCB7cG9zaXRpb246YWJzb2x1dGU7dG9wOjA7Ym90dG9tOjA7cmlnaHQ6MDtsZWZ0OjA7fTwvc3R5bGU+CiAgICAKICAgICAgICAgICAgPG1ldGEgbmFtZT0idmlld3BvcnQiIGNvbnRlbnQ9IndpZHRoPWRldmljZS13aWR0aCwKICAgICAgICAgICAgICAgIGluaXRpYWwtc2NhbGU9MS4wLCBtYXhpbXVtLXNjYWxlPTEuMCwgdXNlci1zY2FsYWJsZT1ubyIgLz4KICAgICAgICAgICAgPHN0eWxlPgogICAgICAgICAgICAgICAgI21hcF80YzI0N2Y1NmY1YjU0ZmM5YjlkMzBhMTljMjdhYTNkOCB7CiAgICAgICAgICAgICAgICAgICAgcG9zaXRpb246IHJlbGF0aXZlOwogICAgICAgICAgICAgICAgICAgIHdpZHRoOiAxMDAuMCU7CiAgICAgICAgICAgICAgICAgICAgaGVpZ2h0OiAxMDAuMCU7CiAgICAgICAgICAgICAgICAgICAgbGVmdDogMC4wJTsKICAgICAgICAgICAgICAgICAgICB0b3A6IDAuMCU7CiAgICAgICAgICAgICAgICB9CiAgICAgICAgICAgIDwvc3R5bGU+CiAgICAgICAgCiAgICA8c2NyaXB0IHNyYz0iaHR0cHM6Ly9jZG5qcy5jbG91ZGZsYXJlLmNvbS9hamF4L2xpYnMvbGVhZmxldC5tYXJrZXJjbHVzdGVyLzEuMS4wL2xlYWZsZXQubWFya2VyY2x1c3Rlci5qcyI+PC9zY3JpcHQ+CiAgICA8bGluayByZWw9InN0eWxlc2hlZXQiIGhyZWY9Imh0dHBzOi8vY2RuanMuY2xvdWRmbGFyZS5jb20vYWpheC9saWJzL2xlYWZsZXQubWFya2VyY2x1c3Rlci8xLjEuMC9NYXJrZXJDbHVzdGVyLmNzcyIvPgogICAgPGxpbmsgcmVsPSJzdHlsZXNoZWV0IiBocmVmPSJodHRwczovL2NkbmpzLmNsb3VkZmxhcmUuY29tL2FqYXgvbGlicy9sZWFmbGV0Lm1hcmtlcmNsdXN0ZXIvMS4xLjAvTWFya2VyQ2x1c3Rlci5EZWZhdWx0LmNzcyIvPgo8L2hlYWQ+Cjxib2R5PiAgICAKICAgIAogICAgICAgICAgICA8ZGl2IGNsYXNzPSJmb2xpdW0tbWFwIiBpZD0ibWFwXzRjMjQ3ZjU2ZjViNTRmYzliOWQzMGExOWMyN2FhM2Q4IiA+PC9kaXY+CiAgICAgICAgCjwvYm9keT4KPHNjcmlwdD4gICAgCiAgICAKICAgICAgICAgICAgdmFyIG1hcF80YzI0N2Y1NmY1YjU0ZmM5YjlkMzBhMTljMjdhYTNkOCA9IEwubWFwKAogICAgICAgICAgICAgICAgIm1hcF80YzI0N2Y1NmY1YjU0ZmM5YjlkMzBhMTljMjdhYTNkOCIsCiAgICAgICAgICAgICAgICB7CiAgICAgICAgICAgICAgICAgICAgY2VudGVyOiBbMTkuNDI3NzQyOCwgLTk5LjE3NTY3MjFdLAogICAgICAgICAgICAgICAgICAgIGNyczogTC5DUlMuRVBTRzM4NTcsCiAgICAgICAgICAgICAgICAgICAgem9vbTogMTQsCiAgICAgICAgICAgICAgICAgICAgem9vbUNvbnRyb2w6IHRydWUsCiAgICAgICAgICAgICAgICAgICAgcHJlZmVyQ2FudmFzOiBmYWxzZSwKICAgICAgICAgICAgICAgIH0KICAgICAgICAgICAgKTsKCiAgICAgICAgICAgIAoKICAgICAgICAKICAgIAogICAgICAgICAgICB2YXIgdGlsZV9sYXllcl83MGVlM2NjNzAzMTQ0MTRmYWJiOTVkOWFiZWJiYzA1MiA9IEwudGlsZUxheWVyKAogICAgICAgICAgICAgICAgImh0dHBzOi8ve3N9LnRpbGUub3BlbnN0cmVldG1hcC5vcmcve3p9L3t4fS97eX0ucG5nIiwKICAgICAgICAgICAgICAgIHsiYXR0cmlidXRpb24iOiAiRGF0YSBieSBcdTAwMjZjb3B5OyBcdTAwM2NhIGhyZWY9XCJodHRwOi8vb3BlbnN0cmVldG1hcC5vcmdcIlx1MDAzZU9wZW5TdHJlZXRNYXBcdTAwM2MvYVx1MDAzZSwgdW5kZXIgXHUwMDNjYSBocmVmPVwiaHR0cDovL3d3dy5vcGVuc3RyZWV0bWFwLm9yZy9jb3B5cmlnaHRcIlx1MDAzZU9EYkxcdTAwM2MvYVx1MDAzZS4iLCAiZGV0ZWN0UmV0aW5hIjogZmFsc2UsICJtYXhOYXRpdmVab29tIjogMTgsICJtYXhab29tIjogMTgsICJtaW5ab29tIjogMCwgIm5vV3JhcCI6IGZhbHNlLCAib3BhY2l0eSI6IDEsICJzdWJkb21haW5zIjogImFiYyIsICJ0bXMiOiBmYWxzZX0KICAgICAgICAgICAgKS5hZGRUbyhtYXBfNGMyNDdmNTZmNWI1NGZjOWI5ZDMwYTE5YzI3YWEzZDgpOwogICAgICAgIAogICAgCiAgICAgICAgICAgIHZhciBtYXJrZXJfY2x1c3Rlcl81ZTBjYmJkMTNiNDU0NjIxYmMzZjA2YjNjZTc0YmEyMSA9IEwubWFya2VyQ2x1c3Rlckdyb3VwKAogICAgICAgICAgICAgICAge30KICAgICAgICAgICAgKTsKICAgICAgICAgICAgbWFwXzRjMjQ3ZjU2ZjViNTRmYzliOWQzMGExOWMyN2FhM2Q4LmFkZExheWVyKG1hcmtlcl9jbHVzdGVyXzVlMGNiYmQxM2I0NTQ2MjFiYzNmMDZiM2NlNzRiYTIxKTsKICAgICAgICAKICAgIAogICAgICAgICAgICB2YXIgbWFya2VyX2M1NWUxMWU3Yjc1NzRkNmI4ZmMwMTQ0NjJjMzJjN2Y5ID0gTC5tYXJrZXIoCiAgICAgICAgICAgICAgICBbMTkuNDI5MTE1LCAtOTkuMTYyNjE0XSwKICAgICAgICAgICAgICAgIHt9CiAgICAgICAgICAgICkuYWRkVG8obWFya2VyX2NsdXN0ZXJfNWUwY2JiZDEzYjQ1NDYyMWJjM2YwNmIzY2U3NGJhMjEpOwogICAgICAgIAogICAgCiAgICAgICAgICAgIHZhciBpY29uXzA2ZmRlMDA1YjZhYTQwNDBiOGJjMzhhYTcyOTI1MjFlID0gTC5Bd2Vzb21lTWFya2Vycy5pY29uKAogICAgICAgICAgICAgICAgeyJleHRyYUNsYXNzZXMiOiAiZmEtcm90YXRlLTAiLCAiaWNvbiI6ICJpbmZvLXNpZ24iLCAiaWNvbkNvbG9yIjogIndoaXRlIiwgIm1hcmtlckNvbG9yIjogImxpZ2h0Z3JlZW4iLCAicHJlZml4IjogImdseXBoaWNvbiJ9CiAgICAgICAgICAgICk7CiAgICAgICAgICAgIG1hcmtlcl9jNTVlMTFlN2I3NTc0ZDZiOGZjMDE0NDYyYzMyYzdmOS5zZXRJY29uKGljb25fMDZmZGUwMDViNmFhNDA0MGI4YmMzOGFhNzI5MjUyMWUpOwogICAgICAgIAogICAgCiAgICAgICAgdmFyIHBvcHVwXzc2ZGNlMjlmOWQ3ZjQxY2I4NGNhZTM1YWQyYzQ4OTliID0gTC5wb3B1cCh7Im1heFdpZHRoIjogIjEwMCUifSk7CgogICAgICAgIAogICAgICAgICAgICB2YXIgaHRtbF85NWFlOWYxODUxZDM0MjdiOGY5MDk2MGRmOGUyM2IzMSA9ICQoYDxkaXYgaWQ9Imh0bWxfOTVhZTlmMTg1MWQzNDI3YjhmOTA5NjBkZjhlMjNiMzEiIHN0eWxlPSJ3aWR0aDogMTAwLjAlOyBoZWlnaHQ6IDEwMC4wJTsiPjI3IFJFRk9STUEtSEFWUkU6IFZpZWplcyBlbiBhYnJpbCAyNzwvZGl2PmApWzBdOwogICAgICAgICAgICBwb3B1cF83NmRjZTI5ZjlkN2Y0MWNiODRjYWUzNWFkMmM0ODk5Yi5zZXRDb250ZW50KGh0bWxfOTVhZTlmMTg1MWQzNDI3YjhmOTA5NjBkZjhlMjNiMzEpOwogICAgICAgIAoKICAgICAgICBtYXJrZXJfYzU1ZTExZTdiNzU3NGQ2YjhmYzAxNDQ2MmMzMmM3ZjkuYmluZFBvcHVwKHBvcHVwXzc2ZGNlMjlmOWQ3ZjQxY2I4NGNhZTM1YWQyYzQ4OTliKQogICAgICAgIDsKCiAgICAgICAgCiAgICAKICAgIAogICAgICAgICAgICB2YXIgbWFya2VyXzc1NDA4OGU4MTc5MjQzMDhiMWNjMDNmOTA1OGZlYzU1ID0gTC5tYXJrZXIoCiAgICAgICAgICAgICAgICBbMTkuNDM1MjI4LCAtOTkuMTQ2MDYzXSwKICAgICAgICAgICAgICAgIHt9CiAgICAgICAgICAgICkuYWRkVG8obWFya2VyX2NsdXN0ZXJfNWUwY2JiZDEzYjQ1NDYyMWJjM2YwNmIzY2U3NGJhMjEpOwogICAgICAgIAogICAgCiAgICAgICAgICAgIHZhciBpY29uXzQwMzU2Y2YzNDM5OTRmOTJhNTNmMTU0ZmFjZTgyYTZjID0gTC5Bd2Vzb21lTWFya2Vycy5pY29uKAogICAgICAgICAgICAgICAgeyJleHRyYUNsYXNzZXMiOiAiZmEtcm90YXRlLTAiLCAiaWNvbiI6ICJpbmZvLXNpZ24iLCAiaWNvbkNvbG9yIjogIndoaXRlIiwgIm1hcmtlckNvbG9yIjogImxpZ2h0Z3JlZW4iLCAicHJlZml4IjogImdseXBoaWNvbiJ9CiAgICAgICAgICAgICk7CiAgICAgICAgICAgIG1hcmtlcl83NTQwODhlODE3OTI0MzA4YjFjYzAzZjkwNThmZWM1NS5zZXRJY29uKGljb25fNDAzNTZjZjM0Mzk5NGY5MmE1M2YxNTRmYWNlODJhNmMpOwogICAgICAgIAogICAgCiAgICAgICAgdmFyIHBvcHVwX2NmZjFkNjlkZmM2ODQ4OTBhZTlhNmM0Y2U0MGVkNzU1ID0gTC5wb3B1cCh7Im1heFdpZHRoIjogIjEwMCUifSk7CgogICAgICAgIAogICAgICAgICAgICB2YXIgaHRtbF8zODJlN2I0MWY5MjM0YmIwYTBhMDQ4NjYzY2ZkYWNiNiA9ICQoYDxkaXYgaWQ9Imh0bWxfMzgyZTdiNDFmOTIzNGJiMGEwYTA0ODY2M2NmZGFjYjYiIHN0eWxlPSJ3aWR0aDogMTAwLjAlOyBoZWlnaHQ6IDEwMC4wJTsiPjQzIEpVQVJFWi1SRVZJTExBR0lHRURPOiBWaWVqZXMgZW4gYWJyaWwgNDM8L2Rpdj5gKVswXTsKICAgICAgICAgICAgcG9wdXBfY2ZmMWQ2OWRmYzY4NDg5MGFlOWE2YzRjZTQwZWQ3NTUuc2V0Q29udGVudChodG1sXzM4MmU3YjQxZjkyMzRiYjBhMGEwNDg2NjNjZmRhY2I2KTsKICAgICAgICAKCiAgICAgICAgbWFya2VyXzc1NDA4OGU4MTc5MjQzMDhiMWNjMDNmOTA1OGZlYzU1LmJpbmRQb3B1cChwb3B1cF9jZmYxZDY5ZGZjNjg0ODkwYWU5YTZjNGNlNDBlZDc1NSkKICAgICAgICA7CgogICAgICAgIAogICAgCiAgICAKICAgICAgICAgICAgdmFyIG1hcmtlcl8zOTlkMDc4ZWNjYmQ0M2E0ODM2NTUyNDVkMTYyNzc0MCA9IEwubWFya2VyKAogICAgICAgICAgICAgICAgWzE5LjQzMzI5NiwgLTk5LjE2ODA1MV0sCiAgICAgICAgICAgICAgICB7fQogICAgICAgICAgICApLmFkZFRvKG1hcmtlcl9jbHVzdGVyXzVlMGNiYmQxM2I0NTQ2MjFiYzNmMDZiM2NlNzRiYTIxKTsKICAgICAgICAKICAgIAogICAgICAgICAgICB2YXIgaWNvbl84ZTllZmFmNGU2OWI0ZDQyODI2ZDVhYzA2NmVmZDQxNiA9IEwuQXdlc29tZU1hcmtlcnMuaWNvbigKICAgICAgICAgICAgICAgIHsiZXh0cmFDbGFzc2VzIjogImZhLXJvdGF0ZS0wIiwgImljb24iOiAiaW5mby1zaWduIiwgImljb25Db2xvciI6ICJ3aGl0ZSIsICJtYXJrZXJDb2xvciI6ICJsaWdodGdyZWVuIiwgInByZWZpeCI6ICJnbHlwaGljb24ifQogICAgICAgICAgICApOwogICAgICAgICAgICBtYXJrZXJfMzk5ZDA3OGVjY2JkNDNhNDgzNjU1MjQ1ZDE2Mjc3NDAuc2V0SWNvbihpY29uXzhlOWVmYWY0ZTY5YjRkNDI4MjZkNWFjMDY2ZWZkNDE2KTsKICAgICAgICAKICAgIAogICAgICAgIHZhciBwb3B1cF8xNDFiMzdjZTQ3OWU0YTkwODI0MmY5MTViMjMzMzZjMyA9IEwucG9wdXAoeyJtYXhXaWR0aCI6ICIxMDAlIn0pOwoKICAgICAgICAKICAgICAgICAgICAgdmFyIGh0bWxfZDk3ODJiN2NkNjZmNDVkOGI4NTViZWJiMmExMzk0M2QgPSAkKGA8ZGl2IGlkPSJodG1sX2Q5NzgyYjdjZDY2ZjQ1ZDhiODU1YmViYjJhMTM5NDNkIiBzdHlsZT0id2lkdGg6IDEwMC4wJTsgaGVpZ2h0OiAxMDAuMCU7Ij4xIFJJTyBCQUxTQVMtUklPIFNFTkE6IFZpZWplcyBlbiBhYnJpbCAxPC9kaXY+YClbMF07CiAgICAgICAgICAgIHBvcHVwXzE0MWIzN2NlNDc5ZTRhOTA4MjQyZjkxNWIyMzMzNmMzLnNldENvbnRlbnQoaHRtbF9kOTc4MmI3Y2Q2NmY0NWQ4Yjg1NWJlYmIyYTEzOTQzZCk7CiAgICAgICAgCgogICAgICAgIG1hcmtlcl8zOTlkMDc4ZWNjYmQ0M2E0ODM2NTUyNDVkMTYyNzc0MC5iaW5kUG9wdXAocG9wdXBfMTQxYjM3Y2U0NzllNGE5MDgyNDJmOTE1YjIzMzM2YzMpCiAgICAgICAgOwoKICAgICAgICAKICAgIAogICAgCiAgICAgICAgICAgIHZhciBtYXJrZXJfN2Q3NTUzMWZmZThlNGQ3MjljNDZiOGJjM2MzMGU3YTAgPSBMLm1hcmtlcigKICAgICAgICAgICAgICAgIFsxOS40MzUyMjgsIC05OS4xNDYwNjNdLAogICAgICAgICAgICAgICAge30KICAgICAgICAgICAgKS5hZGRUbyhtYXJrZXJfY2x1c3Rlcl81ZTBjYmJkMTNiNDU0NjIxYmMzZjA2YjNjZTc0YmEyMSk7CiAgICAgICAgCiAgICAKICAgICAgICAgICAgdmFyIGljb25fOGI3NTk1OTIxYjcwNDM5MDliMzI1YjI1NTM0MDE0YWQgPSBMLkF3ZXNvbWVNYXJrZXJzLmljb24oCiAgICAgICAgICAgICAgICB7ImV4dHJhQ2xhc3NlcyI6ICJmYS1yb3RhdGUtMCIsICJpY29uIjogImluZm8tc2lnbiIsICJpY29uQ29sb3IiOiAid2hpdGUiLCAibWFya2VyQ29sb3IiOiAibGlnaHRncmVlbiIsICJwcmVmaXgiOiAiZ2x5cGhpY29uIn0KICAgICAgICAgICAgKTsKICAgICAgICAgICAgbWFya2VyXzdkNzU1MzFmZmU4ZTRkNzI5YzQ2YjhiYzNjMzBlN2EwLnNldEljb24oaWNvbl84Yjc1OTU5MjFiNzA0MzkwOWIzMjViMjU1MzQwMTRhZCk7CiAgICAgICAgCiAgICAKICAgICAgICB2YXIgcG9wdXBfNDk4NDQzY2E1MTRiNDczM2I2NTU5YjJlZmMyZjFlOGEgPSBMLnBvcHVwKHsibWF4V2lkdGgiOiAiMTAwJSJ9KTsKCiAgICAgICAgCiAgICAgICAgICAgIHZhciBodG1sX2ViZTZjMTMzMzI3ZTRmOTA5NGJhNDE0OTM1ZmY2YTRjID0gJChgPGRpdiBpZD0iaHRtbF9lYmU2YzEzMzMyN2U0ZjkwOTRiYTQxNDkzNWZmNmE0YyIgc3R5bGU9IndpZHRoOiAxMDAuMCU7IGhlaWdodDogMTAwLjAlOyI+NDMgSlVBUkVaLVJFVklMTEFHSUdFRE86IFZpZWplcyBlbiBhYnJpbCA0MzwvZGl2PmApWzBdOwogICAgICAgICAgICBwb3B1cF80OTg0NDNjYTUxNGI0NzMzYjY1NTliMmVmYzJmMWU4YS5zZXRDb250ZW50KGh0bWxfZWJlNmMxMzMzMjdlNGY5MDk0YmE0MTQ5MzVmZjZhNGMpOwogICAgICAgIAoKICAgICAgICBtYXJrZXJfN2Q3NTUzMWZmZThlNGQ3MjljNDZiOGJjM2MzMGU3YTAuYmluZFBvcHVwKHBvcHVwXzQ5ODQ0M2NhNTE0YjQ3MzNiNjU1OWIyZWZjMmYxZThhKQogICAgICAgIDsKCiAgICAgICAgCiAgICAKICAgIAogICAgICAgICAgICB2YXIgbWFya2VyX2M5MTAzN2MxMDQ1OTRmMWI5NzE2YTYzYzdiOTRmOGM5ID0gTC5tYXJrZXIoCiAgICAgICAgICAgICAgICBbMTkuNDI5MTE1LCAtOTkuMTYyNjE0XSwKICAgICAgICAgICAgICAgIHt9CiAgICAgICAgICAgICkuYWRkVG8obWFya2VyX2NsdXN0ZXJfNWUwY2JiZDEzYjQ1NDYyMWJjM2YwNmIzY2U3NGJhMjEpOwogICAgICAgIAogICAgCiAgICAgICAgICAgIHZhciBpY29uX2FhNTNkNTg1YjhjMjRhMGRiNGUzZjliMTkwMTU0ZDU5ID0gTC5Bd2Vzb21lTWFya2Vycy5pY29uKAogICAgICAgICAgICAgICAgeyJleHRyYUNsYXNzZXMiOiAiZmEtcm90YXRlLTAiLCAiaWNvbiI6ICJpbmZvLXNpZ24iLCAiaWNvbkNvbG9yIjogIndoaXRlIiwgIm1hcmtlckNvbG9yIjogImxpZ2h0Z3JlZW4iLCAicHJlZml4IjogImdseXBoaWNvbiJ9CiAgICAgICAgICAgICk7CiAgICAgICAgICAgIG1hcmtlcl9jOTEwMzdjMTA0NTk0ZjFiOTcxNmE2M2M3Yjk0ZjhjOS5zZXRJY29uKGljb25fYWE1M2Q1ODViOGMyNGEwZGI0ZTNmOWIxOTAxNTRkNTkpOwogICAgICAgIAogICAgCiAgICAgICAgdmFyIHBvcHVwXzA2YWVjNmNmY2FkMTQ1NTZiNTUxNGEwZGMwOWQwMWZkID0gTC5wb3B1cCh7Im1heFdpZHRoIjogIjEwMCUifSk7CgogICAgICAgIAogICAgICAgICAgICB2YXIgaHRtbF83ZmZlYmI1MDhmZmI0MzYzOTY3Y2NjM2JiMTllYzQwNiA9ICQoYDxkaXYgaWQ9Imh0bWxfN2ZmZWJiNTA4ZmZiNDM2Mzk2N2NjYzNiYjE5ZWM0MDYiIHN0eWxlPSJ3aWR0aDogMTAwLjAlOyBoZWlnaHQ6IDEwMC4wJTsiPjI3IFJFRk9STUEtSEFWUkU6IFZpZWplcyBlbiBhYnJpbCAyNzwvZGl2PmApWzBdOwogICAgICAgICAgICBwb3B1cF8wNmFlYzZjZmNhZDE0NTU2YjU1MTRhMGRjMDlkMDFmZC5zZXRDb250ZW50KGh0bWxfN2ZmZWJiNTA4ZmZiNDM2Mzk2N2NjYzNiYjE5ZWM0MDYpOwogICAgICAgIAoKICAgICAgICBtYXJrZXJfYzkxMDM3YzEwNDU5NGYxYjk3MTZhNjNjN2I5NGY4YzkuYmluZFBvcHVwKHBvcHVwXzA2YWVjNmNmY2FkMTQ1NTZiNTUxNGEwZGMwOWQwMWZkKQogICAgICAgIDsKCiAgICAgICAgCiAgICAKPC9zY3JpcHQ+ onload=\"this.contentDocument.open();this.contentDocument.write(atob(this.getAttribute('data-html')));this.contentDocument.close();\" allowfullscreen webkitallowfullscreen mozallowfullscreen></iframe></div></div>"
      ],
      "text/plain": [
       "<folium.folium.Map at 0x214ec29b1d0>"
      ]
     },
     "execution_count": 11,
     "metadata": {},
     "output_type": "execute_result"
    }
   ],
   "source": [
    "import folium\n",
    "from folium import plugins\n",
    "import numpy as np\n",
    "m = folium.Map(location = [19.4277428,-99.1756721], zoom_start=14)\n",
    "marker_cluster_ = folium.plugins.MarkerCluster()\n",
    "for idx in range(0,len(mapa_top5) ):\n",
    "    marker_ = folium.Marker( location = mapa_top5[  ['lat', 'lon'] ].iloc[idx], \n",
    "                            popup = str(mapa_top5['name'][ idx ]) + ': Viejes en abril ' + \n",
    "                            str( mapa_top5.Ciclo_Estacion_Arribo[idx])  ,  \n",
    "                           icon = folium.Icon(color='lightgreen') )\n",
    "    marker_cluster_.add_child(marker_)\n",
    "m.add_child(marker_cluster_)"
   ]
  },
  {
   "cell_type": "code",
   "execution_count": null,
   "metadata": {},
   "outputs": [],
   "source": []
  }
 ],
 "metadata": {
  "kernelspec": {
   "display_name": "Python 3",
   "language": "python",
   "name": "python3"
  },
  "language_info": {
   "codemirror_mode": {
    "name": "ipython",
    "version": 3
   },
   "file_extension": ".py",
   "mimetype": "text/x-python",
   "name": "python",
   "nbconvert_exporter": "python",
   "pygments_lexer": "ipython3",
   "version": "3.6.5"
  }
 },
 "nbformat": 4,
 "nbformat_minor": 2
}
