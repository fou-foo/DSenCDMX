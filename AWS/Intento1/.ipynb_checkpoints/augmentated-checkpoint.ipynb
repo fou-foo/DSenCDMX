{
 "cells": [
  {
   "cell_type": "code",
   "execution_count": null,
   "metadata": {},
   "outputs": [],
   "source": [
    "#install.packages('doParallel')\n",
    "#install.packages('LiblineaR')\n",
    "#install.packages('gbm')\n",
    "#install.packages('e1071')\n",
    "#install.packages('kernlab')\n",
    "#install.packages('MLmetrics')\n",
    "#install.packages('xgboost')"
   ]
  },
  {
   "cell_type": "code",
   "execution_count": null,
   "metadata": {},
   "outputs": [],
   "source": [
    "rm(list=ls())\n",
    "########## Aux functions \n",
    "createPartition <- function(data_, p=0.7){\n",
    "t <- unique(data_$device)\n",
    "n <- length(t)\n",
    "n.p <- round(n*p, 0)\n",
    "t.sample <- sample(t, n.p)\n",
    "train.index <- which( data_$device %in% t.sample)\n",
    "return(train.index)\n",
    "}\n",
    "require(doParallel) #ugly parallel in R but useful  \n",
    "cl <- makePSOCKcluster(10)\n",
    "registerDoParallel(cl)"
   ]
  },
  {
   "cell_type": "code",
   "execution_count": null,
   "metadata": {},
   "outputs": [],
   "source": [
    "data.raw <- read.csv(file='device_failure.csv') # few records kernels function works fine \n",
    "sum(is.na(data.raw)) # not nulls thank you :D\n",
    "sapply(data.raw, class)\n",
    "require(lubridate) # easy handle datetimes\n",
    "require(dplyr) # like SQL in R, and also load pipe operator \n",
    "require(ggplot2) # easy, fast  adn nice plots \n",
    "data.raw %>% arrange(device, date) %>% mutate(date = ymd(date) ) -> data.raw\n",
    "names(data.raw)\n",
    "data.raw %>% group_by(device) %>% arrange(device, date) %>%\n",
    "  mutate( l.attribute1 = lag(attribute1), \n",
    "          l.attribute2 = lag(attribute2), \n",
    "          l.attribute3 = lag(attribute3), \n",
    "          l.attribute4 = lag(attribute4), \n",
    "          l.attribute5 = lag(attribute5), \n",
    "          l.attribute6 = lag(attribute6), \n",
    "          l.attribute7 = lag(attribute7), \n",
    "          l.attribute8 = lag(attribute8), \n",
    "          l.attribute9 = lag(attribute9)) -> data.raw \n",
    "sum(data.raw$failure)\n",
    "data.raw <- na.omit(data.raw)\n",
    "# only each device has 0 or 1 failure, and if has a failure it's the last row\n",
    "n.fails.index <- which(data.raw$failure==1) #only 106 failures \n",
    "nn.fails <- data.raw[ rep(n.fails.index, each=9) + -4:4, ]"
   ]
  },
  {
   "cell_type": "code",
   "execution_count": null,
   "metadata": {},
   "outputs": [],
   "source": [
    "## Focus on success stories\n",
    "#########################\n",
    "device.with.failures <- unique(data.raw$device[n.fails.index] )\n",
    "data.sample <- data.raw[ data.raw$device %in% device.with.failures, ]\n",
    "\n",
    "write.csv(data.sample, row.names = FALSE, file='failures_SUPER.csv')\n",
    "ggplot(data.sample, aes(date, attribute1, color= device, alpha=.03 )) + \n",
    "  geom_line() +   theme_minimal() + \n",
    "  theme(legend.position=\"none\") \n",
    "ggplot(data.sample, aes(attribute1, fill =  as.character(failure), alpha=.01)) +\n",
    "  geom_density()  + theme_minimal()\n",
    "ggplot(data.sample, aes(attribute2, fill =  as.character(failure), alpha=.01)) +\n",
    "  geom_density()  + theme_minimal()\n",
    "ggplot(data.sample, aes(attribute3, fill =  as.character(failure), alpha=.01)) +\n",
    "  geom_density()  + theme_minimal()\n",
    "ggplot(data.sample, aes(attribute4, fill =  as.character(failure), alpha=.01)) +\n",
    "  geom_density()  + theme_minimal()\n",
    "ggplot(data.sample, aes(attribute5, fill =  as.character(failure), alpha=.01)) +\n",
    "  geom_density()  + theme_minimal()\n",
    "ggplot(data.sample, aes(attribute6, fill =  as.character(failure), alpha=.01)) +\n",
    "  geom_density()  + theme_minimal()\n",
    "ggplot(data.sample, aes(attribute7, fill =  as.character(failure), alpha=.01)) +\n",
    "  geom_density()  + theme_minimal()\n",
    "ggplot(data.sample, aes(attribute8, fill =  as.character(failure), alpha=.01)) +\n",
    "  geom_density()  + theme_minimal()\n",
    "ggplot(data.sample, aes(attribute9, fill =  as.character(failure), alpha=.01)) +\n",
    "  geom_density()  + theme_minimal()\n",
    "index.columns <- c(2, 3, 4, 7, 8, 9:18) + 3 \n",
    "# log features selected \n",
    "data.sample[, names(data.sample)[index.columns]] <-  \n",
    "  log(data.sample[, names(data.sample)[index.columns]] + 1 )\n",
    "# standar features \n",
    "index.columns <- grep('attr', names(data.sample))\n",
    "summary(data.sample)\n",
    "index.columns <- grep('attr', names(data.sample))\n",
    "\n",
    "for ( i in index.columns ){\n",
    "  temp <- data.sample[, names(data.sample)[i]]\n",
    "  data.sample[, names(data.sample)[i]] <- scale(temp)\n",
    "}"
   ]
  },
  {
   "cell_type": "code",
   "execution_count": null,
   "metadata": {},
   "outputs": [],
   "source": [
    "ggplot(data.sample, aes(attribute1, fill =  as.character(failure), alpha=.01)) +\n",
    "  geom_density() + theme_minimal()\n",
    "ggplot(data.sample, aes(attribute2, fill =  as.character(failure), alpha=.01)) +\n",
    "  geom_density()  + theme_minimal()\n",
    "ggplot(data.sample, aes(attribute3, fill =  as.character(failure), alpha=.01)) +\n",
    "  geom_density()  + theme_minimal()\n",
    "ggplot(data.sample, aes(attribute4, fill =  as.character(failure), alpha=.01)) +\n",
    "  geom_density()  + theme_minimal()\n",
    "ggplot(data.sample, aes(attribute5, fill =  as.character(failure), alpha=.01)) +\n",
    "  geom_density()  + theme_minimal()\n",
    "ggplot(data.sample, aes(attribute6, fill =  as.character(failure), alpha=.01)) +\n",
    "  geom_density()  + theme_minimal()\n",
    "ggplot(data.sample, aes(attribute7, fill =  as.character(failure), alpha=.01)) +\n",
    "  geom_density()  + theme_minimal()\n",
    "ggplot(data.sample, aes(attribute8, fill =  as.character(failure), alpha=.01)) +\n",
    "  geom_density()  + theme_minimal()\n",
    "ggplot(data.sample, aes(attribute9, fill =  as.character(failure), alpha=.01)) +\n",
    "  geom_density()  + theme_minimal()\n",
    "############### Split data \n",
    "#nn.fails[, c(4, 6) ] <- NULL\n",
    "require(caret)\n",
    "set.seed(0)\n",
    "data.sample$failure <- factor(data.sample$failure)\n",
    "levels(data.sample$failure) <- c('NoFailure', 'Failure')\n",
    "train.index <- createPartition(data.sample)\n",
    "data.sample$date <- data.sample$device <- NULL\n",
    "train <- data.sample[train.index, ]\n",
    "test <- data.sample[-train.index, ]\n",
    "table(train$failure)/dim(train)[1]"
   ]
  },
  {
   "cell_type": "code",
   "execution_count": null,
   "metadata": {},
   "outputs": [],
   "source": [
    "####################   train \n",
    "require(MLmetrics)\n",
    "f1 <- function (data, lev = NULL, model = NULL) {\n",
    "  precision <- posPredValue(data$pred, data$obs, positive = \"Failure\")\n",
    "  recall  <- sensitivity(data$pred, data$obs, positive = \"Failure\")\n",
    "  f1_val <- (2 * precision * recall) / (precision + recall)\n",
    "  names(f1_val) <- c(\"F1\")\n",
    "  f1_val\n",
    "} \n",
    "fit.control <- trainControl( method = \"repeatedcv\", number = 3, repeats = 1,\n",
    "                             allowParallel = TRUE, classProbs = TRUE,\n",
    "                             summaryFunction = f1,  sampling =  \"up\")\n",
    "require(gbm)\n",
    "require(e1071) # svm impmelemntation \n",
    "require(kernlab) # kernels implementation \n",
    "require(LiblineaR)\n",
    "#install.packages('xgboost')\n",
    "require(xgboost)\n",
    "#install.packages('LiblineaR')\n",
    "set.seed(0)"
   ]
  },
  {
   "cell_type": "code",
   "execution_count": null,
   "metadata": {},
   "outputs": [],
   "source": [
    "set.seed(0)\n",
    "gbmFit1 <- train(failure ~ ., data = train, method = \"gbm\", trControl = fit.control,\n",
    "                 verbose = TRUE)\n",
    "gbmFit1\n",
    "#install.packages('xgboost')\n",
    "\n",
    "\n",
    "require(randomForest)\n",
    "rf.Fit1 <- train(failure ~ ., data = train, method = \"rf\", trControl = fit.control,\n",
    "                 verbose = TRUE)\n",
    "rf.Fit1\n",
    "rlg.Fit1 <- train(failure ~ ., data = train, method = \"regLogistic\", \n",
    "                  trControl = fit.control, verbose = TRUE)\n",
    "rlg.Fit1"
   ]
  },
  {
   "cell_type": "code",
   "execution_count": null,
   "metadata": {},
   "outputs": [],
   "source": [
    "require(xgboost)\n",
    "xgb.Fit1 <- train(failure ~ ., data = train, method = \"xgbTree\", \n",
    "                  trControl = fit.control,\n",
    "                  verbose = TRUE)\n",
    "xgb.Fit1"
   ]
  },
  {
   "cell_type": "code",
   "execution_count": null,
   "metadata": {},
   "outputs": [],
   "source": [
    "resamps <- resamples(list(GBM = gbmFit1, XGB = xgb.Fit1,\n",
    "                          RF = rf.Fit1, RLG=rlg.Fit1  ))\n",
    "resamps\n",
    "summary(resamps)"
   ]
  },
  {
   "cell_type": "code",
   "execution_count": null,
   "metadata": {},
   "outputs": [],
   "source": [
    "summary(diff(resamps))"
   ]
  },
  {
   "cell_type": "code",
   "execution_count": null,
   "metadata": {},
   "outputs": [],
   "source": []
  }
 ],
 "metadata": {
  "kernelspec": {
   "display_name": "R",
   "language": "R",
   "name": "ir"
  },
  "language_info": {
   "codemirror_mode": "r",
   "file_extension": ".r",
   "mimetype": "text/x-r-source",
   "name": "R",
   "pygments_lexer": "r",
   "version": "3.6.3"
  }
 },
 "nbformat": 4,
 "nbformat_minor": 4
}
